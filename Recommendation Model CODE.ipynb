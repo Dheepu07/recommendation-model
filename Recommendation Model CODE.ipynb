{
 "cells": [
  {
   "cell_type": "code",
   "execution_count": 1,
   "id": "e0ccbe89",
   "metadata": {},
   "outputs": [],
   "source": [
    "import pandas as pd\n",
    "from surprise import Dataset, Reader, SVD, accuracy\n",
    "from surprise.model_selection import train_test_split"
   ]
  },
  {
   "cell_type": "code",
   "execution_count": 2,
   "id": "fc288bc4",
   "metadata": {},
   "outputs": [
    {
     "name": "stderr",
     "output_type": "stream",
     "text": [
      "C:\\Users\\dheep\\AppData\\Local\\Temp\\ipykernel_28308\\2945397334.py:1: DtypeWarning: Columns (3) have mixed types. Specify dtype option on import or set low_memory=False.\n",
      "  Books = pd.read_csv('Books.csv')\n"
     ]
    },
    {
     "data": {
      "text/html": [
       "<div>\n",
       "<style scoped>\n",
       "    .dataframe tbody tr th:only-of-type {\n",
       "        vertical-align: middle;\n",
       "    }\n",
       "\n",
       "    .dataframe tbody tr th {\n",
       "        vertical-align: top;\n",
       "    }\n",
       "\n",
       "    .dataframe thead th {\n",
       "        text-align: right;\n",
       "    }\n",
       "</style>\n",
       "<table border=\"1\" class=\"dataframe\">\n",
       "  <thead>\n",
       "    <tr style=\"text-align: right;\">\n",
       "      <th></th>\n",
       "      <th>User-ID</th>\n",
       "      <th>Location</th>\n",
       "      <th>Age</th>\n",
       "      <th>ISBN</th>\n",
       "      <th>Book-Rating</th>\n",
       "      <th>Book-Title</th>\n",
       "      <th>Book-Author</th>\n",
       "      <th>Year-Of-Publication</th>\n",
       "      <th>Publisher</th>\n",
       "      <th>Image-URL-S</th>\n",
       "      <th>Image-URL-M</th>\n",
       "      <th>Image-URL-L</th>\n",
       "    </tr>\n",
       "  </thead>\n",
       "  <tbody>\n",
       "    <tr>\n",
       "      <th>0</th>\n",
       "      <td>2</td>\n",
       "      <td>stockton, california, usa</td>\n",
       "      <td>18.0</td>\n",
       "      <td>0195153448</td>\n",
       "      <td>0</td>\n",
       "      <td>Classical Mythology</td>\n",
       "      <td>Mark P. O. Morford</td>\n",
       "      <td>2002</td>\n",
       "      <td>Oxford University Press</td>\n",
       "      <td>http://images.amazon.com/images/P/0195153448.0...</td>\n",
       "      <td>http://images.amazon.com/images/P/0195153448.0...</td>\n",
       "      <td>http://images.amazon.com/images/P/0195153448.0...</td>\n",
       "    </tr>\n",
       "    <tr>\n",
       "      <th>1</th>\n",
       "      <td>8</td>\n",
       "      <td>timmins, ontario, canada</td>\n",
       "      <td>NaN</td>\n",
       "      <td>0002005018</td>\n",
       "      <td>5</td>\n",
       "      <td>Clara Callan</td>\n",
       "      <td>Richard Bruce Wright</td>\n",
       "      <td>2001</td>\n",
       "      <td>HarperFlamingo Canada</td>\n",
       "      <td>http://images.amazon.com/images/P/0002005018.0...</td>\n",
       "      <td>http://images.amazon.com/images/P/0002005018.0...</td>\n",
       "      <td>http://images.amazon.com/images/P/0002005018.0...</td>\n",
       "    </tr>\n",
       "    <tr>\n",
       "      <th>2</th>\n",
       "      <td>11400</td>\n",
       "      <td>ottawa, ontario, canada</td>\n",
       "      <td>49.0</td>\n",
       "      <td>0002005018</td>\n",
       "      <td>0</td>\n",
       "      <td>Clara Callan</td>\n",
       "      <td>Richard Bruce Wright</td>\n",
       "      <td>2001</td>\n",
       "      <td>HarperFlamingo Canada</td>\n",
       "      <td>http://images.amazon.com/images/P/0002005018.0...</td>\n",
       "      <td>http://images.amazon.com/images/P/0002005018.0...</td>\n",
       "      <td>http://images.amazon.com/images/P/0002005018.0...</td>\n",
       "    </tr>\n",
       "    <tr>\n",
       "      <th>3</th>\n",
       "      <td>11676</td>\n",
       "      <td>n/a, n/a, n/a</td>\n",
       "      <td>NaN</td>\n",
       "      <td>0002005018</td>\n",
       "      <td>8</td>\n",
       "      <td>Clara Callan</td>\n",
       "      <td>Richard Bruce Wright</td>\n",
       "      <td>2001</td>\n",
       "      <td>HarperFlamingo Canada</td>\n",
       "      <td>http://images.amazon.com/images/P/0002005018.0...</td>\n",
       "      <td>http://images.amazon.com/images/P/0002005018.0...</td>\n",
       "      <td>http://images.amazon.com/images/P/0002005018.0...</td>\n",
       "    </tr>\n",
       "    <tr>\n",
       "      <th>4</th>\n",
       "      <td>41385</td>\n",
       "      <td>sudbury, ontario, canada</td>\n",
       "      <td>NaN</td>\n",
       "      <td>0002005018</td>\n",
       "      <td>0</td>\n",
       "      <td>Clara Callan</td>\n",
       "      <td>Richard Bruce Wright</td>\n",
       "      <td>2001</td>\n",
       "      <td>HarperFlamingo Canada</td>\n",
       "      <td>http://images.amazon.com/images/P/0002005018.0...</td>\n",
       "      <td>http://images.amazon.com/images/P/0002005018.0...</td>\n",
       "      <td>http://images.amazon.com/images/P/0002005018.0...</td>\n",
       "    </tr>\n",
       "    <tr>\n",
       "      <th>...</th>\n",
       "      <td>...</td>\n",
       "      <td>...</td>\n",
       "      <td>...</td>\n",
       "      <td>...</td>\n",
       "      <td>...</td>\n",
       "      <td>...</td>\n",
       "      <td>...</td>\n",
       "      <td>...</td>\n",
       "      <td>...</td>\n",
       "      <td>...</td>\n",
       "      <td>...</td>\n",
       "      <td>...</td>\n",
       "    </tr>\n",
       "    <tr>\n",
       "      <th>1031131</th>\n",
       "      <td>278851</td>\n",
       "      <td>dallas, texas, usa</td>\n",
       "      <td>33.0</td>\n",
       "      <td>0743203763</td>\n",
       "      <td>0</td>\n",
       "      <td>As Hogan Said . . . : The 389 Best Things Anyo...</td>\n",
       "      <td>Randy Voorhees</td>\n",
       "      <td>2000</td>\n",
       "      <td>Simon &amp;amp; Schuster</td>\n",
       "      <td>http://images.amazon.com/images/P/0743203763.0...</td>\n",
       "      <td>http://images.amazon.com/images/P/0743203763.0...</td>\n",
       "      <td>http://images.amazon.com/images/P/0743203763.0...</td>\n",
       "    </tr>\n",
       "    <tr>\n",
       "      <th>1031132</th>\n",
       "      <td>278851</td>\n",
       "      <td>dallas, texas, usa</td>\n",
       "      <td>33.0</td>\n",
       "      <td>0767907566</td>\n",
       "      <td>5</td>\n",
       "      <td>All Elevations Unknown: An Adventure in the He...</td>\n",
       "      <td>Sam Lightner</td>\n",
       "      <td>2001</td>\n",
       "      <td>Broadway Books</td>\n",
       "      <td>http://images.amazon.com/images/P/0767907566.0...</td>\n",
       "      <td>http://images.amazon.com/images/P/0767907566.0...</td>\n",
       "      <td>http://images.amazon.com/images/P/0767907566.0...</td>\n",
       "    </tr>\n",
       "    <tr>\n",
       "      <th>1031133</th>\n",
       "      <td>278851</td>\n",
       "      <td>dallas, texas, usa</td>\n",
       "      <td>33.0</td>\n",
       "      <td>0884159221</td>\n",
       "      <td>7</td>\n",
       "      <td>Why stop?: A guide to Texas historical roadsid...</td>\n",
       "      <td>Claude Dooley</td>\n",
       "      <td>1985</td>\n",
       "      <td>Lone Star Books</td>\n",
       "      <td>http://images.amazon.com/images/P/0884159221.0...</td>\n",
       "      <td>http://images.amazon.com/images/P/0884159221.0...</td>\n",
       "      <td>http://images.amazon.com/images/P/0884159221.0...</td>\n",
       "    </tr>\n",
       "    <tr>\n",
       "      <th>1031134</th>\n",
       "      <td>278851</td>\n",
       "      <td>dallas, texas, usa</td>\n",
       "      <td>33.0</td>\n",
       "      <td>0912333022</td>\n",
       "      <td>7</td>\n",
       "      <td>The Are You Being Served? Stories: 'Camping In...</td>\n",
       "      <td>Jeremy Lloyd</td>\n",
       "      <td>1997</td>\n",
       "      <td>Kqed Books</td>\n",
       "      <td>http://images.amazon.com/images/P/0912333022.0...</td>\n",
       "      <td>http://images.amazon.com/images/P/0912333022.0...</td>\n",
       "      <td>http://images.amazon.com/images/P/0912333022.0...</td>\n",
       "    </tr>\n",
       "    <tr>\n",
       "      <th>1031135</th>\n",
       "      <td>278851</td>\n",
       "      <td>dallas, texas, usa</td>\n",
       "      <td>33.0</td>\n",
       "      <td>1569661057</td>\n",
       "      <td>10</td>\n",
       "      <td>Dallas Street Map Guide and Directory, 2000 Ed...</td>\n",
       "      <td>Mapsco</td>\n",
       "      <td>1999</td>\n",
       "      <td>American Map Corporation</td>\n",
       "      <td>http://images.amazon.com/images/P/1569661057.0...</td>\n",
       "      <td>http://images.amazon.com/images/P/1569661057.0...</td>\n",
       "      <td>http://images.amazon.com/images/P/1569661057.0...</td>\n",
       "    </tr>\n",
       "  </tbody>\n",
       "</table>\n",
       "<p>1031136 rows × 12 columns</p>\n",
       "</div>"
      ],
      "text/plain": [
       "         User-ID                   Location   Age        ISBN  Book-Rating  \\\n",
       "0              2  stockton, california, usa  18.0  0195153448            0   \n",
       "1              8   timmins, ontario, canada   NaN  0002005018            5   \n",
       "2          11400    ottawa, ontario, canada  49.0  0002005018            0   \n",
       "3          11676              n/a, n/a, n/a   NaN  0002005018            8   \n",
       "4          41385   sudbury, ontario, canada   NaN  0002005018            0   \n",
       "...          ...                        ...   ...         ...          ...   \n",
       "1031131   278851         dallas, texas, usa  33.0  0743203763            0   \n",
       "1031132   278851         dallas, texas, usa  33.0  0767907566            5   \n",
       "1031133   278851         dallas, texas, usa  33.0  0884159221            7   \n",
       "1031134   278851         dallas, texas, usa  33.0  0912333022            7   \n",
       "1031135   278851         dallas, texas, usa  33.0  1569661057           10   \n",
       "\n",
       "                                                Book-Title  \\\n",
       "0                                      Classical Mythology   \n",
       "1                                             Clara Callan   \n",
       "2                                             Clara Callan   \n",
       "3                                             Clara Callan   \n",
       "4                                             Clara Callan   \n",
       "...                                                    ...   \n",
       "1031131  As Hogan Said . . . : The 389 Best Things Anyo...   \n",
       "1031132  All Elevations Unknown: An Adventure in the He...   \n",
       "1031133  Why stop?: A guide to Texas historical roadsid...   \n",
       "1031134  The Are You Being Served? Stories: 'Camping In...   \n",
       "1031135  Dallas Street Map Guide and Directory, 2000 Ed...   \n",
       "\n",
       "                  Book-Author Year-Of-Publication                 Publisher  \\\n",
       "0          Mark P. O. Morford                2002   Oxford University Press   \n",
       "1        Richard Bruce Wright                2001     HarperFlamingo Canada   \n",
       "2        Richard Bruce Wright                2001     HarperFlamingo Canada   \n",
       "3        Richard Bruce Wright                2001     HarperFlamingo Canada   \n",
       "4        Richard Bruce Wright                2001     HarperFlamingo Canada   \n",
       "...                       ...                 ...                       ...   \n",
       "1031131        Randy Voorhees                2000      Simon &amp; Schuster   \n",
       "1031132          Sam Lightner                2001            Broadway Books   \n",
       "1031133         Claude Dooley                1985           Lone Star Books   \n",
       "1031134          Jeremy Lloyd                1997                Kqed Books   \n",
       "1031135                Mapsco                1999  American Map Corporation   \n",
       "\n",
       "                                               Image-URL-S  \\\n",
       "0        http://images.amazon.com/images/P/0195153448.0...   \n",
       "1        http://images.amazon.com/images/P/0002005018.0...   \n",
       "2        http://images.amazon.com/images/P/0002005018.0...   \n",
       "3        http://images.amazon.com/images/P/0002005018.0...   \n",
       "4        http://images.amazon.com/images/P/0002005018.0...   \n",
       "...                                                    ...   \n",
       "1031131  http://images.amazon.com/images/P/0743203763.0...   \n",
       "1031132  http://images.amazon.com/images/P/0767907566.0...   \n",
       "1031133  http://images.amazon.com/images/P/0884159221.0...   \n",
       "1031134  http://images.amazon.com/images/P/0912333022.0...   \n",
       "1031135  http://images.amazon.com/images/P/1569661057.0...   \n",
       "\n",
       "                                               Image-URL-M  \\\n",
       "0        http://images.amazon.com/images/P/0195153448.0...   \n",
       "1        http://images.amazon.com/images/P/0002005018.0...   \n",
       "2        http://images.amazon.com/images/P/0002005018.0...   \n",
       "3        http://images.amazon.com/images/P/0002005018.0...   \n",
       "4        http://images.amazon.com/images/P/0002005018.0...   \n",
       "...                                                    ...   \n",
       "1031131  http://images.amazon.com/images/P/0743203763.0...   \n",
       "1031132  http://images.amazon.com/images/P/0767907566.0...   \n",
       "1031133  http://images.amazon.com/images/P/0884159221.0...   \n",
       "1031134  http://images.amazon.com/images/P/0912333022.0...   \n",
       "1031135  http://images.amazon.com/images/P/1569661057.0...   \n",
       "\n",
       "                                               Image-URL-L  \n",
       "0        http://images.amazon.com/images/P/0195153448.0...  \n",
       "1        http://images.amazon.com/images/P/0002005018.0...  \n",
       "2        http://images.amazon.com/images/P/0002005018.0...  \n",
       "3        http://images.amazon.com/images/P/0002005018.0...  \n",
       "4        http://images.amazon.com/images/P/0002005018.0...  \n",
       "...                                                    ...  \n",
       "1031131  http://images.amazon.com/images/P/0743203763.0...  \n",
       "1031132  http://images.amazon.com/images/P/0767907566.0...  \n",
       "1031133  http://images.amazon.com/images/P/0884159221.0...  \n",
       "1031134  http://images.amazon.com/images/P/0912333022.0...  \n",
       "1031135  http://images.amazon.com/images/P/1569661057.0...  \n",
       "\n",
       "[1031136 rows x 12 columns]"
      ]
     },
     "execution_count": 2,
     "metadata": {},
     "output_type": "execute_result"
    }
   ],
   "source": [
    "Books = pd.read_csv('Books.csv')\n",
    "Users = pd.read_csv('Users.csv')\n",
    "Ratings = pd.read_csv('Ratings.csv')\n",
    "UserRatings = pd.merge(Users,Ratings, on='User-ID')\n",
    "df = pd.merge(UserRatings,Books, on='ISBN')\n",
    "df"
   ]
  },
  {
   "cell_type": "code",
   "execution_count": 3,
   "id": "5ac52ad3",
   "metadata": {},
   "outputs": [],
   "source": [
    "df['Age'].fillna(df['Age'].mean(), inplace=True)\n",
    "\n",
    "reader = Reader(rating_scale=(1, 10))\n"
   ]
  },
  {
   "cell_type": "code",
   "execution_count": 4,
   "id": "57c5a5dc",
   "metadata": {},
   "outputs": [
    {
     "name": "stdout",
     "output_type": "stream",
     "text": [
      "RMSE: 3.4970\n"
     ]
    },
    {
     "data": {
      "text/plain": [
       "3.4970202421572094"
      ]
     },
     "execution_count": 4,
     "metadata": {},
     "output_type": "execute_result"
    }
   ],
   "source": [
    "data = Dataset.load_from_df(df[['User-ID', 'ISBN', 'Book-Rating']], reader)\n",
    "\n",
    "trainset, testset = train_test_split(data, test_size=0.2)\n",
    "\n",
    "model = SVD()\n",
    "\n",
    "model.fit(trainset)\n",
    "\n",
    "predictions = model.test(testset)\n",
    "\n",
    "accuracy.rmse(predictions)\n"
   ]
  },
  {
   "cell_type": "code",
   "execution_count": 5,
   "id": "11fa6f61",
   "metadata": {},
   "outputs": [],
   "source": [
    "#collaborative filtering\n",
    "def get_book_recommendations(user_id, df, model, n_recommendations=5):\n",
    "    \"\"\"Generate top-n book recommendations for a given user based on collaborative filtering.\"\"\"\n",
    "    user_books = df[df['User-ID'] == user_id]\n",
    "    other_books = df[~df['ISBN'].isin(user_books['ISBN'])]\n",
    "    \n",
    "    other_books['Estimated-Rating'] = other_books['ISBN'].apply(lambda x: model.predict(user_id, x).est)\n",
    "    \n",
    "    recommendations = other_books[['Book-Title', 'Book-Author', 'Estimated-Rating', 'Image-URL-S', 'Image-URL-M', 'Image-URL-L']].sort_values(by='Estimated-Rating', ascending=False).head(n_recommendations)\n",
    "    return recommendations"
   ]
  },
  {
   "cell_type": "code",
   "execution_count": 6,
   "id": "cfe5359b",
   "metadata": {},
   "outputs": [
    {
     "name": "stderr",
     "output_type": "stream",
     "text": [
      "C:\\Users\\dheep\\AppData\\Local\\Temp\\ipykernel_28308\\2408220243.py:7: SettingWithCopyWarning: \n",
      "A value is trying to be set on a copy of a slice from a DataFrame.\n",
      "Try using .loc[row_indexer,col_indexer] = value instead\n",
      "\n",
      "See the caveats in the documentation: https://pandas.pydata.org/pandas-docs/stable/user_guide/indexing.html#returning-a-view-versus-a-copy\n",
      "  other_books['Estimated-Rating'] = other_books['ISBN'].apply(lambda x: model.predict(user_id, x).est)\n"
     ]
    },
    {
     "name": "stdout",
     "output_type": "stream",
     "text": [
      "       Book-Title   Book-Author  Estimated-Rating  \\\n",
      "160707       Free  Paul Vincent          7.633781   \n",
      "160715       Free  Paul Vincent          7.633781   \n",
      "160741       Free  Paul Vincent          7.633781   \n",
      "160742       Free  Paul Vincent          7.633781   \n",
      "160743       Free  Paul Vincent          7.633781   \n",
      "\n",
      "                                              Image-URL-S  \\\n",
      "160707  http://images.amazon.com/images/P/1844262553.0...   \n",
      "160715  http://images.amazon.com/images/P/1844262553.0...   \n",
      "160741  http://images.amazon.com/images/P/1844262553.0...   \n",
      "160742  http://images.amazon.com/images/P/1844262553.0...   \n",
      "160743  http://images.amazon.com/images/P/1844262553.0...   \n",
      "\n",
      "                                              Image-URL-M  \\\n",
      "160707  http://images.amazon.com/images/P/1844262553.0...   \n",
      "160715  http://images.amazon.com/images/P/1844262553.0...   \n",
      "160741  http://images.amazon.com/images/P/1844262553.0...   \n",
      "160742  http://images.amazon.com/images/P/1844262553.0...   \n",
      "160743  http://images.amazon.com/images/P/1844262553.0...   \n",
      "\n",
      "                                              Image-URL-L  \n",
      "160707  http://images.amazon.com/images/P/1844262553.0...  \n",
      "160715  http://images.amazon.com/images/P/1844262553.0...  \n",
      "160741  http://images.amazon.com/images/P/1844262553.0...  \n",
      "160742  http://images.amazon.com/images/P/1844262553.0...  \n",
      "160743  http://images.amazon.com/images/P/1844262553.0...  \n"
     ]
    }
   ],
   "source": [
    "user_id = 2\n",
    "recommendations = get_book_recommendations(user_id, df, model, n_recommendations=5)\n",
    "print(recommendations)"
   ]
  },
  {
   "cell_type": "code",
   "execution_count": 7,
   "id": "b5c5088c",
   "metadata": {},
   "outputs": [],
   "source": [
    "import numpy as np\n",
    "\n",
    "def age_group(age):\n",
    "    if age < 18:\n",
    "        return 'Teen'\n",
    "    elif 18 <= age <= 35:\n",
    "        return 'Young Adult'\n",
    "    elif 35 < age <= 50:\n",
    "        return 'Adult'\n",
    "    else:\n",
    "        return 'Senior'\n"
   ]
  },
  {
   "cell_type": "code",
   "execution_count": 8,
   "id": "00b9dd06",
   "metadata": {},
   "outputs": [],
   "source": [
    "df['Age-Group'] = df['Age'].apply(age_group)"
   ]
  },
  {
   "cell_type": "code",
   "execution_count": 9,
   "id": "65164a05",
   "metadata": {},
   "outputs": [],
   "source": [
    "#by age and location\n",
    "def get_recommendations_by_age_location(user_id, df, model, n_recommendations=5):\n",
    "    \n",
    "    user_data = df[df['User-ID'] == user_id]\n",
    "    \n",
    "    if user_data.empty:\n",
    "        print(\"User not found!\")\n",
    "        return None\n",
    "\n",
    "    user_location = user_data['Location'].values[0]\n",
    "    user_age_group = user_data['Age-Group'].values[0]\n",
    "    \n",
    "    print(f\"User Location: {user_location}, User Age Group: {user_age_group}\")\n",
    "    \n",
    "    other_books = df[~df['ISBN'].isin(user_data['ISBN'])]\n",
    "    \n",
    "    filtered_books = other_books[(other_books['Location'] == user_location) & \n",
    "                                 (other_books['Age-Group'] == user_age_group)]\n",
    "    \n",
    "    if len(filtered_books) < n_recommendations:\n",
    "        filtered_books = other_books\n",
    "    \n",
    "    filtered_books['Estimated-Rating'] = filtered_books['ISBN'].apply(lambda x: model.predict(user_id, x).est)\n",
    "    \n",
    "    recommendations = filtered_books[['Book-Title', 'Book-Author', 'Estimated-Rating', 'Image-URL-S', 'Image-URL-M', 'Image-URL-L']].sort_values(by='Estimated-Rating', ascending=False).head(n_recommendations)\n",
    "    \n",
    "    return recommendations"
   ]
  },
  {
   "cell_type": "code",
   "execution_count": 10,
   "id": "66d385ab",
   "metadata": {},
   "outputs": [
    {
     "name": "stdout",
     "output_type": "stream",
     "text": [
      "User Location: stockton, california, usa, User Age Group: Young Adult\n",
      "                                               Book-Title    Book-Author  \\\n",
      "186980                The Clan of the Cave Bear : a novel   Jean M. Auel   \n",
      "9286                   The Five People You Meet in Heaven    Mitch Albom   \n",
      "277120                            The Secret Life of Bees  Sue Monk Kidd   \n",
      "54455   A Child Called \\It\\\": One Child's Courage to S...    Dave Pelzer   \n",
      "91586   Valley of the Horses (Auel, Jean M. , Earth's ...   Jean M. Auel   \n",
      "\n",
      "        Estimated-Rating                                        Image-URL-S  \\\n",
      "186980          5.024893  http://images.amazon.com/images/P/0553148001.0...   \n",
      "9286            5.011109  http://images.amazon.com/images/P/0786868716.0...   \n",
      "277120          4.770473  http://images.amazon.com/images/P/0670894605.0...   \n",
      "54455           4.762982  http://images.amazon.com/images/P/1558743669.0...   \n",
      "91586           4.515017  http://images.amazon.com/images/P/0553234811.0...   \n",
      "\n",
      "                                              Image-URL-M  \\\n",
      "186980  http://images.amazon.com/images/P/0553148001.0...   \n",
      "9286    http://images.amazon.com/images/P/0786868716.0...   \n",
      "277120  http://images.amazon.com/images/P/0670894605.0...   \n",
      "54455   http://images.amazon.com/images/P/1558743669.0...   \n",
      "91586   http://images.amazon.com/images/P/0553234811.0...   \n",
      "\n",
      "                                              Image-URL-L  \n",
      "186980  http://images.amazon.com/images/P/0553148001.0...  \n",
      "9286    http://images.amazon.com/images/P/0786868716.0...  \n",
      "277120  http://images.amazon.com/images/P/0670894605.0...  \n",
      "54455   http://images.amazon.com/images/P/1558743669.0...  \n",
      "91586   http://images.amazon.com/images/P/0553234811.0...  \n"
     ]
    },
    {
     "name": "stderr",
     "output_type": "stream",
     "text": [
      "C:\\Users\\dheep\\AppData\\Local\\Temp\\ipykernel_28308\\2262779235.py:22: SettingWithCopyWarning: \n",
      "A value is trying to be set on a copy of a slice from a DataFrame.\n",
      "Try using .loc[row_indexer,col_indexer] = value instead\n",
      "\n",
      "See the caveats in the documentation: https://pandas.pydata.org/pandas-docs/stable/user_guide/indexing.html#returning-a-view-versus-a-copy\n",
      "  filtered_books['Estimated-Rating'] = filtered_books['ISBN'].apply(lambda x: model.predict(user_id, x).est)\n"
     ]
    }
   ],
   "source": [
    "user_id = 2\n",
    "recommendations_age_location = get_recommendations_by_age_location(user_id, df, model, n_recommendations=5)\n",
    "print(recommendations_age_location)"
   ]
  },
  {
   "cell_type": "code",
   "execution_count": 11,
   "id": "08f2b578",
   "metadata": {},
   "outputs": [],
   "source": [
    "from sklearn.feature_extraction.text import TfidfVectorizer\n",
    "from sklearn.metrics.pairwise import cosine_similarity"
   ]
  },
  {
   "cell_type": "code",
   "execution_count": 14,
   "id": "fb080b8f",
   "metadata": {},
   "outputs": [],
   "source": [
    "from sklearn.neighbors import NearestNeighbors\n",
    "import numpy as np\n"
   ]
  },
  {
   "cell_type": "code",
   "execution_count": 15,
   "id": "85d05f91",
   "metadata": {},
   "outputs": [
    {
     "data": {
      "text/html": [
       "<style>#sk-container-id-1 {color: black;background-color: white;}#sk-container-id-1 pre{padding: 0;}#sk-container-id-1 div.sk-toggleable {background-color: white;}#sk-container-id-1 label.sk-toggleable__label {cursor: pointer;display: block;width: 100%;margin-bottom: 0;padding: 0.3em;box-sizing: border-box;text-align: center;}#sk-container-id-1 label.sk-toggleable__label-arrow:before {content: \"▸\";float: left;margin-right: 0.25em;color: #696969;}#sk-container-id-1 label.sk-toggleable__label-arrow:hover:before {color: black;}#sk-container-id-1 div.sk-estimator:hover label.sk-toggleable__label-arrow:before {color: black;}#sk-container-id-1 div.sk-toggleable__content {max-height: 0;max-width: 0;overflow: hidden;text-align: left;background-color: #f0f8ff;}#sk-container-id-1 div.sk-toggleable__content pre {margin: 0.2em;color: black;border-radius: 0.25em;background-color: #f0f8ff;}#sk-container-id-1 input.sk-toggleable__control:checked~div.sk-toggleable__content {max-height: 200px;max-width: 100%;overflow: auto;}#sk-container-id-1 input.sk-toggleable__control:checked~label.sk-toggleable__label-arrow:before {content: \"▾\";}#sk-container-id-1 div.sk-estimator input.sk-toggleable__control:checked~label.sk-toggleable__label {background-color: #d4ebff;}#sk-container-id-1 div.sk-label input.sk-toggleable__control:checked~label.sk-toggleable__label {background-color: #d4ebff;}#sk-container-id-1 input.sk-hidden--visually {border: 0;clip: rect(1px 1px 1px 1px);clip: rect(1px, 1px, 1px, 1px);height: 1px;margin: -1px;overflow: hidden;padding: 0;position: absolute;width: 1px;}#sk-container-id-1 div.sk-estimator {font-family: monospace;background-color: #f0f8ff;border: 1px dotted black;border-radius: 0.25em;box-sizing: border-box;margin-bottom: 0.5em;}#sk-container-id-1 div.sk-estimator:hover {background-color: #d4ebff;}#sk-container-id-1 div.sk-parallel-item::after {content: \"\";width: 100%;border-bottom: 1px solid gray;flex-grow: 1;}#sk-container-id-1 div.sk-label:hover label.sk-toggleable__label {background-color: #d4ebff;}#sk-container-id-1 div.sk-serial::before {content: \"\";position: absolute;border-left: 1px solid gray;box-sizing: border-box;top: 0;bottom: 0;left: 50%;z-index: 0;}#sk-container-id-1 div.sk-serial {display: flex;flex-direction: column;align-items: center;background-color: white;padding-right: 0.2em;padding-left: 0.2em;position: relative;}#sk-container-id-1 div.sk-item {position: relative;z-index: 1;}#sk-container-id-1 div.sk-parallel {display: flex;align-items: stretch;justify-content: center;background-color: white;position: relative;}#sk-container-id-1 div.sk-item::before, #sk-container-id-1 div.sk-parallel-item::before {content: \"\";position: absolute;border-left: 1px solid gray;box-sizing: border-box;top: 0;bottom: 0;left: 50%;z-index: -1;}#sk-container-id-1 div.sk-parallel-item {display: flex;flex-direction: column;z-index: 1;position: relative;background-color: white;}#sk-container-id-1 div.sk-parallel-item:first-child::after {align-self: flex-end;width: 50%;}#sk-container-id-1 div.sk-parallel-item:last-child::after {align-self: flex-start;width: 50%;}#sk-container-id-1 div.sk-parallel-item:only-child::after {width: 0;}#sk-container-id-1 div.sk-dashed-wrapped {border: 1px dashed gray;margin: 0 0.4em 0.5em 0.4em;box-sizing: border-box;padding-bottom: 0.4em;background-color: white;}#sk-container-id-1 div.sk-label label {font-family: monospace;font-weight: bold;display: inline-block;line-height: 1.2em;}#sk-container-id-1 div.sk-label-container {text-align: center;}#sk-container-id-1 div.sk-container {/* jupyter's `normalize.less` sets `[hidden] { display: none; }` but bootstrap.min.css set `[hidden] { display: none !important; }` so we also need the `!important` here to be able to override the default hidden behavior on the sphinx rendered scikit-learn.org. See: https://github.com/scikit-learn/scikit-learn/issues/21755 */display: inline-block !important;position: relative;}#sk-container-id-1 div.sk-text-repr-fallback {display: none;}</style><div id=\"sk-container-id-1\" class=\"sk-top-container\"><div class=\"sk-text-repr-fallback\"><pre>NearestNeighbors(algorithm=&#x27;brute&#x27;, metric=&#x27;cosine&#x27;)</pre><b>In a Jupyter environment, please rerun this cell to show the HTML representation or trust the notebook. <br />On GitHub, the HTML representation is unable to render, please try loading this page with nbviewer.org.</b></div><div class=\"sk-container\" hidden><div class=\"sk-item\"><div class=\"sk-estimator sk-toggleable\"><input class=\"sk-toggleable__control sk-hidden--visually\" id=\"sk-estimator-id-1\" type=\"checkbox\" checked><label for=\"sk-estimator-id-1\" class=\"sk-toggleable__label sk-toggleable__label-arrow\">NearestNeighbors</label><div class=\"sk-toggleable__content\"><pre>NearestNeighbors(algorithm=&#x27;brute&#x27;, metric=&#x27;cosine&#x27;)</pre></div></div></div></div></div>"
      ],
      "text/plain": [
       "NearestNeighbors(algorithm='brute', metric='cosine')"
      ]
     },
     "execution_count": 15,
     "metadata": {},
     "output_type": "execute_result"
    }
   ],
   "source": [
    "nn_model = NearestNeighbors(metric='cosine', algorithm='brute')\n",
    "nn_model.fit(tfidf_matrix)\n"
   ]
  },
  {
   "cell_type": "code",
   "execution_count": 16,
   "id": "071777b5",
   "metadata": {},
   "outputs": [],
   "source": [
    "#content based reccomendation\n",
    "def get_content_based_recommendations_ann(user_id, df, nn_model, tfidf_matrix, n_recommendations=5):\n",
    "    \n",
    "    user_data = df[df['User-ID'] == user_id]\n",
    "    \n",
    "    if user_data.empty:\n",
    "        print(\"User not found!\")\n",
    "        return None\n",
    "    \n",
    "    highest_rated_book_index = user_data.index[0]\n",
    "    \n",
    "    distances, indices = nn_model.kneighbors(tfidf_matrix[highest_rated_book_index], n_neighbors=n_recommendations+1)\n",
    "    \n",
    "    similar_books_indices = indices.flatten()[1:] \n",
    "    \n",
    "    recommendations = df.iloc[similar_books_indices]\n",
    "    \n",
    "    return recommendations[['Book-Title', 'Book-Author', 'Publisher', 'Image-URL-S', 'Image-URL-M', 'Image-URL-L']]\n"
   ]
  },
  {
   "cell_type": "code",
   "execution_count": 17,
   "id": "bebae78a",
   "metadata": {},
   "outputs": [
    {
     "name": "stdout",
     "output_type": "stream",
     "text": [
      "                                                Book-Title  \\\n",
      "687050                                 Classical mythology   \n",
      "687051                                 Classical mythology   \n",
      "917564                                 Classical mythology   \n",
      "1026517                                Classical Mythology   \n",
      "925830   Who's Who in Classical Mythology (Who's Who Se...   \n",
      "\n",
      "                Book-Author                Publisher  \\\n",
      "687050     Mark P.O Morford                  Longman   \n",
      "687051     Mark P.O Morford                  Longman   \n",
      "917564    Mark P. O Morford                  Longman   \n",
      "1026517  Mark P. O. Morford    John Wiley &amp; Sons   \n",
      "925830        Michael Grant  Oxford University Press   \n",
      "\n",
      "                                               Image-URL-S  \\\n",
      "687050   http://images.amazon.com/images/P/0582280044.0...   \n",
      "687051   http://images.amazon.com/images/P/0582280044.0...   \n",
      "917564   http://images.amazon.com/images/P/0801304652.0...   \n",
      "1026517  http://images.amazon.com/images/P/0801319536.0...   \n",
      "925830   http://images.amazon.com/images/P/0195210301.0...   \n",
      "\n",
      "                                               Image-URL-M  \\\n",
      "687050   http://images.amazon.com/images/P/0582280044.0...   \n",
      "687051   http://images.amazon.com/images/P/0582280044.0...   \n",
      "917564   http://images.amazon.com/images/P/0801304652.0...   \n",
      "1026517  http://images.amazon.com/images/P/0801319536.0...   \n",
      "925830   http://images.amazon.com/images/P/0195210301.0...   \n",
      "\n",
      "                                               Image-URL-L  \n",
      "687050   http://images.amazon.com/images/P/0582280044.0...  \n",
      "687051   http://images.amazon.com/images/P/0582280044.0...  \n",
      "917564   http://images.amazon.com/images/P/0801304652.0...  \n",
      "1026517  http://images.amazon.com/images/P/0801319536.0...  \n",
      "925830   http://images.amazon.com/images/P/0195210301.0...  \n"
     ]
    }
   ],
   "source": [
    "user_id = 2\n",
    "content_recommendations_ann = get_content_based_recommendations_ann(user_id, df, nn_model, tfidf_matrix, n_recommendations=5)\n",
    "print(content_recommendations_ann)"
   ]
  },
  {
   "cell_type": "code",
   "execution_count": 18,
   "id": "1e47acec",
   "metadata": {},
   "outputs": [],
   "source": [
    "book_popularity = df.groupby('Book-Title').agg(\n",
    "    avg_rating=('Book-Rating', 'mean'),      \n",
    "    num_ratings=('Book-Rating', 'count')     \n",
    ").reset_index()\n",
    "popular_books = book_popularity.sort_values(by=['num_ratings', 'avg_rating'], ascending=False)\n"
   ]
  },
  {
   "cell_type": "code",
   "execution_count": 19,
   "id": "58545587",
   "metadata": {},
   "outputs": [
    {
     "name": "stdout",
     "output_type": "stream",
     "text": [
      "                  Book-Title   Book-Author           Publisher  \\\n",
      "0                Wild Animus  Rich Shapero             Too Far   \n",
      "1  The Lovely Bones: A Novel  Alice Sebold       Little, Brown   \n",
      "2          The Da Vinci Code     Dan Brown           Doubleday   \n",
      "3          The Da Vinci Code     DAN BROWN  Random House Audio   \n",
      "4          The Da Vinci Code     DAN BROWN  Random House Audio   \n",
      "\n",
      "                                         Image-URL-S  \\\n",
      "0  http://images.amazon.com/images/P/0971880107.0...   \n",
      "1  http://images.amazon.com/images/P/0316666343.0...   \n",
      "2  http://images.amazon.com/images/P/0385504209.0...   \n",
      "3  http://images.amazon.com/images/P/0739307312.0...   \n",
      "4  http://images.amazon.com/images/P/0739302043.0...   \n",
      "\n",
      "                                         Image-URL-M  \\\n",
      "0  http://images.amazon.com/images/P/0971880107.0...   \n",
      "1  http://images.amazon.com/images/P/0316666343.0...   \n",
      "2  http://images.amazon.com/images/P/0385504209.0...   \n",
      "3  http://images.amazon.com/images/P/0739307312.0...   \n",
      "4  http://images.amazon.com/images/P/0739302043.0...   \n",
      "\n",
      "                                         Image-URL-L  \n",
      "0  http://images.amazon.com/images/P/0971880107.0...  \n",
      "1  http://images.amazon.com/images/P/0316666343.0...  \n",
      "2  http://images.amazon.com/images/P/0385504209.0...  \n",
      "3  http://images.amazon.com/images/P/0739307312.0...  \n",
      "4  http://images.amazon.com/images/P/0739302043.0...  \n"
     ]
    }
   ],
   "source": [
    "def get_popularity_based_recommendations(df, popular_books, n_recommendations=5):\n",
    "    \"\"\"Generate top-n popularity-based book recommendations.\"\"\"\n",
    "    \n",
    "    recommendations = pd.merge(popular_books, df[['Book-Title', 'Book-Author', 'Publisher', 'Image-URL-S', 'Image-URL-M', 'Image-URL-L']].drop_duplicates(), \n",
    "                               on='Book-Title')\n",
    "    \n",
    "    return recommendations[['Book-Title', 'Book-Author', 'Publisher', 'Image-URL-S', 'Image-URL-M', 'Image-URL-L']].head(n_recommendations)\n",
    "\n",
    "popularity_recommendations = get_popularity_based_recommendations(df, popular_books, n_recommendations=5)\n",
    "print(popularity_recommendations)"
   ]
  },
  {
   "cell_type": "code",
   "execution_count": 20,
   "id": "e06b8ad9",
   "metadata": {},
   "outputs": [],
   "source": [
    "from surprise import SVD, Dataset, Reader\n",
    "from surprise.model_selection import train_test_split\n",
    "from surprise import accuracy\n",
    "from surprise.model_selection import cross_validate"
   ]
  },
  {
   "cell_type": "code",
   "execution_count": 21,
   "id": "6d14330c",
   "metadata": {},
   "outputs": [
    {
     "name": "stdout",
     "output_type": "stream",
     "text": [
      "RMSE: 3.4921\n"
     ]
    },
    {
     "data": {
      "text/plain": [
       "3.4921429354122058"
      ]
     },
     "execution_count": 21,
     "metadata": {},
     "output_type": "execute_result"
    }
   ],
   "source": [
    "reader = Reader(rating_scale=(1, 10)) \n",
    "\n",
    "data = Dataset.load_from_df(df[['User-ID', 'ISBN', 'Book-Rating']], reader)\n",
    "\n",
    "trainset, testset = train_test_split(data, test_size=0.2)\n",
    "\n",
    "svd_model = SVD()\n",
    "\n",
    "svd_model.fit(trainset)\n",
    "\n",
    "predictions = svd_model.test(testset)\n",
    "\n",
    "accuracy.rmse(predictions)"
   ]
  },
  {
   "cell_type": "code",
   "execution_count": 22,
   "id": "e20e4716",
   "metadata": {},
   "outputs": [],
   "source": [
    "# recommendations using matrix factorization (SVD)\n",
    "def get_matrix_factorization_recommendations(user_id, df, svd_model, n_recommendations=5):\n",
    "    all_books = df['ISBN'].unique()\n",
    "    \n",
    "    user_rated_books = df[df['User-ID'] == user_id]['ISBN'].tolist()\n",
    "    \n",
    "    predictions = []\n",
    "    for isbn in all_books:\n",
    "        if isbn not in user_rated_books:  \n",
    "            prediction = svd_model.predict(user_id, isbn)\n",
    "            predictions.append((isbn, prediction.est))\n",
    "    \n",
    "    predictions.sort(key=lambda x: x[1], reverse=True)\n",
    "    \n",
    "    top_n_isbns = [pred[0] for pred in predictions[:n_recommendations]]\n",
    "    \n",
    "    recommendations = df[df['ISBN'].isin(top_n_isbns)][['Book-Title', 'Book-Author', 'Publisher', 'Image-URL-S', 'Image-URL-M', 'Image-URL-L']].drop_duplicates()\n",
    "    \n",
    "    return recommendations\n",
    "\n"
   ]
  },
  {
   "cell_type": "code",
   "execution_count": 23,
   "id": "8623a34c",
   "metadata": {},
   "outputs": [
    {
     "name": "stdout",
     "output_type": "stream",
     "text": [
      "                                               Book-Title  \\\n",
      "33024        Harry Potter and the Goblet of Fire (Book 4)   \n",
      "33218   Harry Potter and the Order of the Phoenix (Boo...   \n",
      "43323                                   The Little Prince   \n",
      "160697                                               Free   \n",
      "189658                                  All-American Girl   \n",
      "\n",
      "                      Book-Author           Publisher  \\\n",
      "33024               J. K. Rowling          Scholastic   \n",
      "33218               J. K. Rowling          Scholastic   \n",
      "43323   Antoine de Saint-ExupÃ©ry            Harcourt   \n",
      "160697               Paul Vincent  Upfront Publishing   \n",
      "189658                  Meg Cabot       HarperCollins   \n",
      "\n",
      "                                              Image-URL-S  \\\n",
      "33024   http://images.amazon.com/images/P/0439139597.0...   \n",
      "33218   http://images.amazon.com/images/P/043935806X.0...   \n",
      "43323   http://images.amazon.com/images/P/0156528207.0...   \n",
      "160697  http://images.amazon.com/images/P/1844262553.0...   \n",
      "189658  http://images.amazon.com/images/P/0060294698.0...   \n",
      "\n",
      "                                              Image-URL-M  \\\n",
      "33024   http://images.amazon.com/images/P/0439139597.0...   \n",
      "33218   http://images.amazon.com/images/P/043935806X.0...   \n",
      "43323   http://images.amazon.com/images/P/0156528207.0...   \n",
      "160697  http://images.amazon.com/images/P/1844262553.0...   \n",
      "189658  http://images.amazon.com/images/P/0060294698.0...   \n",
      "\n",
      "                                              Image-URL-L  \n",
      "33024   http://images.amazon.com/images/P/0439139597.0...  \n",
      "33218   http://images.amazon.com/images/P/043935806X.0...  \n",
      "43323   http://images.amazon.com/images/P/0156528207.0...  \n",
      "160697  http://images.amazon.com/images/P/1844262553.0...  \n",
      "189658  http://images.amazon.com/images/P/0060294698.0...  \n"
     ]
    }
   ],
   "source": [
    "user_id = 2\n",
    "matrix_factorization_recommendations = get_matrix_factorization_recommendations(user_id, df, svd_model, n_recommendations=5)\n",
    "print(matrix_factorization_recommendations)"
   ]
  },
  {
   "cell_type": "code",
   "execution_count": 27,
   "id": "73ea8c9f",
   "metadata": {},
   "outputs": [],
   "source": [
    "recommendations_for_first_100 = []"
   ]
  },
  {
   "cell_type": "code",
   "execution_count": 28,
   "id": "ed2d5f4b",
   "metadata": {},
   "outputs": [
    {
     "name": "stdout",
     "output_type": "stream",
     "text": [
      "User Location: stockton, california, usa, User Age Group: Young Adult\n"
     ]
    },
    {
     "name": "stderr",
     "output_type": "stream",
     "text": [
      "C:\\Users\\dheep\\AppData\\Local\\Temp\\ipykernel_28308\\2262779235.py:22: SettingWithCopyWarning: \n",
      "A value is trying to be set on a copy of a slice from a DataFrame.\n",
      "Try using .loc[row_indexer,col_indexer] = value instead\n",
      "\n",
      "See the caveats in the documentation: https://pandas.pydata.org/pandas-docs/stable/user_guide/indexing.html#returning-a-view-versus-a-copy\n",
      "  filtered_books['Estimated-Rating'] = filtered_books['ISBN'].apply(lambda x: model.predict(user_id, x).est)\n",
      "C:\\Users\\dheep\\AppData\\Local\\Temp\\ipykernel_28308\\2408220243.py:7: SettingWithCopyWarning: \n",
      "A value is trying to be set on a copy of a slice from a DataFrame.\n",
      "Try using .loc[row_indexer,col_indexer] = value instead\n",
      "\n",
      "See the caveats in the documentation: https://pandas.pydata.org/pandas-docs/stable/user_guide/indexing.html#returning-a-view-versus-a-copy\n",
      "  other_books['Estimated-Rating'] = other_books['ISBN'].apply(lambda x: model.predict(user_id, x).est)\n"
     ]
    },
    {
     "name": "stdout",
     "output_type": "stream",
     "text": [
      "User Location: timmins, ontario, canada, User Age Group: Adult\n"
     ]
    },
    {
     "name": "stderr",
     "output_type": "stream",
     "text": [
      "C:\\Users\\dheep\\AppData\\Local\\Temp\\ipykernel_28308\\2262779235.py:22: SettingWithCopyWarning: \n",
      "A value is trying to be set on a copy of a slice from a DataFrame.\n",
      "Try using .loc[row_indexer,col_indexer] = value instead\n",
      "\n",
      "See the caveats in the documentation: https://pandas.pydata.org/pandas-docs/stable/user_guide/indexing.html#returning-a-view-versus-a-copy\n",
      "  filtered_books['Estimated-Rating'] = filtered_books['ISBN'].apply(lambda x: model.predict(user_id, x).est)\n",
      "C:\\Users\\dheep\\AppData\\Local\\Temp\\ipykernel_28308\\2408220243.py:7: SettingWithCopyWarning: \n",
      "A value is trying to be set on a copy of a slice from a DataFrame.\n",
      "Try using .loc[row_indexer,col_indexer] = value instead\n",
      "\n",
      "See the caveats in the documentation: https://pandas.pydata.org/pandas-docs/stable/user_guide/indexing.html#returning-a-view-versus-a-copy\n",
      "  other_books['Estimated-Rating'] = other_books['ISBN'].apply(lambda x: model.predict(user_id, x).est)\n"
     ]
    },
    {
     "name": "stdout",
     "output_type": "stream",
     "text": [
      "User Location: ottawa, ontario, canada, User Age Group: Adult\n"
     ]
    },
    {
     "name": "stderr",
     "output_type": "stream",
     "text": [
      "C:\\Users\\dheep\\AppData\\Local\\Temp\\ipykernel_28308\\2262779235.py:22: SettingWithCopyWarning: \n",
      "A value is trying to be set on a copy of a slice from a DataFrame.\n",
      "Try using .loc[row_indexer,col_indexer] = value instead\n",
      "\n",
      "See the caveats in the documentation: https://pandas.pydata.org/pandas-docs/stable/user_guide/indexing.html#returning-a-view-versus-a-copy\n",
      "  filtered_books['Estimated-Rating'] = filtered_books['ISBN'].apply(lambda x: model.predict(user_id, x).est)\n",
      "C:\\Users\\dheep\\AppData\\Local\\Temp\\ipykernel_28308\\2408220243.py:7: SettingWithCopyWarning: \n",
      "A value is trying to be set on a copy of a slice from a DataFrame.\n",
      "Try using .loc[row_indexer,col_indexer] = value instead\n",
      "\n",
      "See the caveats in the documentation: https://pandas.pydata.org/pandas-docs/stable/user_guide/indexing.html#returning-a-view-versus-a-copy\n",
      "  other_books['Estimated-Rating'] = other_books['ISBN'].apply(lambda x: model.predict(user_id, x).est)\n"
     ]
    },
    {
     "name": "stdout",
     "output_type": "stream",
     "text": [
      "User Location: n/a, n/a, n/a, User Age Group: Adult\n"
     ]
    },
    {
     "name": "stderr",
     "output_type": "stream",
     "text": [
      "C:\\Users\\dheep\\AppData\\Local\\Temp\\ipykernel_28308\\2262779235.py:22: SettingWithCopyWarning: \n",
      "A value is trying to be set on a copy of a slice from a DataFrame.\n",
      "Try using .loc[row_indexer,col_indexer] = value instead\n",
      "\n",
      "See the caveats in the documentation: https://pandas.pydata.org/pandas-docs/stable/user_guide/indexing.html#returning-a-view-versus-a-copy\n",
      "  filtered_books['Estimated-Rating'] = filtered_books['ISBN'].apply(lambda x: model.predict(user_id, x).est)\n",
      "C:\\Users\\dheep\\AppData\\Local\\Temp\\ipykernel_28308\\2408220243.py:7: SettingWithCopyWarning: \n",
      "A value is trying to be set on a copy of a slice from a DataFrame.\n",
      "Try using .loc[row_indexer,col_indexer] = value instead\n",
      "\n",
      "See the caveats in the documentation: https://pandas.pydata.org/pandas-docs/stable/user_guide/indexing.html#returning-a-view-versus-a-copy\n",
      "  other_books['Estimated-Rating'] = other_books['ISBN'].apply(lambda x: model.predict(user_id, x).est)\n"
     ]
    },
    {
     "name": "stdout",
     "output_type": "stream",
     "text": [
      "User Location: sudbury, ontario, canada, User Age Group: Adult\n"
     ]
    },
    {
     "name": "stderr",
     "output_type": "stream",
     "text": [
      "C:\\Users\\dheep\\AppData\\Local\\Temp\\ipykernel_28308\\2262779235.py:22: SettingWithCopyWarning: \n",
      "A value is trying to be set on a copy of a slice from a DataFrame.\n",
      "Try using .loc[row_indexer,col_indexer] = value instead\n",
      "\n",
      "See the caveats in the documentation: https://pandas.pydata.org/pandas-docs/stable/user_guide/indexing.html#returning-a-view-versus-a-copy\n",
      "  filtered_books['Estimated-Rating'] = filtered_books['ISBN'].apply(lambda x: model.predict(user_id, x).est)\n",
      "C:\\Users\\dheep\\AppData\\Local\\Temp\\ipykernel_28308\\2408220243.py:7: SettingWithCopyWarning: \n",
      "A value is trying to be set on a copy of a slice from a DataFrame.\n",
      "Try using .loc[row_indexer,col_indexer] = value instead\n",
      "\n",
      "See the caveats in the documentation: https://pandas.pydata.org/pandas-docs/stable/user_guide/indexing.html#returning-a-view-versus-a-copy\n",
      "  other_books['Estimated-Rating'] = other_books['ISBN'].apply(lambda x: model.predict(user_id, x).est)\n"
     ]
    },
    {
     "name": "stdout",
     "output_type": "stream",
     "text": [
      "User Location: toronto, ontario, canada, User Age Group: Young Adult\n"
     ]
    },
    {
     "name": "stderr",
     "output_type": "stream",
     "text": [
      "C:\\Users\\dheep\\AppData\\Local\\Temp\\ipykernel_28308\\2262779235.py:22: SettingWithCopyWarning: \n",
      "A value is trying to be set on a copy of a slice from a DataFrame.\n",
      "Try using .loc[row_indexer,col_indexer] = value instead\n",
      "\n",
      "See the caveats in the documentation: https://pandas.pydata.org/pandas-docs/stable/user_guide/indexing.html#returning-a-view-versus-a-copy\n",
      "  filtered_books['Estimated-Rating'] = filtered_books['ISBN'].apply(lambda x: model.predict(user_id, x).est)\n",
      "C:\\Users\\dheep\\AppData\\Local\\Temp\\ipykernel_28308\\2408220243.py:7: SettingWithCopyWarning: \n",
      "A value is trying to be set on a copy of a slice from a DataFrame.\n",
      "Try using .loc[row_indexer,col_indexer] = value instead\n",
      "\n",
      "See the caveats in the documentation: https://pandas.pydata.org/pandas-docs/stable/user_guide/indexing.html#returning-a-view-versus-a-copy\n",
      "  other_books['Estimated-Rating'] = other_books['ISBN'].apply(lambda x: model.predict(user_id, x).est)\n"
     ]
    },
    {
     "name": "stdout",
     "output_type": "stream",
     "text": [
      "User Location: victoria, british columbia, canada, User Age Group: Adult\n"
     ]
    },
    {
     "name": "stderr",
     "output_type": "stream",
     "text": [
      "C:\\Users\\dheep\\AppData\\Local\\Temp\\ipykernel_28308\\2262779235.py:22: SettingWithCopyWarning: \n",
      "A value is trying to be set on a copy of a slice from a DataFrame.\n",
      "Try using .loc[row_indexer,col_indexer] = value instead\n",
      "\n",
      "See the caveats in the documentation: https://pandas.pydata.org/pandas-docs/stable/user_guide/indexing.html#returning-a-view-versus-a-copy\n",
      "  filtered_books['Estimated-Rating'] = filtered_books['ISBN'].apply(lambda x: model.predict(user_id, x).est)\n",
      "C:\\Users\\dheep\\AppData\\Local\\Temp\\ipykernel_28308\\2408220243.py:7: SettingWithCopyWarning: \n",
      "A value is trying to be set on a copy of a slice from a DataFrame.\n",
      "Try using .loc[row_indexer,col_indexer] = value instead\n",
      "\n",
      "See the caveats in the documentation: https://pandas.pydata.org/pandas-docs/stable/user_guide/indexing.html#returning-a-view-versus-a-copy\n",
      "  other_books['Estimated-Rating'] = other_books['ISBN'].apply(lambda x: model.predict(user_id, x).est)\n"
     ]
    },
    {
     "name": "stdout",
     "output_type": "stream",
     "text": [
      "User Location: ottawa, ontario, canada, User Age Group: Young Adult\n"
     ]
    },
    {
     "name": "stderr",
     "output_type": "stream",
     "text": [
      "C:\\Users\\dheep\\AppData\\Local\\Temp\\ipykernel_28308\\2262779235.py:22: SettingWithCopyWarning: \n",
      "A value is trying to be set on a copy of a slice from a DataFrame.\n",
      "Try using .loc[row_indexer,col_indexer] = value instead\n",
      "\n",
      "See the caveats in the documentation: https://pandas.pydata.org/pandas-docs/stable/user_guide/indexing.html#returning-a-view-versus-a-copy\n",
      "  filtered_books['Estimated-Rating'] = filtered_books['ISBN'].apply(lambda x: model.predict(user_id, x).est)\n",
      "C:\\Users\\dheep\\AppData\\Local\\Temp\\ipykernel_28308\\2408220243.py:7: SettingWithCopyWarning: \n",
      "A value is trying to be set on a copy of a slice from a DataFrame.\n",
      "Try using .loc[row_indexer,col_indexer] = value instead\n",
      "\n",
      "See the caveats in the documentation: https://pandas.pydata.org/pandas-docs/stable/user_guide/indexing.html#returning-a-view-versus-a-copy\n",
      "  other_books['Estimated-Rating'] = other_books['ISBN'].apply(lambda x: model.predict(user_id, x).est)\n"
     ]
    },
    {
     "name": "stdout",
     "output_type": "stream",
     "text": [
      "User Location: ottawa, ,, User Age Group: Adult\n"
     ]
    },
    {
     "name": "stderr",
     "output_type": "stream",
     "text": [
      "C:\\Users\\dheep\\AppData\\Local\\Temp\\ipykernel_28308\\2262779235.py:22: SettingWithCopyWarning: \n",
      "A value is trying to be set on a copy of a slice from a DataFrame.\n",
      "Try using .loc[row_indexer,col_indexer] = value instead\n",
      "\n",
      "See the caveats in the documentation: https://pandas.pydata.org/pandas-docs/stable/user_guide/indexing.html#returning-a-view-versus-a-copy\n",
      "  filtered_books['Estimated-Rating'] = filtered_books['ISBN'].apply(lambda x: model.predict(user_id, x).est)\n",
      "C:\\Users\\dheep\\AppData\\Local\\Temp\\ipykernel_28308\\2408220243.py:7: SettingWithCopyWarning: \n",
      "A value is trying to be set on a copy of a slice from a DataFrame.\n",
      "Try using .loc[row_indexer,col_indexer] = value instead\n",
      "\n",
      "See the caveats in the documentation: https://pandas.pydata.org/pandas-docs/stable/user_guide/indexing.html#returning-a-view-versus-a-copy\n",
      "  other_books['Estimated-Rating'] = other_books['ISBN'].apply(lambda x: model.predict(user_id, x).est)\n"
     ]
    },
    {
     "name": "stdout",
     "output_type": "stream",
     "text": [
      "User Location: kingston, ontario, canada, User Age Group: Adult\n"
     ]
    },
    {
     "name": "stderr",
     "output_type": "stream",
     "text": [
      "C:\\Users\\dheep\\AppData\\Local\\Temp\\ipykernel_28308\\2262779235.py:22: SettingWithCopyWarning: \n",
      "A value is trying to be set on a copy of a slice from a DataFrame.\n",
      "Try using .loc[row_indexer,col_indexer] = value instead\n",
      "\n",
      "See the caveats in the documentation: https://pandas.pydata.org/pandas-docs/stable/user_guide/indexing.html#returning-a-view-versus-a-copy\n",
      "  filtered_books['Estimated-Rating'] = filtered_books['ISBN'].apply(lambda x: model.predict(user_id, x).est)\n",
      "C:\\Users\\dheep\\AppData\\Local\\Temp\\ipykernel_28308\\2408220243.py:7: SettingWithCopyWarning: \n",
      "A value is trying to be set on a copy of a slice from a DataFrame.\n",
      "Try using .loc[row_indexer,col_indexer] = value instead\n",
      "\n",
      "See the caveats in the documentation: https://pandas.pydata.org/pandas-docs/stable/user_guide/indexing.html#returning-a-view-versus-a-copy\n",
      "  other_books['Estimated-Rating'] = other_books['ISBN'].apply(lambda x: model.predict(user_id, x).est)\n"
     ]
    },
    {
     "name": "stdout",
     "output_type": "stream",
     "text": [
      "User Location: ottawa, ontario, canada, User Age Group: Young Adult\n"
     ]
    },
    {
     "name": "stderr",
     "output_type": "stream",
     "text": [
      "C:\\Users\\dheep\\AppData\\Local\\Temp\\ipykernel_28308\\2262779235.py:22: SettingWithCopyWarning: \n",
      "A value is trying to be set on a copy of a slice from a DataFrame.\n",
      "Try using .loc[row_indexer,col_indexer] = value instead\n",
      "\n",
      "See the caveats in the documentation: https://pandas.pydata.org/pandas-docs/stable/user_guide/indexing.html#returning-a-view-versus-a-copy\n",
      "  filtered_books['Estimated-Rating'] = filtered_books['ISBN'].apply(lambda x: model.predict(user_id, x).est)\n",
      "C:\\Users\\dheep\\AppData\\Local\\Temp\\ipykernel_28308\\2408220243.py:7: SettingWithCopyWarning: \n",
      "A value is trying to be set on a copy of a slice from a DataFrame.\n",
      "Try using .loc[row_indexer,col_indexer] = value instead\n",
      "\n",
      "See the caveats in the documentation: https://pandas.pydata.org/pandas-docs/stable/user_guide/indexing.html#returning-a-view-versus-a-copy\n",
      "  other_books['Estimated-Rating'] = other_books['ISBN'].apply(lambda x: model.predict(user_id, x).est)\n"
     ]
    },
    {
     "name": "stdout",
     "output_type": "stream",
     "text": [
      "User Location: comber, ontario, canada, User Age Group: Adult\n"
     ]
    },
    {
     "name": "stderr",
     "output_type": "stream",
     "text": [
      "C:\\Users\\dheep\\AppData\\Local\\Temp\\ipykernel_28308\\2262779235.py:22: SettingWithCopyWarning: \n",
      "A value is trying to be set on a copy of a slice from a DataFrame.\n",
      "Try using .loc[row_indexer,col_indexer] = value instead\n",
      "\n",
      "See the caveats in the documentation: https://pandas.pydata.org/pandas-docs/stable/user_guide/indexing.html#returning-a-view-versus-a-copy\n",
      "  filtered_books['Estimated-Rating'] = filtered_books['ISBN'].apply(lambda x: model.predict(user_id, x).est)\n",
      "C:\\Users\\dheep\\AppData\\Local\\Temp\\ipykernel_28308\\2408220243.py:7: SettingWithCopyWarning: \n",
      "A value is trying to be set on a copy of a slice from a DataFrame.\n",
      "Try using .loc[row_indexer,col_indexer] = value instead\n",
      "\n",
      "See the caveats in the documentation: https://pandas.pydata.org/pandas-docs/stable/user_guide/indexing.html#returning-a-view-versus-a-copy\n",
      "  other_books['Estimated-Rating'] = other_books['ISBN'].apply(lambda x: model.predict(user_id, x).est)\n"
     ]
    },
    {
     "name": "stdout",
     "output_type": "stream",
     "text": [
      "User Location: guelph, ontario, canada, User Age Group: Adult\n"
     ]
    },
    {
     "name": "stderr",
     "output_type": "stream",
     "text": [
      "C:\\Users\\dheep\\AppData\\Local\\Temp\\ipykernel_28308\\2262779235.py:22: SettingWithCopyWarning: \n",
      "A value is trying to be set on a copy of a slice from a DataFrame.\n",
      "Try using .loc[row_indexer,col_indexer] = value instead\n",
      "\n",
      "See the caveats in the documentation: https://pandas.pydata.org/pandas-docs/stable/user_guide/indexing.html#returning-a-view-versus-a-copy\n",
      "  filtered_books['Estimated-Rating'] = filtered_books['ISBN'].apply(lambda x: model.predict(user_id, x).est)\n",
      "C:\\Users\\dheep\\AppData\\Local\\Temp\\ipykernel_28308\\2408220243.py:7: SettingWithCopyWarning: \n",
      "A value is trying to be set on a copy of a slice from a DataFrame.\n",
      "Try using .loc[row_indexer,col_indexer] = value instead\n",
      "\n",
      "See the caveats in the documentation: https://pandas.pydata.org/pandas-docs/stable/user_guide/indexing.html#returning-a-view-versus-a-copy\n",
      "  other_books['Estimated-Rating'] = other_books['ISBN'].apply(lambda x: model.predict(user_id, x).est)\n"
     ]
    },
    {
     "name": "stdout",
     "output_type": "stream",
     "text": [
      "User Location: halifax, nova scotia, canada, User Age Group: Senior\n"
     ]
    },
    {
     "name": "stderr",
     "output_type": "stream",
     "text": [
      "C:\\Users\\dheep\\AppData\\Local\\Temp\\ipykernel_28308\\2262779235.py:22: SettingWithCopyWarning: \n",
      "A value is trying to be set on a copy of a slice from a DataFrame.\n",
      "Try using .loc[row_indexer,col_indexer] = value instead\n",
      "\n",
      "See the caveats in the documentation: https://pandas.pydata.org/pandas-docs/stable/user_guide/indexing.html#returning-a-view-versus-a-copy\n",
      "  filtered_books['Estimated-Rating'] = filtered_books['ISBN'].apply(lambda x: model.predict(user_id, x).est)\n",
      "C:\\Users\\dheep\\AppData\\Local\\Temp\\ipykernel_28308\\2408220243.py:7: SettingWithCopyWarning: \n",
      "A value is trying to be set on a copy of a slice from a DataFrame.\n",
      "Try using .loc[row_indexer,col_indexer] = value instead\n",
      "\n",
      "See the caveats in the documentation: https://pandas.pydata.org/pandas-docs/stable/user_guide/indexing.html#returning-a-view-versus-a-copy\n",
      "  other_books['Estimated-Rating'] = other_books['ISBN'].apply(lambda x: model.predict(user_id, x).est)\n"
     ]
    },
    {
     "name": "stdout",
     "output_type": "stream",
     "text": [
      "User Location: fredericton, new brunswick, canada, User Age Group: Young Adult\n"
     ]
    },
    {
     "name": "stderr",
     "output_type": "stream",
     "text": [
      "C:\\Users\\dheep\\AppData\\Local\\Temp\\ipykernel_28308\\2262779235.py:22: SettingWithCopyWarning: \n",
      "A value is trying to be set on a copy of a slice from a DataFrame.\n",
      "Try using .loc[row_indexer,col_indexer] = value instead\n",
      "\n",
      "See the caveats in the documentation: https://pandas.pydata.org/pandas-docs/stable/user_guide/indexing.html#returning-a-view-versus-a-copy\n",
      "  filtered_books['Estimated-Rating'] = filtered_books['ISBN'].apply(lambda x: model.predict(user_id, x).est)\n",
      "C:\\Users\\dheep\\AppData\\Local\\Temp\\ipykernel_28308\\2408220243.py:7: SettingWithCopyWarning: \n",
      "A value is trying to be set on a copy of a slice from a DataFrame.\n",
      "Try using .loc[row_indexer,col_indexer] = value instead\n",
      "\n",
      "See the caveats in the documentation: https://pandas.pydata.org/pandas-docs/stable/user_guide/indexing.html#returning-a-view-versus-a-copy\n",
      "  other_books['Estimated-Rating'] = other_books['ISBN'].apply(lambda x: model.predict(user_id, x).est)\n"
     ]
    },
    {
     "name": "stdout",
     "output_type": "stream",
     "text": [
      "User Location: wichita, kansas, usa, User Age Group: Senior\n"
     ]
    },
    {
     "name": "stderr",
     "output_type": "stream",
     "text": [
      "C:\\Users\\dheep\\AppData\\Local\\Temp\\ipykernel_28308\\2262779235.py:22: SettingWithCopyWarning: \n",
      "A value is trying to be set on a copy of a slice from a DataFrame.\n",
      "Try using .loc[row_indexer,col_indexer] = value instead\n",
      "\n",
      "See the caveats in the documentation: https://pandas.pydata.org/pandas-docs/stable/user_guide/indexing.html#returning-a-view-versus-a-copy\n",
      "  filtered_books['Estimated-Rating'] = filtered_books['ISBN'].apply(lambda x: model.predict(user_id, x).est)\n",
      "C:\\Users\\dheep\\AppData\\Local\\Temp\\ipykernel_28308\\2408220243.py:7: SettingWithCopyWarning: \n",
      "A value is trying to be set on a copy of a slice from a DataFrame.\n",
      "Try using .loc[row_indexer,col_indexer] = value instead\n",
      "\n",
      "See the caveats in the documentation: https://pandas.pydata.org/pandas-docs/stable/user_guide/indexing.html#returning-a-view-versus-a-copy\n",
      "  other_books['Estimated-Rating'] = other_books['ISBN'].apply(lambda x: model.predict(user_id, x).est)\n"
     ]
    },
    {
     "name": "stdout",
     "output_type": "stream",
     "text": [
      "User Location: ottawa, ontario, canada, User Age Group: Adult\n"
     ]
    },
    {
     "name": "stderr",
     "output_type": "stream",
     "text": [
      "C:\\Users\\dheep\\AppData\\Local\\Temp\\ipykernel_28308\\2262779235.py:22: SettingWithCopyWarning: \n",
      "A value is trying to be set on a copy of a slice from a DataFrame.\n",
      "Try using .loc[row_indexer,col_indexer] = value instead\n",
      "\n",
      "See the caveats in the documentation: https://pandas.pydata.org/pandas-docs/stable/user_guide/indexing.html#returning-a-view-versus-a-copy\n",
      "  filtered_books['Estimated-Rating'] = filtered_books['ISBN'].apply(lambda x: model.predict(user_id, x).est)\n",
      "C:\\Users\\dheep\\AppData\\Local\\Temp\\ipykernel_28308\\2408220243.py:7: SettingWithCopyWarning: \n",
      "A value is trying to be set on a copy of a slice from a DataFrame.\n",
      "Try using .loc[row_indexer,col_indexer] = value instead\n",
      "\n",
      "See the caveats in the documentation: https://pandas.pydata.org/pandas-docs/stable/user_guide/indexing.html#returning-a-view-versus-a-copy\n",
      "  other_books['Estimated-Rating'] = other_books['ISBN'].apply(lambda x: model.predict(user_id, x).est)\n"
     ]
    },
    {
     "name": "stdout",
     "output_type": "stream",
     "text": [
      "User Location: kansas city, missouri, usa, User Age Group: Senior\n"
     ]
    },
    {
     "name": "stderr",
     "output_type": "stream",
     "text": [
      "C:\\Users\\dheep\\AppData\\Local\\Temp\\ipykernel_28308\\2262779235.py:22: SettingWithCopyWarning: \n",
      "A value is trying to be set on a copy of a slice from a DataFrame.\n",
      "Try using .loc[row_indexer,col_indexer] = value instead\n",
      "\n",
      "See the caveats in the documentation: https://pandas.pydata.org/pandas-docs/stable/user_guide/indexing.html#returning-a-view-versus-a-copy\n",
      "  filtered_books['Estimated-Rating'] = filtered_books['ISBN'].apply(lambda x: model.predict(user_id, x).est)\n",
      "C:\\Users\\dheep\\AppData\\Local\\Temp\\ipykernel_28308\\2408220243.py:7: SettingWithCopyWarning: \n",
      "A value is trying to be set on a copy of a slice from a DataFrame.\n",
      "Try using .loc[row_indexer,col_indexer] = value instead\n",
      "\n",
      "See the caveats in the documentation: https://pandas.pydata.org/pandas-docs/stable/user_guide/indexing.html#returning-a-view-versus-a-copy\n",
      "  other_books['Estimated-Rating'] = other_books['ISBN'].apply(lambda x: model.predict(user_id, x).est)\n"
     ]
    },
    {
     "name": "stdout",
     "output_type": "stream",
     "text": [
      "User Location: oregon city, oregon, usa, User Age Group: Senior\n"
     ]
    },
    {
     "name": "stderr",
     "output_type": "stream",
     "text": [
      "C:\\Users\\dheep\\AppData\\Local\\Temp\\ipykernel_28308\\2262779235.py:22: SettingWithCopyWarning: \n",
      "A value is trying to be set on a copy of a slice from a DataFrame.\n",
      "Try using .loc[row_indexer,col_indexer] = value instead\n",
      "\n",
      "See the caveats in the documentation: https://pandas.pydata.org/pandas-docs/stable/user_guide/indexing.html#returning-a-view-versus-a-copy\n",
      "  filtered_books['Estimated-Rating'] = filtered_books['ISBN'].apply(lambda x: model.predict(user_id, x).est)\n",
      "C:\\Users\\dheep\\AppData\\Local\\Temp\\ipykernel_28308\\2408220243.py:7: SettingWithCopyWarning: \n",
      "A value is trying to be set on a copy of a slice from a DataFrame.\n",
      "Try using .loc[row_indexer,col_indexer] = value instead\n",
      "\n",
      "See the caveats in the documentation: https://pandas.pydata.org/pandas-docs/stable/user_guide/indexing.html#returning-a-view-versus-a-copy\n",
      "  other_books['Estimated-Rating'] = other_books['ISBN'].apply(lambda x: model.predict(user_id, x).est)\n"
     ]
    },
    {
     "name": "stdout",
     "output_type": "stream",
     "text": [
      "User Location: milpitas, california, usa, User Age Group: Adult\n"
     ]
    },
    {
     "name": "stderr",
     "output_type": "stream",
     "text": [
      "C:\\Users\\dheep\\AppData\\Local\\Temp\\ipykernel_28308\\2262779235.py:22: SettingWithCopyWarning: \n",
      "A value is trying to be set on a copy of a slice from a DataFrame.\n",
      "Try using .loc[row_indexer,col_indexer] = value instead\n",
      "\n",
      "See the caveats in the documentation: https://pandas.pydata.org/pandas-docs/stable/user_guide/indexing.html#returning-a-view-versus-a-copy\n",
      "  filtered_books['Estimated-Rating'] = filtered_books['ISBN'].apply(lambda x: model.predict(user_id, x).est)\n",
      "C:\\Users\\dheep\\AppData\\Local\\Temp\\ipykernel_28308\\2408220243.py:7: SettingWithCopyWarning: \n",
      "A value is trying to be set on a copy of a slice from a DataFrame.\n",
      "Try using .loc[row_indexer,col_indexer] = value instead\n",
      "\n",
      "See the caveats in the documentation: https://pandas.pydata.org/pandas-docs/stable/user_guide/indexing.html#returning-a-view-versus-a-copy\n",
      "  other_books['Estimated-Rating'] = other_books['ISBN'].apply(lambda x: model.predict(user_id, x).est)\n"
     ]
    },
    {
     "name": "stdout",
     "output_type": "stream",
     "text": [
      "User Location: medford, new york, usa, User Age Group: Adult\n"
     ]
    },
    {
     "name": "stderr",
     "output_type": "stream",
     "text": [
      "C:\\Users\\dheep\\AppData\\Local\\Temp\\ipykernel_28308\\2262779235.py:22: SettingWithCopyWarning: \n",
      "A value is trying to be set on a copy of a slice from a DataFrame.\n",
      "Try using .loc[row_indexer,col_indexer] = value instead\n",
      "\n",
      "See the caveats in the documentation: https://pandas.pydata.org/pandas-docs/stable/user_guide/indexing.html#returning-a-view-versus-a-copy\n",
      "  filtered_books['Estimated-Rating'] = filtered_books['ISBN'].apply(lambda x: model.predict(user_id, x).est)\n",
      "C:\\Users\\dheep\\AppData\\Local\\Temp\\ipykernel_28308\\2408220243.py:7: SettingWithCopyWarning: \n",
      "A value is trying to be set on a copy of a slice from a DataFrame.\n",
      "Try using .loc[row_indexer,col_indexer] = value instead\n",
      "\n",
      "See the caveats in the documentation: https://pandas.pydata.org/pandas-docs/stable/user_guide/indexing.html#returning-a-view-versus-a-copy\n",
      "  other_books['Estimated-Rating'] = other_books['ISBN'].apply(lambda x: model.predict(user_id, x).est)\n"
     ]
    },
    {
     "name": "stdout",
     "output_type": "stream",
     "text": [
      "User Location: denver, colorado, usa, User Age Group: Young Adult\n"
     ]
    },
    {
     "name": "stderr",
     "output_type": "stream",
     "text": [
      "C:\\Users\\dheep\\AppData\\Local\\Temp\\ipykernel_28308\\2262779235.py:22: SettingWithCopyWarning: \n",
      "A value is trying to be set on a copy of a slice from a DataFrame.\n",
      "Try using .loc[row_indexer,col_indexer] = value instead\n",
      "\n",
      "See the caveats in the documentation: https://pandas.pydata.org/pandas-docs/stable/user_guide/indexing.html#returning-a-view-versus-a-copy\n",
      "  filtered_books['Estimated-Rating'] = filtered_books['ISBN'].apply(lambda x: model.predict(user_id, x).est)\n",
      "C:\\Users\\dheep\\AppData\\Local\\Temp\\ipykernel_28308\\2408220243.py:7: SettingWithCopyWarning: \n",
      "A value is trying to be set on a copy of a slice from a DataFrame.\n",
      "Try using .loc[row_indexer,col_indexer] = value instead\n",
      "\n",
      "See the caveats in the documentation: https://pandas.pydata.org/pandas-docs/stable/user_guide/indexing.html#returning-a-view-versus-a-copy\n",
      "  other_books['Estimated-Rating'] = other_books['ISBN'].apply(lambda x: model.predict(user_id, x).est)\n"
     ]
    },
    {
     "name": "stdout",
     "output_type": "stream",
     "text": [
      "User Location: edmonton, alberta, canada, User Age Group: Adult\n"
     ]
    },
    {
     "name": "stderr",
     "output_type": "stream",
     "text": [
      "C:\\Users\\dheep\\AppData\\Local\\Temp\\ipykernel_28308\\2262779235.py:22: SettingWithCopyWarning: \n",
      "A value is trying to be set on a copy of a slice from a DataFrame.\n",
      "Try using .loc[row_indexer,col_indexer] = value instead\n",
      "\n",
      "See the caveats in the documentation: https://pandas.pydata.org/pandas-docs/stable/user_guide/indexing.html#returning-a-view-versus-a-copy\n",
      "  filtered_books['Estimated-Rating'] = filtered_books['ISBN'].apply(lambda x: model.predict(user_id, x).est)\n",
      "C:\\Users\\dheep\\AppData\\Local\\Temp\\ipykernel_28308\\2408220243.py:7: SettingWithCopyWarning: \n",
      "A value is trying to be set on a copy of a slice from a DataFrame.\n",
      "Try using .loc[row_indexer,col_indexer] = value instead\n",
      "\n",
      "See the caveats in the documentation: https://pandas.pydata.org/pandas-docs/stable/user_guide/indexing.html#returning-a-view-versus-a-copy\n",
      "  other_books['Estimated-Rating'] = other_books['ISBN'].apply(lambda x: model.predict(user_id, x).est)\n"
     ]
    },
    {
     "name": "stdout",
     "output_type": "stream",
     "text": [
      "User Location: vacaville, california, usa, User Age Group: Adult\n"
     ]
    },
    {
     "name": "stderr",
     "output_type": "stream",
     "text": [
      "C:\\Users\\dheep\\AppData\\Local\\Temp\\ipykernel_28308\\2262779235.py:22: SettingWithCopyWarning: \n",
      "A value is trying to be set on a copy of a slice from a DataFrame.\n",
      "Try using .loc[row_indexer,col_indexer] = value instead\n",
      "\n",
      "See the caveats in the documentation: https://pandas.pydata.org/pandas-docs/stable/user_guide/indexing.html#returning-a-view-versus-a-copy\n",
      "  filtered_books['Estimated-Rating'] = filtered_books['ISBN'].apply(lambda x: model.predict(user_id, x).est)\n",
      "C:\\Users\\dheep\\AppData\\Local\\Temp\\ipykernel_28308\\2408220243.py:7: SettingWithCopyWarning: \n",
      "A value is trying to be set on a copy of a slice from a DataFrame.\n",
      "Try using .loc[row_indexer,col_indexer] = value instead\n",
      "\n",
      "See the caveats in the documentation: https://pandas.pydata.org/pandas-docs/stable/user_guide/indexing.html#returning-a-view-versus-a-copy\n",
      "  other_books['Estimated-Rating'] = other_books['ISBN'].apply(lambda x: model.predict(user_id, x).est)\n"
     ]
    },
    {
     "name": "stdout",
     "output_type": "stream",
     "text": [
      "User Location: indiana, pennsylvania, usa, User Age Group: Adult\n"
     ]
    },
    {
     "name": "stderr",
     "output_type": "stream",
     "text": [
      "C:\\Users\\dheep\\AppData\\Local\\Temp\\ipykernel_28308\\2262779235.py:22: SettingWithCopyWarning: \n",
      "A value is trying to be set on a copy of a slice from a DataFrame.\n",
      "Try using .loc[row_indexer,col_indexer] = value instead\n",
      "\n",
      "See the caveats in the documentation: https://pandas.pydata.org/pandas-docs/stable/user_guide/indexing.html#returning-a-view-versus-a-copy\n",
      "  filtered_books['Estimated-Rating'] = filtered_books['ISBN'].apply(lambda x: model.predict(user_id, x).est)\n",
      "C:\\Users\\dheep\\AppData\\Local\\Temp\\ipykernel_28308\\2408220243.py:7: SettingWithCopyWarning: \n",
      "A value is trying to be set on a copy of a slice from a DataFrame.\n",
      "Try using .loc[row_indexer,col_indexer] = value instead\n",
      "\n",
      "See the caveats in the documentation: https://pandas.pydata.org/pandas-docs/stable/user_guide/indexing.html#returning-a-view-versus-a-copy\n",
      "  other_books['Estimated-Rating'] = other_books['ISBN'].apply(lambda x: model.predict(user_id, x).est)\n"
     ]
    },
    {
     "name": "stdout",
     "output_type": "stream",
     "text": [
      "User Location: payson, arizona, usa, User Age Group: Adult\n"
     ]
    },
    {
     "name": "stderr",
     "output_type": "stream",
     "text": [
      "C:\\Users\\dheep\\AppData\\Local\\Temp\\ipykernel_28308\\2262779235.py:22: SettingWithCopyWarning: \n",
      "A value is trying to be set on a copy of a slice from a DataFrame.\n",
      "Try using .loc[row_indexer,col_indexer] = value instead\n",
      "\n",
      "See the caveats in the documentation: https://pandas.pydata.org/pandas-docs/stable/user_guide/indexing.html#returning-a-view-versus-a-copy\n",
      "  filtered_books['Estimated-Rating'] = filtered_books['ISBN'].apply(lambda x: model.predict(user_id, x).est)\n",
      "C:\\Users\\dheep\\AppData\\Local\\Temp\\ipykernel_28308\\2408220243.py:7: SettingWithCopyWarning: \n",
      "A value is trying to be set on a copy of a slice from a DataFrame.\n",
      "Try using .loc[row_indexer,col_indexer] = value instead\n",
      "\n",
      "See the caveats in the documentation: https://pandas.pydata.org/pandas-docs/stable/user_guide/indexing.html#returning-a-view-versus-a-copy\n",
      "  other_books['Estimated-Rating'] = other_books['ISBN'].apply(lambda x: model.predict(user_id, x).est)\n"
     ]
    },
    {
     "name": "stdout",
     "output_type": "stream",
     "text": [
      "User Location: columbus, ohio, usa, User Age Group: Adult\n"
     ]
    },
    {
     "name": "stderr",
     "output_type": "stream",
     "text": [
      "C:\\Users\\dheep\\AppData\\Local\\Temp\\ipykernel_28308\\2262779235.py:22: SettingWithCopyWarning: \n",
      "A value is trying to be set on a copy of a slice from a DataFrame.\n",
      "Try using .loc[row_indexer,col_indexer] = value instead\n",
      "\n",
      "See the caveats in the documentation: https://pandas.pydata.org/pandas-docs/stable/user_guide/indexing.html#returning-a-view-versus-a-copy\n",
      "  filtered_books['Estimated-Rating'] = filtered_books['ISBN'].apply(lambda x: model.predict(user_id, x).est)\n",
      "C:\\Users\\dheep\\AppData\\Local\\Temp\\ipykernel_28308\\2408220243.py:7: SettingWithCopyWarning: \n",
      "A value is trying to be set on a copy of a slice from a DataFrame.\n",
      "Try using .loc[row_indexer,col_indexer] = value instead\n",
      "\n",
      "See the caveats in the documentation: https://pandas.pydata.org/pandas-docs/stable/user_guide/indexing.html#returning-a-view-versus-a-copy\n",
      "  other_books['Estimated-Rating'] = other_books['ISBN'].apply(lambda x: model.predict(user_id, x).est)\n"
     ]
    },
    {
     "name": "stdout",
     "output_type": "stream",
     "text": [
      "User Location: knoxville, tennessee, usa, User Age Group: Young Adult\n"
     ]
    },
    {
     "name": "stderr",
     "output_type": "stream",
     "text": [
      "C:\\Users\\dheep\\AppData\\Local\\Temp\\ipykernel_28308\\2262779235.py:22: SettingWithCopyWarning: \n",
      "A value is trying to be set on a copy of a slice from a DataFrame.\n",
      "Try using .loc[row_indexer,col_indexer] = value instead\n",
      "\n",
      "See the caveats in the documentation: https://pandas.pydata.org/pandas-docs/stable/user_guide/indexing.html#returning-a-view-versus-a-copy\n",
      "  filtered_books['Estimated-Rating'] = filtered_books['ISBN'].apply(lambda x: model.predict(user_id, x).est)\n",
      "C:\\Users\\dheep\\AppData\\Local\\Temp\\ipykernel_28308\\2408220243.py:7: SettingWithCopyWarning: \n",
      "A value is trying to be set on a copy of a slice from a DataFrame.\n",
      "Try using .loc[row_indexer,col_indexer] = value instead\n",
      "\n",
      "See the caveats in the documentation: https://pandas.pydata.org/pandas-docs/stable/user_guide/indexing.html#returning-a-view-versus-a-copy\n",
      "  other_books['Estimated-Rating'] = other_books['ISBN'].apply(lambda x: model.predict(user_id, x).est)\n"
     ]
    },
    {
     "name": "stdout",
     "output_type": "stream",
     "text": [
      "User Location: raleigh, north carolina, usa, User Age Group: Senior\n"
     ]
    },
    {
     "name": "stderr",
     "output_type": "stream",
     "text": [
      "C:\\Users\\dheep\\AppData\\Local\\Temp\\ipykernel_28308\\2262779235.py:22: SettingWithCopyWarning: \n",
      "A value is trying to be set on a copy of a slice from a DataFrame.\n",
      "Try using .loc[row_indexer,col_indexer] = value instead\n",
      "\n",
      "See the caveats in the documentation: https://pandas.pydata.org/pandas-docs/stable/user_guide/indexing.html#returning-a-view-versus-a-copy\n",
      "  filtered_books['Estimated-Rating'] = filtered_books['ISBN'].apply(lambda x: model.predict(user_id, x).est)\n",
      "C:\\Users\\dheep\\AppData\\Local\\Temp\\ipykernel_28308\\2408220243.py:7: SettingWithCopyWarning: \n",
      "A value is trying to be set on a copy of a slice from a DataFrame.\n",
      "Try using .loc[row_indexer,col_indexer] = value instead\n",
      "\n",
      "See the caveats in the documentation: https://pandas.pydata.org/pandas-docs/stable/user_guide/indexing.html#returning-a-view-versus-a-copy\n",
      "  other_books['Estimated-Rating'] = other_books['ISBN'].apply(lambda x: model.predict(user_id, x).est)\n"
     ]
    },
    {
     "name": "stdout",
     "output_type": "stream",
     "text": [
      "User Location: san antonio, texas, usa, User Age Group: Adult\n"
     ]
    },
    {
     "name": "stderr",
     "output_type": "stream",
     "text": [
      "C:\\Users\\dheep\\AppData\\Local\\Temp\\ipykernel_28308\\2262779235.py:22: SettingWithCopyWarning: \n",
      "A value is trying to be set on a copy of a slice from a DataFrame.\n",
      "Try using .loc[row_indexer,col_indexer] = value instead\n",
      "\n",
      "See the caveats in the documentation: https://pandas.pydata.org/pandas-docs/stable/user_guide/indexing.html#returning-a-view-versus-a-copy\n",
      "  filtered_books['Estimated-Rating'] = filtered_books['ISBN'].apply(lambda x: model.predict(user_id, x).est)\n",
      "C:\\Users\\dheep\\AppData\\Local\\Temp\\ipykernel_28308\\2408220243.py:7: SettingWithCopyWarning: \n",
      "A value is trying to be set on a copy of a slice from a DataFrame.\n",
      "Try using .loc[row_indexer,col_indexer] = value instead\n",
      "\n",
      "See the caveats in the documentation: https://pandas.pydata.org/pandas-docs/stable/user_guide/indexing.html#returning-a-view-versus-a-copy\n",
      "  other_books['Estimated-Rating'] = other_books['ISBN'].apply(lambda x: model.predict(user_id, x).est)\n"
     ]
    },
    {
     "name": "stdout",
     "output_type": "stream",
     "text": [
      "User Location: loveland, colorado, usa, User Age Group: Adult\n"
     ]
    },
    {
     "name": "stderr",
     "output_type": "stream",
     "text": [
      "C:\\Users\\dheep\\AppData\\Local\\Temp\\ipykernel_28308\\2262779235.py:22: SettingWithCopyWarning: \n",
      "A value is trying to be set on a copy of a slice from a DataFrame.\n",
      "Try using .loc[row_indexer,col_indexer] = value instead\n",
      "\n",
      "See the caveats in the documentation: https://pandas.pydata.org/pandas-docs/stable/user_guide/indexing.html#returning-a-view-versus-a-copy\n",
      "  filtered_books['Estimated-Rating'] = filtered_books['ISBN'].apply(lambda x: model.predict(user_id, x).est)\n",
      "C:\\Users\\dheep\\AppData\\Local\\Temp\\ipykernel_28308\\2408220243.py:7: SettingWithCopyWarning: \n",
      "A value is trying to be set on a copy of a slice from a DataFrame.\n",
      "Try using .loc[row_indexer,col_indexer] = value instead\n",
      "\n",
      "See the caveats in the documentation: https://pandas.pydata.org/pandas-docs/stable/user_guide/indexing.html#returning-a-view-versus-a-copy\n",
      "  other_books['Estimated-Rating'] = other_books['ISBN'].apply(lambda x: model.predict(user_id, x).est)\n"
     ]
    },
    {
     "name": "stdout",
     "output_type": "stream",
     "text": [
      "User Location: seattle, washington, usa, User Age Group: Adult\n"
     ]
    },
    {
     "name": "stderr",
     "output_type": "stream",
     "text": [
      "C:\\Users\\dheep\\AppData\\Local\\Temp\\ipykernel_28308\\2262779235.py:22: SettingWithCopyWarning: \n",
      "A value is trying to be set on a copy of a slice from a DataFrame.\n",
      "Try using .loc[row_indexer,col_indexer] = value instead\n",
      "\n",
      "See the caveats in the documentation: https://pandas.pydata.org/pandas-docs/stable/user_guide/indexing.html#returning-a-view-versus-a-copy\n",
      "  filtered_books['Estimated-Rating'] = filtered_books['ISBN'].apply(lambda x: model.predict(user_id, x).est)\n",
      "C:\\Users\\dheep\\AppData\\Local\\Temp\\ipykernel_28308\\2408220243.py:7: SettingWithCopyWarning: \n",
      "A value is trying to be set on a copy of a slice from a DataFrame.\n",
      "Try using .loc[row_indexer,col_indexer] = value instead\n",
      "\n",
      "See the caveats in the documentation: https://pandas.pydata.org/pandas-docs/stable/user_guide/indexing.html#returning-a-view-versus-a-copy\n",
      "  other_books['Estimated-Rating'] = other_books['ISBN'].apply(lambda x: model.predict(user_id, x).est)\n"
     ]
    },
    {
     "name": "stdout",
     "output_type": "stream",
     "text": [
      "User Location: idaho falls, idaho, usa, User Age Group: Adult\n"
     ]
    },
    {
     "name": "stderr",
     "output_type": "stream",
     "text": [
      "C:\\Users\\dheep\\AppData\\Local\\Temp\\ipykernel_28308\\2262779235.py:22: SettingWithCopyWarning: \n",
      "A value is trying to be set on a copy of a slice from a DataFrame.\n",
      "Try using .loc[row_indexer,col_indexer] = value instead\n",
      "\n",
      "See the caveats in the documentation: https://pandas.pydata.org/pandas-docs/stable/user_guide/indexing.html#returning-a-view-versus-a-copy\n",
      "  filtered_books['Estimated-Rating'] = filtered_books['ISBN'].apply(lambda x: model.predict(user_id, x).est)\n",
      "C:\\Users\\dheep\\AppData\\Local\\Temp\\ipykernel_28308\\2408220243.py:7: SettingWithCopyWarning: \n",
      "A value is trying to be set on a copy of a slice from a DataFrame.\n",
      "Try using .loc[row_indexer,col_indexer] = value instead\n",
      "\n",
      "See the caveats in the documentation: https://pandas.pydata.org/pandas-docs/stable/user_guide/indexing.html#returning-a-view-versus-a-copy\n",
      "  other_books['Estimated-Rating'] = other_books['ISBN'].apply(lambda x: model.predict(user_id, x).est)\n"
     ]
    },
    {
     "name": "stdout",
     "output_type": "stream",
     "text": [
      "User Location: evanston, illinois, usa, User Age Group: Young Adult\n"
     ]
    },
    {
     "name": "stderr",
     "output_type": "stream",
     "text": [
      "C:\\Users\\dheep\\AppData\\Local\\Temp\\ipykernel_28308\\2262779235.py:22: SettingWithCopyWarning: \n",
      "A value is trying to be set on a copy of a slice from a DataFrame.\n",
      "Try using .loc[row_indexer,col_indexer] = value instead\n",
      "\n",
      "See the caveats in the documentation: https://pandas.pydata.org/pandas-docs/stable/user_guide/indexing.html#returning-a-view-versus-a-copy\n",
      "  filtered_books['Estimated-Rating'] = filtered_books['ISBN'].apply(lambda x: model.predict(user_id, x).est)\n",
      "C:\\Users\\dheep\\AppData\\Local\\Temp\\ipykernel_28308\\2408220243.py:7: SettingWithCopyWarning: \n",
      "A value is trying to be set on a copy of a slice from a DataFrame.\n",
      "Try using .loc[row_indexer,col_indexer] = value instead\n",
      "\n",
      "See the caveats in the documentation: https://pandas.pydata.org/pandas-docs/stable/user_guide/indexing.html#returning-a-view-versus-a-copy\n",
      "  other_books['Estimated-Rating'] = other_books['ISBN'].apply(lambda x: model.predict(user_id, x).est)\n"
     ]
    },
    {
     "name": "stdout",
     "output_type": "stream",
     "text": [
      "User Location: pleasanton, california, usa, User Age Group: Adult\n"
     ]
    },
    {
     "name": "stderr",
     "output_type": "stream",
     "text": [
      "C:\\Users\\dheep\\AppData\\Local\\Temp\\ipykernel_28308\\2262779235.py:22: SettingWithCopyWarning: \n",
      "A value is trying to be set on a copy of a slice from a DataFrame.\n",
      "Try using .loc[row_indexer,col_indexer] = value instead\n",
      "\n",
      "See the caveats in the documentation: https://pandas.pydata.org/pandas-docs/stable/user_guide/indexing.html#returning-a-view-versus-a-copy\n",
      "  filtered_books['Estimated-Rating'] = filtered_books['ISBN'].apply(lambda x: model.predict(user_id, x).est)\n",
      "C:\\Users\\dheep\\AppData\\Local\\Temp\\ipykernel_28308\\2408220243.py:7: SettingWithCopyWarning: \n",
      "A value is trying to be set on a copy of a slice from a DataFrame.\n",
      "Try using .loc[row_indexer,col_indexer] = value instead\n",
      "\n",
      "See the caveats in the documentation: https://pandas.pydata.org/pandas-docs/stable/user_guide/indexing.html#returning-a-view-versus-a-copy\n",
      "  other_books['Estimated-Rating'] = other_books['ISBN'].apply(lambda x: model.predict(user_id, x).est)\n"
     ]
    },
    {
     "name": "stdout",
     "output_type": "stream",
     "text": [
      "User Location: seattle, ,, User Age Group: Young Adult\n"
     ]
    },
    {
     "name": "stderr",
     "output_type": "stream",
     "text": [
      "C:\\Users\\dheep\\AppData\\Local\\Temp\\ipykernel_28308\\2262779235.py:22: SettingWithCopyWarning: \n",
      "A value is trying to be set on a copy of a slice from a DataFrame.\n",
      "Try using .loc[row_indexer,col_indexer] = value instead\n",
      "\n",
      "See the caveats in the documentation: https://pandas.pydata.org/pandas-docs/stable/user_guide/indexing.html#returning-a-view-versus-a-copy\n",
      "  filtered_books['Estimated-Rating'] = filtered_books['ISBN'].apply(lambda x: model.predict(user_id, x).est)\n",
      "C:\\Users\\dheep\\AppData\\Local\\Temp\\ipykernel_28308\\2408220243.py:7: SettingWithCopyWarning: \n",
      "A value is trying to be set on a copy of a slice from a DataFrame.\n",
      "Try using .loc[row_indexer,col_indexer] = value instead\n",
      "\n",
      "See the caveats in the documentation: https://pandas.pydata.org/pandas-docs/stable/user_guide/indexing.html#returning-a-view-versus-a-copy\n",
      "  other_books['Estimated-Rating'] = other_books['ISBN'].apply(lambda x: model.predict(user_id, x).est)\n"
     ]
    },
    {
     "name": "stdout",
     "output_type": "stream",
     "text": [
      "User Location: santa barbara, california, usa, User Age Group: Young Adult\n"
     ]
    },
    {
     "name": "stderr",
     "output_type": "stream",
     "text": [
      "C:\\Users\\dheep\\AppData\\Local\\Temp\\ipykernel_28308\\2262779235.py:22: SettingWithCopyWarning: \n",
      "A value is trying to be set on a copy of a slice from a DataFrame.\n",
      "Try using .loc[row_indexer,col_indexer] = value instead\n",
      "\n",
      "See the caveats in the documentation: https://pandas.pydata.org/pandas-docs/stable/user_guide/indexing.html#returning-a-view-versus-a-copy\n",
      "  filtered_books['Estimated-Rating'] = filtered_books['ISBN'].apply(lambda x: model.predict(user_id, x).est)\n",
      "C:\\Users\\dheep\\AppData\\Local\\Temp\\ipykernel_28308\\2408220243.py:7: SettingWithCopyWarning: \n",
      "A value is trying to be set on a copy of a slice from a DataFrame.\n",
      "Try using .loc[row_indexer,col_indexer] = value instead\n",
      "\n",
      "See the caveats in the documentation: https://pandas.pydata.org/pandas-docs/stable/user_guide/indexing.html#returning-a-view-versus-a-copy\n",
      "  other_books['Estimated-Rating'] = other_books['ISBN'].apply(lambda x: model.predict(user_id, x).est)\n"
     ]
    },
    {
     "name": "stdout",
     "output_type": "stream",
     "text": [
      "User Location: homer, alaska, usa, User Age Group: Adult\n"
     ]
    },
    {
     "name": "stderr",
     "output_type": "stream",
     "text": [
      "C:\\Users\\dheep\\AppData\\Local\\Temp\\ipykernel_28308\\2262779235.py:22: SettingWithCopyWarning: \n",
      "A value is trying to be set on a copy of a slice from a DataFrame.\n",
      "Try using .loc[row_indexer,col_indexer] = value instead\n",
      "\n",
      "See the caveats in the documentation: https://pandas.pydata.org/pandas-docs/stable/user_guide/indexing.html#returning-a-view-versus-a-copy\n",
      "  filtered_books['Estimated-Rating'] = filtered_books['ISBN'].apply(lambda x: model.predict(user_id, x).est)\n",
      "C:\\Users\\dheep\\AppData\\Local\\Temp\\ipykernel_28308\\2408220243.py:7: SettingWithCopyWarning: \n",
      "A value is trying to be set on a copy of a slice from a DataFrame.\n",
      "Try using .loc[row_indexer,col_indexer] = value instead\n",
      "\n",
      "See the caveats in the documentation: https://pandas.pydata.org/pandas-docs/stable/user_guide/indexing.html#returning-a-view-versus-a-copy\n",
      "  other_books['Estimated-Rating'] = other_books['ISBN'].apply(lambda x: model.predict(user_id, x).est)\n"
     ]
    },
    {
     "name": "stdout",
     "output_type": "stream",
     "text": [
      "User Location: upland, california, usa, User Age Group: Adult\n"
     ]
    },
    {
     "name": "stderr",
     "output_type": "stream",
     "text": [
      "C:\\Users\\dheep\\AppData\\Local\\Temp\\ipykernel_28308\\2262779235.py:22: SettingWithCopyWarning: \n",
      "A value is trying to be set on a copy of a slice from a DataFrame.\n",
      "Try using .loc[row_indexer,col_indexer] = value instead\n",
      "\n",
      "See the caveats in the documentation: https://pandas.pydata.org/pandas-docs/stable/user_guide/indexing.html#returning-a-view-versus-a-copy\n",
      "  filtered_books['Estimated-Rating'] = filtered_books['ISBN'].apply(lambda x: model.predict(user_id, x).est)\n",
      "C:\\Users\\dheep\\AppData\\Local\\Temp\\ipykernel_28308\\2408220243.py:7: SettingWithCopyWarning: \n",
      "A value is trying to be set on a copy of a slice from a DataFrame.\n",
      "Try using .loc[row_indexer,col_indexer] = value instead\n",
      "\n",
      "See the caveats in the documentation: https://pandas.pydata.org/pandas-docs/stable/user_guide/indexing.html#returning-a-view-versus-a-copy\n",
      "  other_books['Estimated-Rating'] = other_books['ISBN'].apply(lambda x: model.predict(user_id, x).est)\n"
     ]
    },
    {
     "name": "stdout",
     "output_type": "stream",
     "text": [
      "User Location: harbor city, california, usa, User Age Group: Adult\n"
     ]
    },
    {
     "name": "stderr",
     "output_type": "stream",
     "text": [
      "C:\\Users\\dheep\\AppData\\Local\\Temp\\ipykernel_28308\\2262779235.py:22: SettingWithCopyWarning: \n",
      "A value is trying to be set on a copy of a slice from a DataFrame.\n",
      "Try using .loc[row_indexer,col_indexer] = value instead\n",
      "\n",
      "See the caveats in the documentation: https://pandas.pydata.org/pandas-docs/stable/user_guide/indexing.html#returning-a-view-versus-a-copy\n",
      "  filtered_books['Estimated-Rating'] = filtered_books['ISBN'].apply(lambda x: model.predict(user_id, x).est)\n",
      "C:\\Users\\dheep\\AppData\\Local\\Temp\\ipykernel_28308\\2408220243.py:7: SettingWithCopyWarning: \n",
      "A value is trying to be set on a copy of a slice from a DataFrame.\n",
      "Try using .loc[row_indexer,col_indexer] = value instead\n",
      "\n",
      "See the caveats in the documentation: https://pandas.pydata.org/pandas-docs/stable/user_guide/indexing.html#returning-a-view-versus-a-copy\n",
      "  other_books['Estimated-Rating'] = other_books['ISBN'].apply(lambda x: model.predict(user_id, x).est)\n"
     ]
    },
    {
     "name": "stdout",
     "output_type": "stream",
     "text": [
      "User Location: ann arbor, michigan, usa, User Age Group: Adult\n"
     ]
    },
    {
     "name": "stderr",
     "output_type": "stream",
     "text": [
      "C:\\Users\\dheep\\AppData\\Local\\Temp\\ipykernel_28308\\2262779235.py:22: SettingWithCopyWarning: \n",
      "A value is trying to be set on a copy of a slice from a DataFrame.\n",
      "Try using .loc[row_indexer,col_indexer] = value instead\n",
      "\n",
      "See the caveats in the documentation: https://pandas.pydata.org/pandas-docs/stable/user_guide/indexing.html#returning-a-view-versus-a-copy\n",
      "  filtered_books['Estimated-Rating'] = filtered_books['ISBN'].apply(lambda x: model.predict(user_id, x).est)\n",
      "C:\\Users\\dheep\\AppData\\Local\\Temp\\ipykernel_28308\\2408220243.py:7: SettingWithCopyWarning: \n",
      "A value is trying to be set on a copy of a slice from a DataFrame.\n",
      "Try using .loc[row_indexer,col_indexer] = value instead\n",
      "\n",
      "See the caveats in the documentation: https://pandas.pydata.org/pandas-docs/stable/user_guide/indexing.html#returning-a-view-versus-a-copy\n",
      "  other_books['Estimated-Rating'] = other_books['ISBN'].apply(lambda x: model.predict(user_id, x).est)\n"
     ]
    },
    {
     "name": "stdout",
     "output_type": "stream",
     "text": [
      "User Location: klang, selangor, malaysia, User Age Group: Young Adult\n"
     ]
    },
    {
     "name": "stderr",
     "output_type": "stream",
     "text": [
      "C:\\Users\\dheep\\AppData\\Local\\Temp\\ipykernel_28308\\2262779235.py:22: SettingWithCopyWarning: \n",
      "A value is trying to be set on a copy of a slice from a DataFrame.\n",
      "Try using .loc[row_indexer,col_indexer] = value instead\n",
      "\n",
      "See the caveats in the documentation: https://pandas.pydata.org/pandas-docs/stable/user_guide/indexing.html#returning-a-view-versus-a-copy\n",
      "  filtered_books['Estimated-Rating'] = filtered_books['ISBN'].apply(lambda x: model.predict(user_id, x).est)\n",
      "C:\\Users\\dheep\\AppData\\Local\\Temp\\ipykernel_28308\\2408220243.py:7: SettingWithCopyWarning: \n",
      "A value is trying to be set on a copy of a slice from a DataFrame.\n",
      "Try using .loc[row_indexer,col_indexer] = value instead\n",
      "\n",
      "See the caveats in the documentation: https://pandas.pydata.org/pandas-docs/stable/user_guide/indexing.html#returning-a-view-versus-a-copy\n",
      "  other_books['Estimated-Rating'] = other_books['ISBN'].apply(lambda x: model.predict(user_id, x).est)\n"
     ]
    },
    {
     "name": "stdout",
     "output_type": "stream",
     "text": [
      "User Location: dallas, texas, usa, User Age Group: Adult\n"
     ]
    },
    {
     "name": "stderr",
     "output_type": "stream",
     "text": [
      "C:\\Users\\dheep\\AppData\\Local\\Temp\\ipykernel_28308\\2262779235.py:22: SettingWithCopyWarning: \n",
      "A value is trying to be set on a copy of a slice from a DataFrame.\n",
      "Try using .loc[row_indexer,col_indexer] = value instead\n",
      "\n",
      "See the caveats in the documentation: https://pandas.pydata.org/pandas-docs/stable/user_guide/indexing.html#returning-a-view-versus-a-copy\n",
      "  filtered_books['Estimated-Rating'] = filtered_books['ISBN'].apply(lambda x: model.predict(user_id, x).est)\n",
      "C:\\Users\\dheep\\AppData\\Local\\Temp\\ipykernel_28308\\2408220243.py:7: SettingWithCopyWarning: \n",
      "A value is trying to be set on a copy of a slice from a DataFrame.\n",
      "Try using .loc[row_indexer,col_indexer] = value instead\n",
      "\n",
      "See the caveats in the documentation: https://pandas.pydata.org/pandas-docs/stable/user_guide/indexing.html#returning-a-view-versus-a-copy\n",
      "  other_books['Estimated-Rating'] = other_books['ISBN'].apply(lambda x: model.predict(user_id, x).est)\n"
     ]
    },
    {
     "name": "stdout",
     "output_type": "stream",
     "text": [
      "User Location: sandy, oregon, usa, User Age Group: Adult\n"
     ]
    },
    {
     "name": "stderr",
     "output_type": "stream",
     "text": [
      "C:\\Users\\dheep\\AppData\\Local\\Temp\\ipykernel_28308\\2262779235.py:22: SettingWithCopyWarning: \n",
      "A value is trying to be set on a copy of a slice from a DataFrame.\n",
      "Try using .loc[row_indexer,col_indexer] = value instead\n",
      "\n",
      "See the caveats in the documentation: https://pandas.pydata.org/pandas-docs/stable/user_guide/indexing.html#returning-a-view-versus-a-copy\n",
      "  filtered_books['Estimated-Rating'] = filtered_books['ISBN'].apply(lambda x: model.predict(user_id, x).est)\n",
      "C:\\Users\\dheep\\AppData\\Local\\Temp\\ipykernel_28308\\2408220243.py:7: SettingWithCopyWarning: \n",
      "A value is trying to be set on a copy of a slice from a DataFrame.\n",
      "Try using .loc[row_indexer,col_indexer] = value instead\n",
      "\n",
      "See the caveats in the documentation: https://pandas.pydata.org/pandas-docs/stable/user_guide/indexing.html#returning-a-view-versus-a-copy\n",
      "  other_books['Estimated-Rating'] = other_books['ISBN'].apply(lambda x: model.predict(user_id, x).est)\n"
     ]
    },
    {
     "name": "stdout",
     "output_type": "stream",
     "text": [
      "User Location: pittsburg, missouri, usa, User Age Group: Senior\n"
     ]
    },
    {
     "name": "stderr",
     "output_type": "stream",
     "text": [
      "C:\\Users\\dheep\\AppData\\Local\\Temp\\ipykernel_28308\\2262779235.py:22: SettingWithCopyWarning: \n",
      "A value is trying to be set on a copy of a slice from a DataFrame.\n",
      "Try using .loc[row_indexer,col_indexer] = value instead\n",
      "\n",
      "See the caveats in the documentation: https://pandas.pydata.org/pandas-docs/stable/user_guide/indexing.html#returning-a-view-versus-a-copy\n",
      "  filtered_books['Estimated-Rating'] = filtered_books['ISBN'].apply(lambda x: model.predict(user_id, x).est)\n",
      "C:\\Users\\dheep\\AppData\\Local\\Temp\\ipykernel_28308\\2408220243.py:7: SettingWithCopyWarning: \n",
      "A value is trying to be set on a copy of a slice from a DataFrame.\n",
      "Try using .loc[row_indexer,col_indexer] = value instead\n",
      "\n",
      "See the caveats in the documentation: https://pandas.pydata.org/pandas-docs/stable/user_guide/indexing.html#returning-a-view-versus-a-copy\n",
      "  other_books['Estimated-Rating'] = other_books['ISBN'].apply(lambda x: model.predict(user_id, x).est)\n"
     ]
    },
    {
     "name": "stdout",
     "output_type": "stream",
     "text": [
      "User Location: san diego, california, usa, User Age Group: Adult\n"
     ]
    },
    {
     "name": "stderr",
     "output_type": "stream",
     "text": [
      "C:\\Users\\dheep\\AppData\\Local\\Temp\\ipykernel_28308\\2262779235.py:22: SettingWithCopyWarning: \n",
      "A value is trying to be set on a copy of a slice from a DataFrame.\n",
      "Try using .loc[row_indexer,col_indexer] = value instead\n",
      "\n",
      "See the caveats in the documentation: https://pandas.pydata.org/pandas-docs/stable/user_guide/indexing.html#returning-a-view-versus-a-copy\n",
      "  filtered_books['Estimated-Rating'] = filtered_books['ISBN'].apply(lambda x: model.predict(user_id, x).est)\n",
      "C:\\Users\\dheep\\AppData\\Local\\Temp\\ipykernel_28308\\2408220243.py:7: SettingWithCopyWarning: \n",
      "A value is trying to be set on a copy of a slice from a DataFrame.\n",
      "Try using .loc[row_indexer,col_indexer] = value instead\n",
      "\n",
      "See the caveats in the documentation: https://pandas.pydata.org/pandas-docs/stable/user_guide/indexing.html#returning-a-view-versus-a-copy\n",
      "  other_books['Estimated-Rating'] = other_books['ISBN'].apply(lambda x: model.predict(user_id, x).est)\n"
     ]
    },
    {
     "name": "stdout",
     "output_type": "stream",
     "text": [
      "User Location: jacksonville, florida, usa, User Age Group: Adult\n"
     ]
    },
    {
     "name": "stderr",
     "output_type": "stream",
     "text": [
      "C:\\Users\\dheep\\AppData\\Local\\Temp\\ipykernel_28308\\2262779235.py:22: SettingWithCopyWarning: \n",
      "A value is trying to be set on a copy of a slice from a DataFrame.\n",
      "Try using .loc[row_indexer,col_indexer] = value instead\n",
      "\n",
      "See the caveats in the documentation: https://pandas.pydata.org/pandas-docs/stable/user_guide/indexing.html#returning-a-view-versus-a-copy\n",
      "  filtered_books['Estimated-Rating'] = filtered_books['ISBN'].apply(lambda x: model.predict(user_id, x).est)\n",
      "C:\\Users\\dheep\\AppData\\Local\\Temp\\ipykernel_28308\\2408220243.py:7: SettingWithCopyWarning: \n",
      "A value is trying to be set on a copy of a slice from a DataFrame.\n",
      "Try using .loc[row_indexer,col_indexer] = value instead\n",
      "\n",
      "See the caveats in the documentation: https://pandas.pydata.org/pandas-docs/stable/user_guide/indexing.html#returning-a-view-versus-a-copy\n",
      "  other_books['Estimated-Rating'] = other_books['ISBN'].apply(lambda x: model.predict(user_id, x).est)\n"
     ]
    },
    {
     "name": "stdout",
     "output_type": "stream",
     "text": [
      "User Location: austin, texas, usa, User Age Group: Adult\n"
     ]
    },
    {
     "name": "stderr",
     "output_type": "stream",
     "text": [
      "C:\\Users\\dheep\\AppData\\Local\\Temp\\ipykernel_28308\\2262779235.py:22: SettingWithCopyWarning: \n",
      "A value is trying to be set on a copy of a slice from a DataFrame.\n",
      "Try using .loc[row_indexer,col_indexer] = value instead\n",
      "\n",
      "See the caveats in the documentation: https://pandas.pydata.org/pandas-docs/stable/user_guide/indexing.html#returning-a-view-versus-a-copy\n",
      "  filtered_books['Estimated-Rating'] = filtered_books['ISBN'].apply(lambda x: model.predict(user_id, x).est)\n",
      "C:\\Users\\dheep\\AppData\\Local\\Temp\\ipykernel_28308\\2408220243.py:7: SettingWithCopyWarning: \n",
      "A value is trying to be set on a copy of a slice from a DataFrame.\n",
      "Try using .loc[row_indexer,col_indexer] = value instead\n",
      "\n",
      "See the caveats in the documentation: https://pandas.pydata.org/pandas-docs/stable/user_guide/indexing.html#returning-a-view-versus-a-copy\n",
      "  other_books['Estimated-Rating'] = other_books['ISBN'].apply(lambda x: model.predict(user_id, x).est)\n"
     ]
    },
    {
     "name": "stdout",
     "output_type": "stream",
     "text": [
      "User Location: san diego, california, usa, User Age Group: Adult\n"
     ]
    },
    {
     "name": "stderr",
     "output_type": "stream",
     "text": [
      "C:\\Users\\dheep\\AppData\\Local\\Temp\\ipykernel_28308\\2262779235.py:22: SettingWithCopyWarning: \n",
      "A value is trying to be set on a copy of a slice from a DataFrame.\n",
      "Try using .loc[row_indexer,col_indexer] = value instead\n",
      "\n",
      "See the caveats in the documentation: https://pandas.pydata.org/pandas-docs/stable/user_guide/indexing.html#returning-a-view-versus-a-copy\n",
      "  filtered_books['Estimated-Rating'] = filtered_books['ISBN'].apply(lambda x: model.predict(user_id, x).est)\n",
      "C:\\Users\\dheep\\AppData\\Local\\Temp\\ipykernel_28308\\2408220243.py:7: SettingWithCopyWarning: \n",
      "A value is trying to be set on a copy of a slice from a DataFrame.\n",
      "Try using .loc[row_indexer,col_indexer] = value instead\n",
      "\n",
      "See the caveats in the documentation: https://pandas.pydata.org/pandas-docs/stable/user_guide/indexing.html#returning-a-view-versus-a-copy\n",
      "  other_books['Estimated-Rating'] = other_books['ISBN'].apply(lambda x: model.predict(user_id, x).est)\n"
     ]
    },
    {
     "name": "stdout",
     "output_type": "stream",
     "text": [
      "User Location: colorado springs, colorado, usa, User Age Group: Senior\n"
     ]
    },
    {
     "name": "stderr",
     "output_type": "stream",
     "text": [
      "C:\\Users\\dheep\\AppData\\Local\\Temp\\ipykernel_28308\\2262779235.py:22: SettingWithCopyWarning: \n",
      "A value is trying to be set on a copy of a slice from a DataFrame.\n",
      "Try using .loc[row_indexer,col_indexer] = value instead\n",
      "\n",
      "See the caveats in the documentation: https://pandas.pydata.org/pandas-docs/stable/user_guide/indexing.html#returning-a-view-versus-a-copy\n",
      "  filtered_books['Estimated-Rating'] = filtered_books['ISBN'].apply(lambda x: model.predict(user_id, x).est)\n",
      "C:\\Users\\dheep\\AppData\\Local\\Temp\\ipykernel_28308\\2408220243.py:7: SettingWithCopyWarning: \n",
      "A value is trying to be set on a copy of a slice from a DataFrame.\n",
      "Try using .loc[row_indexer,col_indexer] = value instead\n",
      "\n",
      "See the caveats in the documentation: https://pandas.pydata.org/pandas-docs/stable/user_guide/indexing.html#returning-a-view-versus-a-copy\n",
      "  other_books['Estimated-Rating'] = other_books['ISBN'].apply(lambda x: model.predict(user_id, x).est)\n"
     ]
    },
    {
     "name": "stdout",
     "output_type": "stream",
     "text": [
      "User Location: houston, texas, usa, User Age Group: Adult\n"
     ]
    },
    {
     "name": "stderr",
     "output_type": "stream",
     "text": [
      "C:\\Users\\dheep\\AppData\\Local\\Temp\\ipykernel_28308\\2262779235.py:22: SettingWithCopyWarning: \n",
      "A value is trying to be set on a copy of a slice from a DataFrame.\n",
      "Try using .loc[row_indexer,col_indexer] = value instead\n",
      "\n",
      "See the caveats in the documentation: https://pandas.pydata.org/pandas-docs/stable/user_guide/indexing.html#returning-a-view-versus-a-copy\n",
      "  filtered_books['Estimated-Rating'] = filtered_books['ISBN'].apply(lambda x: model.predict(user_id, x).est)\n",
      "C:\\Users\\dheep\\AppData\\Local\\Temp\\ipykernel_28308\\2408220243.py:7: SettingWithCopyWarning: \n",
      "A value is trying to be set on a copy of a slice from a DataFrame.\n",
      "Try using .loc[row_indexer,col_indexer] = value instead\n",
      "\n",
      "See the caveats in the documentation: https://pandas.pydata.org/pandas-docs/stable/user_guide/indexing.html#returning-a-view-versus-a-copy\n",
      "  other_books['Estimated-Rating'] = other_books['ISBN'].apply(lambda x: model.predict(user_id, x).est)\n"
     ]
    },
    {
     "name": "stdout",
     "output_type": "stream",
     "text": [
      "User Location: kuala lumpur, selangor, malaysia, User Age Group: Young Adult\n"
     ]
    },
    {
     "name": "stderr",
     "output_type": "stream",
     "text": [
      "C:\\Users\\dheep\\AppData\\Local\\Temp\\ipykernel_28308\\2262779235.py:22: SettingWithCopyWarning: \n",
      "A value is trying to be set on a copy of a slice from a DataFrame.\n",
      "Try using .loc[row_indexer,col_indexer] = value instead\n",
      "\n",
      "See the caveats in the documentation: https://pandas.pydata.org/pandas-docs/stable/user_guide/indexing.html#returning-a-view-versus-a-copy\n",
      "  filtered_books['Estimated-Rating'] = filtered_books['ISBN'].apply(lambda x: model.predict(user_id, x).est)\n",
      "C:\\Users\\dheep\\AppData\\Local\\Temp\\ipykernel_28308\\2408220243.py:7: SettingWithCopyWarning: \n",
      "A value is trying to be set on a copy of a slice from a DataFrame.\n",
      "Try using .loc[row_indexer,col_indexer] = value instead\n",
      "\n",
      "See the caveats in the documentation: https://pandas.pydata.org/pandas-docs/stable/user_guide/indexing.html#returning-a-view-versus-a-copy\n",
      "  other_books['Estimated-Rating'] = other_books['ISBN'].apply(lambda x: model.predict(user_id, x).est)\n"
     ]
    },
    {
     "name": "stdout",
     "output_type": "stream",
     "text": [
      "User Location: livonia, michigan, usa, User Age Group: Adult\n"
     ]
    },
    {
     "name": "stderr",
     "output_type": "stream",
     "text": [
      "C:\\Users\\dheep\\AppData\\Local\\Temp\\ipykernel_28308\\2262779235.py:22: SettingWithCopyWarning: \n",
      "A value is trying to be set on a copy of a slice from a DataFrame.\n",
      "Try using .loc[row_indexer,col_indexer] = value instead\n",
      "\n",
      "See the caveats in the documentation: https://pandas.pydata.org/pandas-docs/stable/user_guide/indexing.html#returning-a-view-versus-a-copy\n",
      "  filtered_books['Estimated-Rating'] = filtered_books['ISBN'].apply(lambda x: model.predict(user_id, x).est)\n",
      "C:\\Users\\dheep\\AppData\\Local\\Temp\\ipykernel_28308\\2408220243.py:7: SettingWithCopyWarning: \n",
      "A value is trying to be set on a copy of a slice from a DataFrame.\n",
      "Try using .loc[row_indexer,col_indexer] = value instead\n",
      "\n",
      "See the caveats in the documentation: https://pandas.pydata.org/pandas-docs/stable/user_guide/indexing.html#returning-a-view-versus-a-copy\n",
      "  other_books['Estimated-Rating'] = other_books['ISBN'].apply(lambda x: model.predict(user_id, x).est)\n"
     ]
    },
    {
     "name": "stdout",
     "output_type": "stream",
     "text": [
      "User Location: albuquerque, ,, User Age Group: Adult\n"
     ]
    },
    {
     "name": "stderr",
     "output_type": "stream",
     "text": [
      "C:\\Users\\dheep\\AppData\\Local\\Temp\\ipykernel_28308\\2262779235.py:22: SettingWithCopyWarning: \n",
      "A value is trying to be set on a copy of a slice from a DataFrame.\n",
      "Try using .loc[row_indexer,col_indexer] = value instead\n",
      "\n",
      "See the caveats in the documentation: https://pandas.pydata.org/pandas-docs/stable/user_guide/indexing.html#returning-a-view-versus-a-copy\n",
      "  filtered_books['Estimated-Rating'] = filtered_books['ISBN'].apply(lambda x: model.predict(user_id, x).est)\n",
      "C:\\Users\\dheep\\AppData\\Local\\Temp\\ipykernel_28308\\2408220243.py:7: SettingWithCopyWarning: \n",
      "A value is trying to be set on a copy of a slice from a DataFrame.\n",
      "Try using .loc[row_indexer,col_indexer] = value instead\n",
      "\n",
      "See the caveats in the documentation: https://pandas.pydata.org/pandas-docs/stable/user_guide/indexing.html#returning-a-view-versus-a-copy\n",
      "  other_books['Estimated-Rating'] = other_books['ISBN'].apply(lambda x: model.predict(user_id, x).est)\n"
     ]
    },
    {
     "name": "stdout",
     "output_type": "stream",
     "text": [
      "User Location: vancouver, british columbia, canada, User Age Group: Adult\n"
     ]
    },
    {
     "name": "stderr",
     "output_type": "stream",
     "text": [
      "C:\\Users\\dheep\\AppData\\Local\\Temp\\ipykernel_28308\\2262779235.py:22: SettingWithCopyWarning: \n",
      "A value is trying to be set on a copy of a slice from a DataFrame.\n",
      "Try using .loc[row_indexer,col_indexer] = value instead\n",
      "\n",
      "See the caveats in the documentation: https://pandas.pydata.org/pandas-docs/stable/user_guide/indexing.html#returning-a-view-versus-a-copy\n",
      "  filtered_books['Estimated-Rating'] = filtered_books['ISBN'].apply(lambda x: model.predict(user_id, x).est)\n",
      "C:\\Users\\dheep\\AppData\\Local\\Temp\\ipykernel_28308\\2408220243.py:7: SettingWithCopyWarning: \n",
      "A value is trying to be set on a copy of a slice from a DataFrame.\n",
      "Try using .loc[row_indexer,col_indexer] = value instead\n",
      "\n",
      "See the caveats in the documentation: https://pandas.pydata.org/pandas-docs/stable/user_guide/indexing.html#returning-a-view-versus-a-copy\n",
      "  other_books['Estimated-Rating'] = other_books['ISBN'].apply(lambda x: model.predict(user_id, x).est)\n"
     ]
    },
    {
     "name": "stdout",
     "output_type": "stream",
     "text": [
      "User Location: sammamish, washington, usa, User Age Group: Adult\n"
     ]
    },
    {
     "name": "stderr",
     "output_type": "stream",
     "text": [
      "C:\\Users\\dheep\\AppData\\Local\\Temp\\ipykernel_28308\\2262779235.py:22: SettingWithCopyWarning: \n",
      "A value is trying to be set on a copy of a slice from a DataFrame.\n",
      "Try using .loc[row_indexer,col_indexer] = value instead\n",
      "\n",
      "See the caveats in the documentation: https://pandas.pydata.org/pandas-docs/stable/user_guide/indexing.html#returning-a-view-versus-a-copy\n",
      "  filtered_books['Estimated-Rating'] = filtered_books['ISBN'].apply(lambda x: model.predict(user_id, x).est)\n",
      "C:\\Users\\dheep\\AppData\\Local\\Temp\\ipykernel_28308\\2408220243.py:7: SettingWithCopyWarning: \n",
      "A value is trying to be set on a copy of a slice from a DataFrame.\n",
      "Try using .loc[row_indexer,col_indexer] = value instead\n",
      "\n",
      "See the caveats in the documentation: https://pandas.pydata.org/pandas-docs/stable/user_guide/indexing.html#returning-a-view-versus-a-copy\n",
      "  other_books['Estimated-Rating'] = other_books['ISBN'].apply(lambda x: model.predict(user_id, x).est)\n"
     ]
    },
    {
     "name": "stdout",
     "output_type": "stream",
     "text": [
      "User Location: renton, washington, usa, User Age Group: Young Adult\n"
     ]
    },
    {
     "name": "stderr",
     "output_type": "stream",
     "text": [
      "C:\\Users\\dheep\\AppData\\Local\\Temp\\ipykernel_28308\\2262779235.py:22: SettingWithCopyWarning: \n",
      "A value is trying to be set on a copy of a slice from a DataFrame.\n",
      "Try using .loc[row_indexer,col_indexer] = value instead\n",
      "\n",
      "See the caveats in the documentation: https://pandas.pydata.org/pandas-docs/stable/user_guide/indexing.html#returning-a-view-versus-a-copy\n",
      "  filtered_books['Estimated-Rating'] = filtered_books['ISBN'].apply(lambda x: model.predict(user_id, x).est)\n",
      "C:\\Users\\dheep\\AppData\\Local\\Temp\\ipykernel_28308\\2408220243.py:7: SettingWithCopyWarning: \n",
      "A value is trying to be set on a copy of a slice from a DataFrame.\n",
      "Try using .loc[row_indexer,col_indexer] = value instead\n",
      "\n",
      "See the caveats in the documentation: https://pandas.pydata.org/pandas-docs/stable/user_guide/indexing.html#returning-a-view-versus-a-copy\n",
      "  other_books['Estimated-Rating'] = other_books['ISBN'].apply(lambda x: model.predict(user_id, x).est)\n"
     ]
    },
    {
     "name": "stdout",
     "output_type": "stream",
     "text": [
      "User Location: parker, colorado, usa, User Age Group: Young Adult\n"
     ]
    },
    {
     "name": "stderr",
     "output_type": "stream",
     "text": [
      "C:\\Users\\dheep\\AppData\\Local\\Temp\\ipykernel_28308\\2262779235.py:22: SettingWithCopyWarning: \n",
      "A value is trying to be set on a copy of a slice from a DataFrame.\n",
      "Try using .loc[row_indexer,col_indexer] = value instead\n",
      "\n",
      "See the caveats in the documentation: https://pandas.pydata.org/pandas-docs/stable/user_guide/indexing.html#returning-a-view-versus-a-copy\n",
      "  filtered_books['Estimated-Rating'] = filtered_books['ISBN'].apply(lambda x: model.predict(user_id, x).est)\n",
      "C:\\Users\\dheep\\AppData\\Local\\Temp\\ipykernel_28308\\2408220243.py:7: SettingWithCopyWarning: \n",
      "A value is trying to be set on a copy of a slice from a DataFrame.\n",
      "Try using .loc[row_indexer,col_indexer] = value instead\n",
      "\n",
      "See the caveats in the documentation: https://pandas.pydata.org/pandas-docs/stable/user_guide/indexing.html#returning-a-view-versus-a-copy\n",
      "  other_books['Estimated-Rating'] = other_books['ISBN'].apply(lambda x: model.predict(user_id, x).est)\n"
     ]
    },
    {
     "name": "stdout",
     "output_type": "stream",
     "text": [
      "User Location: toccoa, ga., usa, User Age Group: Young Adult\n"
     ]
    },
    {
     "name": "stderr",
     "output_type": "stream",
     "text": [
      "C:\\Users\\dheep\\AppData\\Local\\Temp\\ipykernel_28308\\2262779235.py:22: SettingWithCopyWarning: \n",
      "A value is trying to be set on a copy of a slice from a DataFrame.\n",
      "Try using .loc[row_indexer,col_indexer] = value instead\n",
      "\n",
      "See the caveats in the documentation: https://pandas.pydata.org/pandas-docs/stable/user_guide/indexing.html#returning-a-view-versus-a-copy\n",
      "  filtered_books['Estimated-Rating'] = filtered_books['ISBN'].apply(lambda x: model.predict(user_id, x).est)\n",
      "C:\\Users\\dheep\\AppData\\Local\\Temp\\ipykernel_28308\\2408220243.py:7: SettingWithCopyWarning: \n",
      "A value is trying to be set on a copy of a slice from a DataFrame.\n",
      "Try using .loc[row_indexer,col_indexer] = value instead\n",
      "\n",
      "See the caveats in the documentation: https://pandas.pydata.org/pandas-docs/stable/user_guide/indexing.html#returning-a-view-versus-a-copy\n",
      "  other_books['Estimated-Rating'] = other_books['ISBN'].apply(lambda x: model.predict(user_id, x).est)\n"
     ]
    },
    {
     "name": "stdout",
     "output_type": "stream",
     "text": [
      "User Location: wahiawa, hawaii, usa, User Age Group: Young Adult\n"
     ]
    },
    {
     "name": "stderr",
     "output_type": "stream",
     "text": [
      "C:\\Users\\dheep\\AppData\\Local\\Temp\\ipykernel_28308\\2262779235.py:22: SettingWithCopyWarning: \n",
      "A value is trying to be set on a copy of a slice from a DataFrame.\n",
      "Try using .loc[row_indexer,col_indexer] = value instead\n",
      "\n",
      "See the caveats in the documentation: https://pandas.pydata.org/pandas-docs/stable/user_guide/indexing.html#returning-a-view-versus-a-copy\n",
      "  filtered_books['Estimated-Rating'] = filtered_books['ISBN'].apply(lambda x: model.predict(user_id, x).est)\n",
      "C:\\Users\\dheep\\AppData\\Local\\Temp\\ipykernel_28308\\2408220243.py:7: SettingWithCopyWarning: \n",
      "A value is trying to be set on a copy of a slice from a DataFrame.\n",
      "Try using .loc[row_indexer,col_indexer] = value instead\n",
      "\n",
      "See the caveats in the documentation: https://pandas.pydata.org/pandas-docs/stable/user_guide/indexing.html#returning-a-view-versus-a-copy\n",
      "  other_books['Estimated-Rating'] = other_books['ISBN'].apply(lambda x: model.predict(user_id, x).est)\n"
     ]
    },
    {
     "name": "stdout",
     "output_type": "stream",
     "text": [
      "User Location: annville, pennsylvania, usa, User Age Group: Young Adult\n"
     ]
    },
    {
     "name": "stderr",
     "output_type": "stream",
     "text": [
      "C:\\Users\\dheep\\AppData\\Local\\Temp\\ipykernel_28308\\2262779235.py:22: SettingWithCopyWarning: \n",
      "A value is trying to be set on a copy of a slice from a DataFrame.\n",
      "Try using .loc[row_indexer,col_indexer] = value instead\n",
      "\n",
      "See the caveats in the documentation: https://pandas.pydata.org/pandas-docs/stable/user_guide/indexing.html#returning-a-view-versus-a-copy\n",
      "  filtered_books['Estimated-Rating'] = filtered_books['ISBN'].apply(lambda x: model.predict(user_id, x).est)\n",
      "C:\\Users\\dheep\\AppData\\Local\\Temp\\ipykernel_28308\\2408220243.py:7: SettingWithCopyWarning: \n",
      "A value is trying to be set on a copy of a slice from a DataFrame.\n",
      "Try using .loc[row_indexer,col_indexer] = value instead\n",
      "\n",
      "See the caveats in the documentation: https://pandas.pydata.org/pandas-docs/stable/user_guide/indexing.html#returning-a-view-versus-a-copy\n",
      "  other_books['Estimated-Rating'] = other_books['ISBN'].apply(lambda x: model.predict(user_id, x).est)\n"
     ]
    },
    {
     "name": "stdout",
     "output_type": "stream",
     "text": [
      "User Location: wahiawa, hawaii, usa, User Age Group: Young Adult\n"
     ]
    },
    {
     "name": "stderr",
     "output_type": "stream",
     "text": [
      "C:\\Users\\dheep\\AppData\\Local\\Temp\\ipykernel_28308\\2262779235.py:22: SettingWithCopyWarning: \n",
      "A value is trying to be set on a copy of a slice from a DataFrame.\n",
      "Try using .loc[row_indexer,col_indexer] = value instead\n",
      "\n",
      "See the caveats in the documentation: https://pandas.pydata.org/pandas-docs/stable/user_guide/indexing.html#returning-a-view-versus-a-copy\n",
      "  filtered_books['Estimated-Rating'] = filtered_books['ISBN'].apply(lambda x: model.predict(user_id, x).est)\n",
      "C:\\Users\\dheep\\AppData\\Local\\Temp\\ipykernel_28308\\2408220243.py:7: SettingWithCopyWarning: \n",
      "A value is trying to be set on a copy of a slice from a DataFrame.\n",
      "Try using .loc[row_indexer,col_indexer] = value instead\n",
      "\n",
      "See the caveats in the documentation: https://pandas.pydata.org/pandas-docs/stable/user_guide/indexing.html#returning-a-view-versus-a-copy\n",
      "  other_books['Estimated-Rating'] = other_books['ISBN'].apply(lambda x: model.predict(user_id, x).est)\n"
     ]
    },
    {
     "name": "stdout",
     "output_type": "stream",
     "text": [
      "User Location: cabrils, catalunya, spain, User Age Group: Adult\n"
     ]
    },
    {
     "name": "stderr",
     "output_type": "stream",
     "text": [
      "C:\\Users\\dheep\\AppData\\Local\\Temp\\ipykernel_28308\\2262779235.py:22: SettingWithCopyWarning: \n",
      "A value is trying to be set on a copy of a slice from a DataFrame.\n",
      "Try using .loc[row_indexer,col_indexer] = value instead\n",
      "\n",
      "See the caveats in the documentation: https://pandas.pydata.org/pandas-docs/stable/user_guide/indexing.html#returning-a-view-versus-a-copy\n",
      "  filtered_books['Estimated-Rating'] = filtered_books['ISBN'].apply(lambda x: model.predict(user_id, x).est)\n",
      "C:\\Users\\dheep\\AppData\\Local\\Temp\\ipykernel_28308\\2408220243.py:7: SettingWithCopyWarning: \n",
      "A value is trying to be set on a copy of a slice from a DataFrame.\n",
      "Try using .loc[row_indexer,col_indexer] = value instead\n",
      "\n",
      "See the caveats in the documentation: https://pandas.pydata.org/pandas-docs/stable/user_guide/indexing.html#returning-a-view-versus-a-copy\n",
      "  other_books['Estimated-Rating'] = other_books['ISBN'].apply(lambda x: model.predict(user_id, x).est)\n"
     ]
    },
    {
     "name": "stdout",
     "output_type": "stream",
     "text": [
      "User Location: toronto, ontario, canada, User Age Group: Adult\n"
     ]
    },
    {
     "name": "stderr",
     "output_type": "stream",
     "text": [
      "C:\\Users\\dheep\\AppData\\Local\\Temp\\ipykernel_28308\\2262779235.py:22: SettingWithCopyWarning: \n",
      "A value is trying to be set on a copy of a slice from a DataFrame.\n",
      "Try using .loc[row_indexer,col_indexer] = value instead\n",
      "\n",
      "See the caveats in the documentation: https://pandas.pydata.org/pandas-docs/stable/user_guide/indexing.html#returning-a-view-versus-a-copy\n",
      "  filtered_books['Estimated-Rating'] = filtered_books['ISBN'].apply(lambda x: model.predict(user_id, x).est)\n",
      "C:\\Users\\dheep\\AppData\\Local\\Temp\\ipykernel_28308\\2408220243.py:7: SettingWithCopyWarning: \n",
      "A value is trying to be set on a copy of a slice from a DataFrame.\n",
      "Try using .loc[row_indexer,col_indexer] = value instead\n",
      "\n",
      "See the caveats in the documentation: https://pandas.pydata.org/pandas-docs/stable/user_guide/indexing.html#returning-a-view-versus-a-copy\n",
      "  other_books['Estimated-Rating'] = other_books['ISBN'].apply(lambda x: model.predict(user_id, x).est)\n"
     ]
    },
    {
     "name": "stdout",
     "output_type": "stream",
     "text": [
      "User Location: greenwood, british columbia, canada, User Age Group: Senior\n"
     ]
    },
    {
     "name": "stderr",
     "output_type": "stream",
     "text": [
      "C:\\Users\\dheep\\AppData\\Local\\Temp\\ipykernel_28308\\2262779235.py:22: SettingWithCopyWarning: \n",
      "A value is trying to be set on a copy of a slice from a DataFrame.\n",
      "Try using .loc[row_indexer,col_indexer] = value instead\n",
      "\n",
      "See the caveats in the documentation: https://pandas.pydata.org/pandas-docs/stable/user_guide/indexing.html#returning-a-view-versus-a-copy\n",
      "  filtered_books['Estimated-Rating'] = filtered_books['ISBN'].apply(lambda x: model.predict(user_id, x).est)\n",
      "C:\\Users\\dheep\\AppData\\Local\\Temp\\ipykernel_28308\\2408220243.py:7: SettingWithCopyWarning: \n",
      "A value is trying to be set on a copy of a slice from a DataFrame.\n",
      "Try using .loc[row_indexer,col_indexer] = value instead\n",
      "\n",
      "See the caveats in the documentation: https://pandas.pydata.org/pandas-docs/stable/user_guide/indexing.html#returning-a-view-versus-a-copy\n",
      "  other_books['Estimated-Rating'] = other_books['ISBN'].apply(lambda x: model.predict(user_id, x).est)\n"
     ]
    },
    {
     "name": "stdout",
     "output_type": "stream",
     "text": [
      "User Location: dunedin, otago, new zealand, User Age Group: Adult\n"
     ]
    },
    {
     "name": "stderr",
     "output_type": "stream",
     "text": [
      "C:\\Users\\dheep\\AppData\\Local\\Temp\\ipykernel_28308\\2262779235.py:22: SettingWithCopyWarning: \n",
      "A value is trying to be set on a copy of a slice from a DataFrame.\n",
      "Try using .loc[row_indexer,col_indexer] = value instead\n",
      "\n",
      "See the caveats in the documentation: https://pandas.pydata.org/pandas-docs/stable/user_guide/indexing.html#returning-a-view-versus-a-copy\n",
      "  filtered_books['Estimated-Rating'] = filtered_books['ISBN'].apply(lambda x: model.predict(user_id, x).est)\n",
      "C:\\Users\\dheep\\AppData\\Local\\Temp\\ipykernel_28308\\2408220243.py:7: SettingWithCopyWarning: \n",
      "A value is trying to be set on a copy of a slice from a DataFrame.\n",
      "Try using .loc[row_indexer,col_indexer] = value instead\n",
      "\n",
      "See the caveats in the documentation: https://pandas.pydata.org/pandas-docs/stable/user_guide/indexing.html#returning-a-view-versus-a-copy\n",
      "  other_books['Estimated-Rating'] = other_books['ISBN'].apply(lambda x: model.predict(user_id, x).est)\n"
     ]
    },
    {
     "name": "stdout",
     "output_type": "stream",
     "text": [
      "User Location: ottawa, ontario, canada, User Age Group: Senior\n"
     ]
    },
    {
     "name": "stderr",
     "output_type": "stream",
     "text": [
      "C:\\Users\\dheep\\AppData\\Local\\Temp\\ipykernel_28308\\2262779235.py:22: SettingWithCopyWarning: \n",
      "A value is trying to be set on a copy of a slice from a DataFrame.\n",
      "Try using .loc[row_indexer,col_indexer] = value instead\n",
      "\n",
      "See the caveats in the documentation: https://pandas.pydata.org/pandas-docs/stable/user_guide/indexing.html#returning-a-view-versus-a-copy\n",
      "  filtered_books['Estimated-Rating'] = filtered_books['ISBN'].apply(lambda x: model.predict(user_id, x).est)\n",
      "C:\\Users\\dheep\\AppData\\Local\\Temp\\ipykernel_28308\\2408220243.py:7: SettingWithCopyWarning: \n",
      "A value is trying to be set on a copy of a slice from a DataFrame.\n",
      "Try using .loc[row_indexer,col_indexer] = value instead\n",
      "\n",
      "See the caveats in the documentation: https://pandas.pydata.org/pandas-docs/stable/user_guide/indexing.html#returning-a-view-versus-a-copy\n",
      "  other_books['Estimated-Rating'] = other_books['ISBN'].apply(lambda x: model.predict(user_id, x).est)\n"
     ]
    },
    {
     "name": "stdout",
     "output_type": "stream",
     "text": [
      "User Location: vancouver, british columbia, canada, User Age Group: Adult\n"
     ]
    },
    {
     "name": "stderr",
     "output_type": "stream",
     "text": [
      "C:\\Users\\dheep\\AppData\\Local\\Temp\\ipykernel_28308\\2262779235.py:22: SettingWithCopyWarning: \n",
      "A value is trying to be set on a copy of a slice from a DataFrame.\n",
      "Try using .loc[row_indexer,col_indexer] = value instead\n",
      "\n",
      "See the caveats in the documentation: https://pandas.pydata.org/pandas-docs/stable/user_guide/indexing.html#returning-a-view-versus-a-copy\n",
      "  filtered_books['Estimated-Rating'] = filtered_books['ISBN'].apply(lambda x: model.predict(user_id, x).est)\n",
      "C:\\Users\\dheep\\AppData\\Local\\Temp\\ipykernel_28308\\2408220243.py:7: SettingWithCopyWarning: \n",
      "A value is trying to be set on a copy of a slice from a DataFrame.\n",
      "Try using .loc[row_indexer,col_indexer] = value instead\n",
      "\n",
      "See the caveats in the documentation: https://pandas.pydata.org/pandas-docs/stable/user_guide/indexing.html#returning-a-view-versus-a-copy\n",
      "  other_books['Estimated-Rating'] = other_books['ISBN'].apply(lambda x: model.predict(user_id, x).est)\n"
     ]
    },
    {
     "name": "stdout",
     "output_type": "stream",
     "text": [
      "User Location: knoxville, tennessee, usa, User Age Group: Young Adult\n"
     ]
    },
    {
     "name": "stderr",
     "output_type": "stream",
     "text": [
      "C:\\Users\\dheep\\AppData\\Local\\Temp\\ipykernel_28308\\2262779235.py:22: SettingWithCopyWarning: \n",
      "A value is trying to be set on a copy of a slice from a DataFrame.\n",
      "Try using .loc[row_indexer,col_indexer] = value instead\n",
      "\n",
      "See the caveats in the documentation: https://pandas.pydata.org/pandas-docs/stable/user_guide/indexing.html#returning-a-view-versus-a-copy\n",
      "  filtered_books['Estimated-Rating'] = filtered_books['ISBN'].apply(lambda x: model.predict(user_id, x).est)\n",
      "C:\\Users\\dheep\\AppData\\Local\\Temp\\ipykernel_28308\\2408220243.py:7: SettingWithCopyWarning: \n",
      "A value is trying to be set on a copy of a slice from a DataFrame.\n",
      "Try using .loc[row_indexer,col_indexer] = value instead\n",
      "\n",
      "See the caveats in the documentation: https://pandas.pydata.org/pandas-docs/stable/user_guide/indexing.html#returning-a-view-versus-a-copy\n",
      "  other_books['Estimated-Rating'] = other_books['ISBN'].apply(lambda x: model.predict(user_id, x).est)\n"
     ]
    },
    {
     "name": "stdout",
     "output_type": "stream",
     "text": [
      "User Location: timmins, ontario, canada, User Age Group: Adult\n"
     ]
    },
    {
     "name": "stderr",
     "output_type": "stream",
     "text": [
      "C:\\Users\\dheep\\AppData\\Local\\Temp\\ipykernel_28308\\2262779235.py:22: SettingWithCopyWarning: \n",
      "A value is trying to be set on a copy of a slice from a DataFrame.\n",
      "Try using .loc[row_indexer,col_indexer] = value instead\n",
      "\n",
      "See the caveats in the documentation: https://pandas.pydata.org/pandas-docs/stable/user_guide/indexing.html#returning-a-view-versus-a-copy\n",
      "  filtered_books['Estimated-Rating'] = filtered_books['ISBN'].apply(lambda x: model.predict(user_id, x).est)\n",
      "C:\\Users\\dheep\\AppData\\Local\\Temp\\ipykernel_28308\\2408220243.py:7: SettingWithCopyWarning: \n",
      "A value is trying to be set on a copy of a slice from a DataFrame.\n",
      "Try using .loc[row_indexer,col_indexer] = value instead\n",
      "\n",
      "See the caveats in the documentation: https://pandas.pydata.org/pandas-docs/stable/user_guide/indexing.html#returning-a-view-versus-a-copy\n",
      "  other_books['Estimated-Rating'] = other_books['ISBN'].apply(lambda x: model.predict(user_id, x).est)\n"
     ]
    },
    {
     "name": "stdout",
     "output_type": "stream",
     "text": [
      "User Location: barstow, california, usa, User Age Group: Adult\n"
     ]
    },
    {
     "name": "stderr",
     "output_type": "stream",
     "text": [
      "C:\\Users\\dheep\\AppData\\Local\\Temp\\ipykernel_28308\\2262779235.py:22: SettingWithCopyWarning: \n",
      "A value is trying to be set on a copy of a slice from a DataFrame.\n",
      "Try using .loc[row_indexer,col_indexer] = value instead\n",
      "\n",
      "See the caveats in the documentation: https://pandas.pydata.org/pandas-docs/stable/user_guide/indexing.html#returning-a-view-versus-a-copy\n",
      "  filtered_books['Estimated-Rating'] = filtered_books['ISBN'].apply(lambda x: model.predict(user_id, x).est)\n",
      "C:\\Users\\dheep\\AppData\\Local\\Temp\\ipykernel_28308\\2408220243.py:7: SettingWithCopyWarning: \n",
      "A value is trying to be set on a copy of a slice from a DataFrame.\n",
      "Try using .loc[row_indexer,col_indexer] = value instead\n",
      "\n",
      "See the caveats in the documentation: https://pandas.pydata.org/pandas-docs/stable/user_guide/indexing.html#returning-a-view-versus-a-copy\n",
      "  other_books['Estimated-Rating'] = other_books['ISBN'].apply(lambda x: model.predict(user_id, x).est)\n"
     ]
    },
    {
     "name": "stdout",
     "output_type": "stream",
     "text": [
      "User Location: st. louis, missouri, usa, User Age Group: Young Adult\n"
     ]
    },
    {
     "name": "stderr",
     "output_type": "stream",
     "text": [
      "C:\\Users\\dheep\\AppData\\Local\\Temp\\ipykernel_28308\\2262779235.py:22: SettingWithCopyWarning: \n",
      "A value is trying to be set on a copy of a slice from a DataFrame.\n",
      "Try using .loc[row_indexer,col_indexer] = value instead\n",
      "\n",
      "See the caveats in the documentation: https://pandas.pydata.org/pandas-docs/stable/user_guide/indexing.html#returning-a-view-versus-a-copy\n",
      "  filtered_books['Estimated-Rating'] = filtered_books['ISBN'].apply(lambda x: model.predict(user_id, x).est)\n",
      "C:\\Users\\dheep\\AppData\\Local\\Temp\\ipykernel_28308\\2408220243.py:7: SettingWithCopyWarning: \n",
      "A value is trying to be set on a copy of a slice from a DataFrame.\n",
      "Try using .loc[row_indexer,col_indexer] = value instead\n",
      "\n",
      "See the caveats in the documentation: https://pandas.pydata.org/pandas-docs/stable/user_guide/indexing.html#returning-a-view-versus-a-copy\n",
      "  other_books['Estimated-Rating'] = other_books['ISBN'].apply(lambda x: model.predict(user_id, x).est)\n"
     ]
    },
    {
     "name": "stdout",
     "output_type": "stream",
     "text": [
      "User Location: ashland, missouri, usa, User Age Group: Adult\n"
     ]
    },
    {
     "name": "stderr",
     "output_type": "stream",
     "text": [
      "C:\\Users\\dheep\\AppData\\Local\\Temp\\ipykernel_28308\\2262779235.py:22: SettingWithCopyWarning: \n",
      "A value is trying to be set on a copy of a slice from a DataFrame.\n",
      "Try using .loc[row_indexer,col_indexer] = value instead\n",
      "\n",
      "See the caveats in the documentation: https://pandas.pydata.org/pandas-docs/stable/user_guide/indexing.html#returning-a-view-versus-a-copy\n",
      "  filtered_books['Estimated-Rating'] = filtered_books['ISBN'].apply(lambda x: model.predict(user_id, x).est)\n",
      "C:\\Users\\dheep\\AppData\\Local\\Temp\\ipykernel_28308\\2408220243.py:7: SettingWithCopyWarning: \n",
      "A value is trying to be set on a copy of a slice from a DataFrame.\n",
      "Try using .loc[row_indexer,col_indexer] = value instead\n",
      "\n",
      "See the caveats in the documentation: https://pandas.pydata.org/pandas-docs/stable/user_guide/indexing.html#returning-a-view-versus-a-copy\n",
      "  other_books['Estimated-Rating'] = other_books['ISBN'].apply(lambda x: model.predict(user_id, x).est)\n"
     ]
    },
    {
     "name": "stdout",
     "output_type": "stream",
     "text": [
      "User Location: glen allen, virginia, usa, User Age Group: Adult\n"
     ]
    },
    {
     "name": "stderr",
     "output_type": "stream",
     "text": [
      "C:\\Users\\dheep\\AppData\\Local\\Temp\\ipykernel_28308\\2262779235.py:22: SettingWithCopyWarning: \n",
      "A value is trying to be set on a copy of a slice from a DataFrame.\n",
      "Try using .loc[row_indexer,col_indexer] = value instead\n",
      "\n",
      "See the caveats in the documentation: https://pandas.pydata.org/pandas-docs/stable/user_guide/indexing.html#returning-a-view-versus-a-copy\n",
      "  filtered_books['Estimated-Rating'] = filtered_books['ISBN'].apply(lambda x: model.predict(user_id, x).est)\n",
      "C:\\Users\\dheep\\AppData\\Local\\Temp\\ipykernel_28308\\2408220243.py:7: SettingWithCopyWarning: \n",
      "A value is trying to be set on a copy of a slice from a DataFrame.\n",
      "Try using .loc[row_indexer,col_indexer] = value instead\n",
      "\n",
      "See the caveats in the documentation: https://pandas.pydata.org/pandas-docs/stable/user_guide/indexing.html#returning-a-view-versus-a-copy\n",
      "  other_books['Estimated-Rating'] = other_books['ISBN'].apply(lambda x: model.predict(user_id, x).est)\n"
     ]
    },
    {
     "name": "stdout",
     "output_type": "stream",
     "text": [
      "User Location: knoxville, tennessee, usa, User Age Group: Adult\n"
     ]
    },
    {
     "name": "stderr",
     "output_type": "stream",
     "text": [
      "C:\\Users\\dheep\\AppData\\Local\\Temp\\ipykernel_28308\\2262779235.py:22: SettingWithCopyWarning: \n",
      "A value is trying to be set on a copy of a slice from a DataFrame.\n",
      "Try using .loc[row_indexer,col_indexer] = value instead\n",
      "\n",
      "See the caveats in the documentation: https://pandas.pydata.org/pandas-docs/stable/user_guide/indexing.html#returning-a-view-versus-a-copy\n",
      "  filtered_books['Estimated-Rating'] = filtered_books['ISBN'].apply(lambda x: model.predict(user_id, x).est)\n",
      "C:\\Users\\dheep\\AppData\\Local\\Temp\\ipykernel_28308\\2408220243.py:7: SettingWithCopyWarning: \n",
      "A value is trying to be set on a copy of a slice from a DataFrame.\n",
      "Try using .loc[row_indexer,col_indexer] = value instead\n",
      "\n",
      "See the caveats in the documentation: https://pandas.pydata.org/pandas-docs/stable/user_guide/indexing.html#returning-a-view-versus-a-copy\n",
      "  other_books['Estimated-Rating'] = other_books['ISBN'].apply(lambda x: model.predict(user_id, x).est)\n"
     ]
    },
    {
     "name": "stdout",
     "output_type": "stream",
     "text": [
      "User Location: tampere, pirkanmaa, finland, User Age Group: Young Adult\n"
     ]
    },
    {
     "name": "stderr",
     "output_type": "stream",
     "text": [
      "C:\\Users\\dheep\\AppData\\Local\\Temp\\ipykernel_28308\\2262779235.py:22: SettingWithCopyWarning: \n",
      "A value is trying to be set on a copy of a slice from a DataFrame.\n",
      "Try using .loc[row_indexer,col_indexer] = value instead\n",
      "\n",
      "See the caveats in the documentation: https://pandas.pydata.org/pandas-docs/stable/user_guide/indexing.html#returning-a-view-versus-a-copy\n",
      "  filtered_books['Estimated-Rating'] = filtered_books['ISBN'].apply(lambda x: model.predict(user_id, x).est)\n",
      "C:\\Users\\dheep\\AppData\\Local\\Temp\\ipykernel_28308\\2408220243.py:7: SettingWithCopyWarning: \n",
      "A value is trying to be set on a copy of a slice from a DataFrame.\n",
      "Try using .loc[row_indexer,col_indexer] = value instead\n",
      "\n",
      "See the caveats in the documentation: https://pandas.pydata.org/pandas-docs/stable/user_guide/indexing.html#returning-a-view-versus-a-copy\n",
      "  other_books['Estimated-Rating'] = other_books['ISBN'].apply(lambda x: model.predict(user_id, x).est)\n"
     ]
    },
    {
     "name": "stdout",
     "output_type": "stream",
     "text": [
      "User Location: sheffield, s yorkshire, united kingdom, User Age Group: Young Adult\n"
     ]
    },
    {
     "name": "stderr",
     "output_type": "stream",
     "text": [
      "C:\\Users\\dheep\\AppData\\Local\\Temp\\ipykernel_28308\\2262779235.py:22: SettingWithCopyWarning: \n",
      "A value is trying to be set on a copy of a slice from a DataFrame.\n",
      "Try using .loc[row_indexer,col_indexer] = value instead\n",
      "\n",
      "See the caveats in the documentation: https://pandas.pydata.org/pandas-docs/stable/user_guide/indexing.html#returning-a-view-versus-a-copy\n",
      "  filtered_books['Estimated-Rating'] = filtered_books['ISBN'].apply(lambda x: model.predict(user_id, x).est)\n",
      "C:\\Users\\dheep\\AppData\\Local\\Temp\\ipykernel_28308\\2408220243.py:7: SettingWithCopyWarning: \n",
      "A value is trying to be set on a copy of a slice from a DataFrame.\n",
      "Try using .loc[row_indexer,col_indexer] = value instead\n",
      "\n",
      "See the caveats in the documentation: https://pandas.pydata.org/pandas-docs/stable/user_guide/indexing.html#returning-a-view-versus-a-copy\n",
      "  other_books['Estimated-Rating'] = other_books['ISBN'].apply(lambda x: model.predict(user_id, x).est)\n"
     ]
    },
    {
     "name": "stdout",
     "output_type": "stream",
     "text": [
      "User Location: prosperity, south carolina, usa, User Age Group: Adult\n"
     ]
    },
    {
     "name": "stderr",
     "output_type": "stream",
     "text": [
      "C:\\Users\\dheep\\AppData\\Local\\Temp\\ipykernel_28308\\2262779235.py:22: SettingWithCopyWarning: \n",
      "A value is trying to be set on a copy of a slice from a DataFrame.\n",
      "Try using .loc[row_indexer,col_indexer] = value instead\n",
      "\n",
      "See the caveats in the documentation: https://pandas.pydata.org/pandas-docs/stable/user_guide/indexing.html#returning-a-view-versus-a-copy\n",
      "  filtered_books['Estimated-Rating'] = filtered_books['ISBN'].apply(lambda x: model.predict(user_id, x).est)\n",
      "C:\\Users\\dheep\\AppData\\Local\\Temp\\ipykernel_28308\\2408220243.py:7: SettingWithCopyWarning: \n",
      "A value is trying to be set on a copy of a slice from a DataFrame.\n",
      "Try using .loc[row_indexer,col_indexer] = value instead\n",
      "\n",
      "See the caveats in the documentation: https://pandas.pydata.org/pandas-docs/stable/user_guide/indexing.html#returning-a-view-versus-a-copy\n",
      "  other_books['Estimated-Rating'] = other_books['ISBN'].apply(lambda x: model.predict(user_id, x).est)\n"
     ]
    },
    {
     "name": "stdout",
     "output_type": "stream",
     "text": [
      "User Location: humble, ,, User Age Group: Adult\n"
     ]
    },
    {
     "name": "stderr",
     "output_type": "stream",
     "text": [
      "C:\\Users\\dheep\\AppData\\Local\\Temp\\ipykernel_28308\\2262779235.py:22: SettingWithCopyWarning: \n",
      "A value is trying to be set on a copy of a slice from a DataFrame.\n",
      "Try using .loc[row_indexer,col_indexer] = value instead\n",
      "\n",
      "See the caveats in the documentation: https://pandas.pydata.org/pandas-docs/stable/user_guide/indexing.html#returning-a-view-versus-a-copy\n",
      "  filtered_books['Estimated-Rating'] = filtered_books['ISBN'].apply(lambda x: model.predict(user_id, x).est)\n",
      "C:\\Users\\dheep\\AppData\\Local\\Temp\\ipykernel_28308\\2408220243.py:7: SettingWithCopyWarning: \n",
      "A value is trying to be set on a copy of a slice from a DataFrame.\n",
      "Try using .loc[row_indexer,col_indexer] = value instead\n",
      "\n",
      "See the caveats in the documentation: https://pandas.pydata.org/pandas-docs/stable/user_guide/indexing.html#returning-a-view-versus-a-copy\n",
      "  other_books['Estimated-Rating'] = other_books['ISBN'].apply(lambda x: model.predict(user_id, x).est)\n"
     ]
    },
    {
     "name": "stdout",
     "output_type": "stream",
     "text": [
      "User Location: germantown, tennessee, usa, User Age Group: Adult\n"
     ]
    },
    {
     "name": "stderr",
     "output_type": "stream",
     "text": [
      "C:\\Users\\dheep\\AppData\\Local\\Temp\\ipykernel_28308\\2262779235.py:22: SettingWithCopyWarning: \n",
      "A value is trying to be set on a copy of a slice from a DataFrame.\n",
      "Try using .loc[row_indexer,col_indexer] = value instead\n",
      "\n",
      "See the caveats in the documentation: https://pandas.pydata.org/pandas-docs/stable/user_guide/indexing.html#returning-a-view-versus-a-copy\n",
      "  filtered_books['Estimated-Rating'] = filtered_books['ISBN'].apply(lambda x: model.predict(user_id, x).est)\n",
      "C:\\Users\\dheep\\AppData\\Local\\Temp\\ipykernel_28308\\2408220243.py:7: SettingWithCopyWarning: \n",
      "A value is trying to be set on a copy of a slice from a DataFrame.\n",
      "Try using .loc[row_indexer,col_indexer] = value instead\n",
      "\n",
      "See the caveats in the documentation: https://pandas.pydata.org/pandas-docs/stable/user_guide/indexing.html#returning-a-view-versus-a-copy\n",
      "  other_books['Estimated-Rating'] = other_books['ISBN'].apply(lambda x: model.predict(user_id, x).est)\n"
     ]
    },
    {
     "name": "stdout",
     "output_type": "stream",
     "text": [
      "User Location: arden hills, minnesota, usa, User Age Group: Adult\n"
     ]
    },
    {
     "name": "stderr",
     "output_type": "stream",
     "text": [
      "C:\\Users\\dheep\\AppData\\Local\\Temp\\ipykernel_28308\\2262779235.py:22: SettingWithCopyWarning: \n",
      "A value is trying to be set on a copy of a slice from a DataFrame.\n",
      "Try using .loc[row_indexer,col_indexer] = value instead\n",
      "\n",
      "See the caveats in the documentation: https://pandas.pydata.org/pandas-docs/stable/user_guide/indexing.html#returning-a-view-versus-a-copy\n",
      "  filtered_books['Estimated-Rating'] = filtered_books['ISBN'].apply(lambda x: model.predict(user_id, x).est)\n",
      "C:\\Users\\dheep\\AppData\\Local\\Temp\\ipykernel_28308\\2408220243.py:7: SettingWithCopyWarning: \n",
      "A value is trying to be set on a copy of a slice from a DataFrame.\n",
      "Try using .loc[row_indexer,col_indexer] = value instead\n",
      "\n",
      "See the caveats in the documentation: https://pandas.pydata.org/pandas-docs/stable/user_guide/indexing.html#returning-a-view-versus-a-copy\n",
      "  other_books['Estimated-Rating'] = other_books['ISBN'].apply(lambda x: model.predict(user_id, x).est)\n"
     ]
    },
    {
     "name": "stdout",
     "output_type": "stream",
     "text": [
      "User Location: nashville, tennessee, usa, User Age Group: Young Adult\n"
     ]
    },
    {
     "name": "stderr",
     "output_type": "stream",
     "text": [
      "C:\\Users\\dheep\\AppData\\Local\\Temp\\ipykernel_28308\\2262779235.py:22: SettingWithCopyWarning: \n",
      "A value is trying to be set on a copy of a slice from a DataFrame.\n",
      "Try using .loc[row_indexer,col_indexer] = value instead\n",
      "\n",
      "See the caveats in the documentation: https://pandas.pydata.org/pandas-docs/stable/user_guide/indexing.html#returning-a-view-versus-a-copy\n",
      "  filtered_books['Estimated-Rating'] = filtered_books['ISBN'].apply(lambda x: model.predict(user_id, x).est)\n",
      "C:\\Users\\dheep\\AppData\\Local\\Temp\\ipykernel_28308\\2408220243.py:7: SettingWithCopyWarning: \n",
      "A value is trying to be set on a copy of a slice from a DataFrame.\n",
      "Try using .loc[row_indexer,col_indexer] = value instead\n",
      "\n",
      "See the caveats in the documentation: https://pandas.pydata.org/pandas-docs/stable/user_guide/indexing.html#returning-a-view-versus-a-copy\n",
      "  other_books['Estimated-Rating'] = other_books['ISBN'].apply(lambda x: model.predict(user_id, x).est)\n"
     ]
    },
    {
     "name": "stdout",
     "output_type": "stream",
     "text": [
      "User Location: richland, washington, usa, User Age Group: Young Adult\n"
     ]
    },
    {
     "name": "stderr",
     "output_type": "stream",
     "text": [
      "C:\\Users\\dheep\\AppData\\Local\\Temp\\ipykernel_28308\\2262779235.py:22: SettingWithCopyWarning: \n",
      "A value is trying to be set on a copy of a slice from a DataFrame.\n",
      "Try using .loc[row_indexer,col_indexer] = value instead\n",
      "\n",
      "See the caveats in the documentation: https://pandas.pydata.org/pandas-docs/stable/user_guide/indexing.html#returning-a-view-versus-a-copy\n",
      "  filtered_books['Estimated-Rating'] = filtered_books['ISBN'].apply(lambda x: model.predict(user_id, x).est)\n",
      "C:\\Users\\dheep\\AppData\\Local\\Temp\\ipykernel_28308\\2408220243.py:7: SettingWithCopyWarning: \n",
      "A value is trying to be set on a copy of a slice from a DataFrame.\n",
      "Try using .loc[row_indexer,col_indexer] = value instead\n",
      "\n",
      "See the caveats in the documentation: https://pandas.pydata.org/pandas-docs/stable/user_guide/indexing.html#returning-a-view-versus-a-copy\n",
      "  other_books['Estimated-Rating'] = other_books['ISBN'].apply(lambda x: model.predict(user_id, x).est)\n"
     ]
    },
    {
     "name": "stdout",
     "output_type": "stream",
     "text": [
      "User Location: grantsville, utah, usa, User Age Group: Adult\n"
     ]
    },
    {
     "name": "stderr",
     "output_type": "stream",
     "text": [
      "C:\\Users\\dheep\\AppData\\Local\\Temp\\ipykernel_28308\\2262779235.py:22: SettingWithCopyWarning: \n",
      "A value is trying to be set on a copy of a slice from a DataFrame.\n",
      "Try using .loc[row_indexer,col_indexer] = value instead\n",
      "\n",
      "See the caveats in the documentation: https://pandas.pydata.org/pandas-docs/stable/user_guide/indexing.html#returning-a-view-versus-a-copy\n",
      "  filtered_books['Estimated-Rating'] = filtered_books['ISBN'].apply(lambda x: model.predict(user_id, x).est)\n",
      "C:\\Users\\dheep\\AppData\\Local\\Temp\\ipykernel_28308\\2408220243.py:7: SettingWithCopyWarning: \n",
      "A value is trying to be set on a copy of a slice from a DataFrame.\n",
      "Try using .loc[row_indexer,col_indexer] = value instead\n",
      "\n",
      "See the caveats in the documentation: https://pandas.pydata.org/pandas-docs/stable/user_guide/indexing.html#returning-a-view-versus-a-copy\n",
      "  other_books['Estimated-Rating'] = other_books['ISBN'].apply(lambda x: model.predict(user_id, x).est)\n"
     ]
    },
    {
     "name": "stdout",
     "output_type": "stream",
     "text": [
      "User Location: springfield, ,, User Age Group: Young Adult\n"
     ]
    },
    {
     "name": "stderr",
     "output_type": "stream",
     "text": [
      "C:\\Users\\dheep\\AppData\\Local\\Temp\\ipykernel_28308\\2262779235.py:22: SettingWithCopyWarning: \n",
      "A value is trying to be set on a copy of a slice from a DataFrame.\n",
      "Try using .loc[row_indexer,col_indexer] = value instead\n",
      "\n",
      "See the caveats in the documentation: https://pandas.pydata.org/pandas-docs/stable/user_guide/indexing.html#returning-a-view-versus-a-copy\n",
      "  filtered_books['Estimated-Rating'] = filtered_books['ISBN'].apply(lambda x: model.predict(user_id, x).est)\n",
      "C:\\Users\\dheep\\AppData\\Local\\Temp\\ipykernel_28308\\2408220243.py:7: SettingWithCopyWarning: \n",
      "A value is trying to be set on a copy of a slice from a DataFrame.\n",
      "Try using .loc[row_indexer,col_indexer] = value instead\n",
      "\n",
      "See the caveats in the documentation: https://pandas.pydata.org/pandas-docs/stable/user_guide/indexing.html#returning-a-view-versus-a-copy\n",
      "  other_books['Estimated-Rating'] = other_books['ISBN'].apply(lambda x: model.predict(user_id, x).est)\n"
     ]
    },
    {
     "name": "stdout",
     "output_type": "stream",
     "text": [
      "User Location: portland, oregon, usa, User Age Group: Young Adult\n"
     ]
    },
    {
     "name": "stderr",
     "output_type": "stream",
     "text": [
      "C:\\Users\\dheep\\AppData\\Local\\Temp\\ipykernel_28308\\2262779235.py:22: SettingWithCopyWarning: \n",
      "A value is trying to be set on a copy of a slice from a DataFrame.\n",
      "Try using .loc[row_indexer,col_indexer] = value instead\n",
      "\n",
      "See the caveats in the documentation: https://pandas.pydata.org/pandas-docs/stable/user_guide/indexing.html#returning-a-view-versus-a-copy\n",
      "  filtered_books['Estimated-Rating'] = filtered_books['ISBN'].apply(lambda x: model.predict(user_id, x).est)\n",
      "C:\\Users\\dheep\\AppData\\Local\\Temp\\ipykernel_28308\\2408220243.py:7: SettingWithCopyWarning: \n",
      "A value is trying to be set on a copy of a slice from a DataFrame.\n",
      "Try using .loc[row_indexer,col_indexer] = value instead\n",
      "\n",
      "See the caveats in the documentation: https://pandas.pydata.org/pandas-docs/stable/user_guide/indexing.html#returning-a-view-versus-a-copy\n",
      "  other_books['Estimated-Rating'] = other_books['ISBN'].apply(lambda x: model.predict(user_id, x).est)\n"
     ]
    },
    {
     "name": "stdout",
     "output_type": "stream",
     "text": [
      "User Location: sunnyvale, california, usa, User Age Group: Adult\n"
     ]
    },
    {
     "name": "stderr",
     "output_type": "stream",
     "text": [
      "C:\\Users\\dheep\\AppData\\Local\\Temp\\ipykernel_28308\\2262779235.py:22: SettingWithCopyWarning: \n",
      "A value is trying to be set on a copy of a slice from a DataFrame.\n",
      "Try using .loc[row_indexer,col_indexer] = value instead\n",
      "\n",
      "See the caveats in the documentation: https://pandas.pydata.org/pandas-docs/stable/user_guide/indexing.html#returning-a-view-versus-a-copy\n",
      "  filtered_books['Estimated-Rating'] = filtered_books['ISBN'].apply(lambda x: model.predict(user_id, x).est)\n",
      "C:\\Users\\dheep\\AppData\\Local\\Temp\\ipykernel_28308\\2408220243.py:7: SettingWithCopyWarning: \n",
      "A value is trying to be set on a copy of a slice from a DataFrame.\n",
      "Try using .loc[row_indexer,col_indexer] = value instead\n",
      "\n",
      "See the caveats in the documentation: https://pandas.pydata.org/pandas-docs/stable/user_guide/indexing.html#returning-a-view-versus-a-copy\n",
      "  other_books['Estimated-Rating'] = other_books['ISBN'].apply(lambda x: model.predict(user_id, x).est)\n"
     ]
    },
    {
     "name": "stdout",
     "output_type": "stream",
     "text": [
      "User Location: houston, texas, usa, User Age Group: Senior\n"
     ]
    },
    {
     "name": "stderr",
     "output_type": "stream",
     "text": [
      "C:\\Users\\dheep\\AppData\\Local\\Temp\\ipykernel_28308\\2262779235.py:22: SettingWithCopyWarning: \n",
      "A value is trying to be set on a copy of a slice from a DataFrame.\n",
      "Try using .loc[row_indexer,col_indexer] = value instead\n",
      "\n",
      "See the caveats in the documentation: https://pandas.pydata.org/pandas-docs/stable/user_guide/indexing.html#returning-a-view-versus-a-copy\n",
      "  filtered_books['Estimated-Rating'] = filtered_books['ISBN'].apply(lambda x: model.predict(user_id, x).est)\n",
      "C:\\Users\\dheep\\AppData\\Local\\Temp\\ipykernel_28308\\2408220243.py:7: SettingWithCopyWarning: \n",
      "A value is trying to be set on a copy of a slice from a DataFrame.\n",
      "Try using .loc[row_indexer,col_indexer] = value instead\n",
      "\n",
      "See the caveats in the documentation: https://pandas.pydata.org/pandas-docs/stable/user_guide/indexing.html#returning-a-view-versus-a-copy\n",
      "  other_books['Estimated-Rating'] = other_books['ISBN'].apply(lambda x: model.predict(user_id, x).est)\n"
     ]
    },
    {
     "name": "stdout",
     "output_type": "stream",
     "text": [
      "User Location: somewhere, texas, usa, User Age Group: Adult\n"
     ]
    },
    {
     "name": "stderr",
     "output_type": "stream",
     "text": [
      "C:\\Users\\dheep\\AppData\\Local\\Temp\\ipykernel_28308\\2262779235.py:22: SettingWithCopyWarning: \n",
      "A value is trying to be set on a copy of a slice from a DataFrame.\n",
      "Try using .loc[row_indexer,col_indexer] = value instead\n",
      "\n",
      "See the caveats in the documentation: https://pandas.pydata.org/pandas-docs/stable/user_guide/indexing.html#returning-a-view-versus-a-copy\n",
      "  filtered_books['Estimated-Rating'] = filtered_books['ISBN'].apply(lambda x: model.predict(user_id, x).est)\n",
      "C:\\Users\\dheep\\AppData\\Local\\Temp\\ipykernel_28308\\2408220243.py:7: SettingWithCopyWarning: \n",
      "A value is trying to be set on a copy of a slice from a DataFrame.\n",
      "Try using .loc[row_indexer,col_indexer] = value instead\n",
      "\n",
      "See the caveats in the documentation: https://pandas.pydata.org/pandas-docs/stable/user_guide/indexing.html#returning-a-view-versus-a-copy\n",
      "  other_books['Estimated-Rating'] = other_books['ISBN'].apply(lambda x: model.predict(user_id, x).est)\n"
     ]
    },
    {
     "name": "stdout",
     "output_type": "stream",
     "text": [
      "User Location: o`fallon, missouri, usa, User Age Group: Adult\n"
     ]
    },
    {
     "name": "stderr",
     "output_type": "stream",
     "text": [
      "C:\\Users\\dheep\\AppData\\Local\\Temp\\ipykernel_28308\\2262779235.py:22: SettingWithCopyWarning: \n",
      "A value is trying to be set on a copy of a slice from a DataFrame.\n",
      "Try using .loc[row_indexer,col_indexer] = value instead\n",
      "\n",
      "See the caveats in the documentation: https://pandas.pydata.org/pandas-docs/stable/user_guide/indexing.html#returning-a-view-versus-a-copy\n",
      "  filtered_books['Estimated-Rating'] = filtered_books['ISBN'].apply(lambda x: model.predict(user_id, x).est)\n",
      "C:\\Users\\dheep\\AppData\\Local\\Temp\\ipykernel_28308\\2408220243.py:7: SettingWithCopyWarning: \n",
      "A value is trying to be set on a copy of a slice from a DataFrame.\n",
      "Try using .loc[row_indexer,col_indexer] = value instead\n",
      "\n",
      "See the caveats in the documentation: https://pandas.pydata.org/pandas-docs/stable/user_guide/indexing.html#returning-a-view-versus-a-copy\n",
      "  other_books['Estimated-Rating'] = other_books['ISBN'].apply(lambda x: model.predict(user_id, x).est)\n"
     ]
    },
    {
     "name": "stdout",
     "output_type": "stream",
     "text": [
      "User Location: glendale, colorado, usa, User Age Group: Young Adult\n"
     ]
    },
    {
     "name": "stderr",
     "output_type": "stream",
     "text": [
      "C:\\Users\\dheep\\AppData\\Local\\Temp\\ipykernel_28308\\2262779235.py:22: SettingWithCopyWarning: \n",
      "A value is trying to be set on a copy of a slice from a DataFrame.\n",
      "Try using .loc[row_indexer,col_indexer] = value instead\n",
      "\n",
      "See the caveats in the documentation: https://pandas.pydata.org/pandas-docs/stable/user_guide/indexing.html#returning-a-view-versus-a-copy\n",
      "  filtered_books['Estimated-Rating'] = filtered_books['ISBN'].apply(lambda x: model.predict(user_id, x).est)\n",
      "C:\\Users\\dheep\\AppData\\Local\\Temp\\ipykernel_28308\\2408220243.py:7: SettingWithCopyWarning: \n",
      "A value is trying to be set on a copy of a slice from a DataFrame.\n",
      "Try using .loc[row_indexer,col_indexer] = value instead\n",
      "\n",
      "See the caveats in the documentation: https://pandas.pydata.org/pandas-docs/stable/user_guide/indexing.html#returning-a-view-versus-a-copy\n",
      "  other_books['Estimated-Rating'] = other_books['ISBN'].apply(lambda x: model.predict(user_id, x).est)\n"
     ]
    },
    {
     "name": "stdout",
     "output_type": "stream",
     "text": [
      "User Location: tumwater, washington, usa, User Age Group: Senior\n"
     ]
    },
    {
     "name": "stderr",
     "output_type": "stream",
     "text": [
      "C:\\Users\\dheep\\AppData\\Local\\Temp\\ipykernel_28308\\2262779235.py:22: SettingWithCopyWarning: \n",
      "A value is trying to be set on a copy of a slice from a DataFrame.\n",
      "Try using .loc[row_indexer,col_indexer] = value instead\n",
      "\n",
      "See the caveats in the documentation: https://pandas.pydata.org/pandas-docs/stable/user_guide/indexing.html#returning-a-view-versus-a-copy\n",
      "  filtered_books['Estimated-Rating'] = filtered_books['ISBN'].apply(lambda x: model.predict(user_id, x).est)\n",
      "C:\\Users\\dheep\\AppData\\Local\\Temp\\ipykernel_28308\\2408220243.py:7: SettingWithCopyWarning: \n",
      "A value is trying to be set on a copy of a slice from a DataFrame.\n",
      "Try using .loc[row_indexer,col_indexer] = value instead\n",
      "\n",
      "See the caveats in the documentation: https://pandas.pydata.org/pandas-docs/stable/user_guide/indexing.html#returning-a-view-versus-a-copy\n",
      "  other_books['Estimated-Rating'] = other_books['ISBN'].apply(lambda x: model.predict(user_id, x).est)\n"
     ]
    },
    {
     "name": "stdout",
     "output_type": "stream",
     "text": [
      "User Location: charlotte, north carolina, usa, User Age Group: Adult\n"
     ]
    },
    {
     "name": "stderr",
     "output_type": "stream",
     "text": [
      "C:\\Users\\dheep\\AppData\\Local\\Temp\\ipykernel_28308\\2262779235.py:22: SettingWithCopyWarning: \n",
      "A value is trying to be set on a copy of a slice from a DataFrame.\n",
      "Try using .loc[row_indexer,col_indexer] = value instead\n",
      "\n",
      "See the caveats in the documentation: https://pandas.pydata.org/pandas-docs/stable/user_guide/indexing.html#returning-a-view-versus-a-copy\n",
      "  filtered_books['Estimated-Rating'] = filtered_books['ISBN'].apply(lambda x: model.predict(user_id, x).est)\n",
      "C:\\Users\\dheep\\AppData\\Local\\Temp\\ipykernel_28308\\2408220243.py:7: SettingWithCopyWarning: \n",
      "A value is trying to be set on a copy of a slice from a DataFrame.\n",
      "Try using .loc[row_indexer,col_indexer] = value instead\n",
      "\n",
      "See the caveats in the documentation: https://pandas.pydata.org/pandas-docs/stable/user_guide/indexing.html#returning-a-view-versus-a-copy\n",
      "  other_books['Estimated-Rating'] = other_books['ISBN'].apply(lambda x: model.predict(user_id, x).est)\n"
     ]
    },
    {
     "name": "stdout",
     "output_type": "stream",
     "text": [
      "User Location: louisville, kentucky, usa, User Age Group: Adult\n"
     ]
    },
    {
     "name": "stderr",
     "output_type": "stream",
     "text": [
      "C:\\Users\\dheep\\AppData\\Local\\Temp\\ipykernel_28308\\2262779235.py:22: SettingWithCopyWarning: \n",
      "A value is trying to be set on a copy of a slice from a DataFrame.\n",
      "Try using .loc[row_indexer,col_indexer] = value instead\n",
      "\n",
      "See the caveats in the documentation: https://pandas.pydata.org/pandas-docs/stable/user_guide/indexing.html#returning-a-view-versus-a-copy\n",
      "  filtered_books['Estimated-Rating'] = filtered_books['ISBN'].apply(lambda x: model.predict(user_id, x).est)\n",
      "C:\\Users\\dheep\\AppData\\Local\\Temp\\ipykernel_28308\\2408220243.py:7: SettingWithCopyWarning: \n",
      "A value is trying to be set on a copy of a slice from a DataFrame.\n",
      "Try using .loc[row_indexer,col_indexer] = value instead\n",
      "\n",
      "See the caveats in the documentation: https://pandas.pydata.org/pandas-docs/stable/user_guide/indexing.html#returning-a-view-versus-a-copy\n",
      "  other_books['Estimated-Rating'] = other_books['ISBN'].apply(lambda x: model.predict(user_id, x).est)\n"
     ]
    },
    {
     "name": "stdout",
     "output_type": "stream",
     "text": [
      "User Location: cordova, tennessee, usa, User Age Group: Young Adult\n"
     ]
    },
    {
     "name": "stderr",
     "output_type": "stream",
     "text": [
      "C:\\Users\\dheep\\AppData\\Local\\Temp\\ipykernel_28308\\2262779235.py:22: SettingWithCopyWarning: \n",
      "A value is trying to be set on a copy of a slice from a DataFrame.\n",
      "Try using .loc[row_indexer,col_indexer] = value instead\n",
      "\n",
      "See the caveats in the documentation: https://pandas.pydata.org/pandas-docs/stable/user_guide/indexing.html#returning-a-view-versus-a-copy\n",
      "  filtered_books['Estimated-Rating'] = filtered_books['ISBN'].apply(lambda x: model.predict(user_id, x).est)\n",
      "C:\\Users\\dheep\\AppData\\Local\\Temp\\ipykernel_28308\\2408220243.py:7: SettingWithCopyWarning: \n",
      "A value is trying to be set on a copy of a slice from a DataFrame.\n",
      "Try using .loc[row_indexer,col_indexer] = value instead\n",
      "\n",
      "See the caveats in the documentation: https://pandas.pydata.org/pandas-docs/stable/user_guide/indexing.html#returning-a-view-versus-a-copy\n",
      "  other_books['Estimated-Rating'] = other_books['ISBN'].apply(lambda x: model.predict(user_id, x).est)\n"
     ]
    },
    {
     "name": "stdout",
     "output_type": "stream",
     "text": [
      "User Location: lisboa, lisboa, portugal, User Age Group: Young Adult\n"
     ]
    },
    {
     "name": "stderr",
     "output_type": "stream",
     "text": [
      "C:\\Users\\dheep\\AppData\\Local\\Temp\\ipykernel_28308\\2262779235.py:22: SettingWithCopyWarning: \n",
      "A value is trying to be set on a copy of a slice from a DataFrame.\n",
      "Try using .loc[row_indexer,col_indexer] = value instead\n",
      "\n",
      "See the caveats in the documentation: https://pandas.pydata.org/pandas-docs/stable/user_guide/indexing.html#returning-a-view-versus-a-copy\n",
      "  filtered_books['Estimated-Rating'] = filtered_books['ISBN'].apply(lambda x: model.predict(user_id, x).est)\n",
      "C:\\Users\\dheep\\AppData\\Local\\Temp\\ipykernel_28308\\2408220243.py:7: SettingWithCopyWarning: \n",
      "A value is trying to be set on a copy of a slice from a DataFrame.\n",
      "Try using .loc[row_indexer,col_indexer] = value instead\n",
      "\n",
      "See the caveats in the documentation: https://pandas.pydata.org/pandas-docs/stable/user_guide/indexing.html#returning-a-view-versus-a-copy\n",
      "  other_books['Estimated-Rating'] = other_books['ISBN'].apply(lambda x: model.predict(user_id, x).est)\n"
     ]
    },
    {
     "name": "stdout",
     "output_type": "stream",
     "text": [
      "User Location: providence, rhode island, usa, User Age Group: Adult\n"
     ]
    },
    {
     "name": "stderr",
     "output_type": "stream",
     "text": [
      "C:\\Users\\dheep\\AppData\\Local\\Temp\\ipykernel_28308\\2262779235.py:22: SettingWithCopyWarning: \n",
      "A value is trying to be set on a copy of a slice from a DataFrame.\n",
      "Try using .loc[row_indexer,col_indexer] = value instead\n",
      "\n",
      "See the caveats in the documentation: https://pandas.pydata.org/pandas-docs/stable/user_guide/indexing.html#returning-a-view-versus-a-copy\n",
      "  filtered_books['Estimated-Rating'] = filtered_books['ISBN'].apply(lambda x: model.predict(user_id, x).est)\n",
      "C:\\Users\\dheep\\AppData\\Local\\Temp\\ipykernel_28308\\2408220243.py:7: SettingWithCopyWarning: \n",
      "A value is trying to be set on a copy of a slice from a DataFrame.\n",
      "Try using .loc[row_indexer,col_indexer] = value instead\n",
      "\n",
      "See the caveats in the documentation: https://pandas.pydata.org/pandas-docs/stable/user_guide/indexing.html#returning-a-view-versus-a-copy\n",
      "  other_books['Estimated-Rating'] = other_books['ISBN'].apply(lambda x: model.predict(user_id, x).est)\n"
     ]
    },
    {
     "name": "stdout",
     "output_type": "stream",
     "text": [
      "User Location: rogersville, tennessee, usa, User Age Group: Adult\n"
     ]
    },
    {
     "name": "stderr",
     "output_type": "stream",
     "text": [
      "C:\\Users\\dheep\\AppData\\Local\\Temp\\ipykernel_28308\\2262779235.py:22: SettingWithCopyWarning: \n",
      "A value is trying to be set on a copy of a slice from a DataFrame.\n",
      "Try using .loc[row_indexer,col_indexer] = value instead\n",
      "\n",
      "See the caveats in the documentation: https://pandas.pydata.org/pandas-docs/stable/user_guide/indexing.html#returning-a-view-versus-a-copy\n",
      "  filtered_books['Estimated-Rating'] = filtered_books['ISBN'].apply(lambda x: model.predict(user_id, x).est)\n",
      "C:\\Users\\dheep\\AppData\\Local\\Temp\\ipykernel_28308\\2408220243.py:7: SettingWithCopyWarning: \n",
      "A value is trying to be set on a copy of a slice from a DataFrame.\n",
      "Try using .loc[row_indexer,col_indexer] = value instead\n",
      "\n",
      "See the caveats in the documentation: https://pandas.pydata.org/pandas-docs/stable/user_guide/indexing.html#returning-a-view-versus-a-copy\n",
      "  other_books['Estimated-Rating'] = other_books['ISBN'].apply(lambda x: model.predict(user_id, x).est)\n"
     ]
    },
    {
     "name": "stdout",
     "output_type": "stream",
     "text": [
      "User Location: mechanicsville, maryland, usa, User Age Group: Adult\n"
     ]
    },
    {
     "name": "stderr",
     "output_type": "stream",
     "text": [
      "C:\\Users\\dheep\\AppData\\Local\\Temp\\ipykernel_28308\\2262779235.py:22: SettingWithCopyWarning: \n",
      "A value is trying to be set on a copy of a slice from a DataFrame.\n",
      "Try using .loc[row_indexer,col_indexer] = value instead\n",
      "\n",
      "See the caveats in the documentation: https://pandas.pydata.org/pandas-docs/stable/user_guide/indexing.html#returning-a-view-versus-a-copy\n",
      "  filtered_books['Estimated-Rating'] = filtered_books['ISBN'].apply(lambda x: model.predict(user_id, x).est)\n",
      "C:\\Users\\dheep\\AppData\\Local\\Temp\\ipykernel_28308\\2408220243.py:7: SettingWithCopyWarning: \n",
      "A value is trying to be set on a copy of a slice from a DataFrame.\n",
      "Try using .loc[row_indexer,col_indexer] = value instead\n",
      "\n",
      "See the caveats in the documentation: https://pandas.pydata.org/pandas-docs/stable/user_guide/indexing.html#returning-a-view-versus-a-copy\n",
      "  other_books['Estimated-Rating'] = other_books['ISBN'].apply(lambda x: model.predict(user_id, x).est)\n"
     ]
    },
    {
     "name": "stdout",
     "output_type": "stream",
     "text": [
      "User Location: pinckney, michigan, usa, User Age Group: Adult\n"
     ]
    },
    {
     "name": "stderr",
     "output_type": "stream",
     "text": [
      "C:\\Users\\dheep\\AppData\\Local\\Temp\\ipykernel_28308\\2262779235.py:22: SettingWithCopyWarning: \n",
      "A value is trying to be set on a copy of a slice from a DataFrame.\n",
      "Try using .loc[row_indexer,col_indexer] = value instead\n",
      "\n",
      "See the caveats in the documentation: https://pandas.pydata.org/pandas-docs/stable/user_guide/indexing.html#returning-a-view-versus-a-copy\n",
      "  filtered_books['Estimated-Rating'] = filtered_books['ISBN'].apply(lambda x: model.predict(user_id, x).est)\n",
      "C:\\Users\\dheep\\AppData\\Local\\Temp\\ipykernel_28308\\2408220243.py:7: SettingWithCopyWarning: \n",
      "A value is trying to be set on a copy of a slice from a DataFrame.\n",
      "Try using .loc[row_indexer,col_indexer] = value instead\n",
      "\n",
      "See the caveats in the documentation: https://pandas.pydata.org/pandas-docs/stable/user_guide/indexing.html#returning-a-view-versus-a-copy\n",
      "  other_books['Estimated-Rating'] = other_books['ISBN'].apply(lambda x: model.predict(user_id, x).est)\n"
     ]
    }
   ],
   "source": [
    "for user_id in df['User-ID'].unique()[:100]:\n",
    "    matrix_rec = get_matrix_factorization_recommendations(user_id, df, svd_model, n_recommendations=5)\n",
    "    content_rec = get_content_based_recommendations_ann(user_id, df, nn_model, tfidf_matrix, n_recommendations=5)\n",
    "    popularity_rec = get_popularity_based_recommendations(df, popular_books, n_recommendations=5)\n",
    "    agelocation_rec = get_recommendations_by_age_location(user_id, df, model, n_recommendations=5)\n",
    "    collaborativefiltering_rec = get_book_recommendations(user_id, df, model, n_recommendations=5)\n",
    "    \n",
    "    recommendations_for_first_100.append({\n",
    "        'User-ID': user_id,\n",
    "        'Matrix Factorization Recommendations': matrix_rec.to_dict(orient='records'),\n",
    "        'Content-Based Recommendations': content_rec.to_dict(orient='records'),\n",
    "        'Popularity-Based Recommendations': popularity_rec.to_dict(orient='records'),\n",
    "        'Age-Location Based Recommendations': agelocation_rec.to_dict(orient='records'),\n",
    "        'Collaborative-Filtering Based Recommendations': collaborativefiltering_rec.to_dict(orient='records')\n",
    "    })"
   ]
  },
  {
   "cell_type": "code",
   "execution_count": 29,
   "id": "846ada80",
   "metadata": {},
   "outputs": [
    {
     "data": {
      "text/html": [
       "<div>\n",
       "<style scoped>\n",
       "    .dataframe tbody tr th:only-of-type {\n",
       "        vertical-align: middle;\n",
       "    }\n",
       "\n",
       "    .dataframe tbody tr th {\n",
       "        vertical-align: top;\n",
       "    }\n",
       "\n",
       "    .dataframe thead th {\n",
       "        text-align: right;\n",
       "    }\n",
       "</style>\n",
       "<table border=\"1\" class=\"dataframe\">\n",
       "  <thead>\n",
       "    <tr style=\"text-align: right;\">\n",
       "      <th></th>\n",
       "      <th>User-ID</th>\n",
       "      <th>Matrix Factorization Recommendations</th>\n",
       "      <th>Content-Based Recommendations</th>\n",
       "      <th>Popularity-Based Recommendations</th>\n",
       "      <th>Age-Location Based Recommendations</th>\n",
       "      <th>Collaborative-Filtering Based Recommendations</th>\n",
       "    </tr>\n",
       "  </thead>\n",
       "  <tbody>\n",
       "    <tr>\n",
       "      <th>0</th>\n",
       "      <td>2</td>\n",
       "      <td>[{'Book-Title': 'Harry Potter and the Goblet o...</td>\n",
       "      <td>[{'Book-Title': 'Classical mythology', 'Book-A...</td>\n",
       "      <td>[{'Book-Title': 'Wild Animus', 'Book-Author': ...</td>\n",
       "      <td>[{'Book-Title': 'The Clan of the Cave Bear : a...</td>\n",
       "      <td>[{'Book-Title': 'Free', 'Book-Author': 'Paul V...</td>\n",
       "    </tr>\n",
       "    <tr>\n",
       "      <th>1</th>\n",
       "      <td>8</td>\n",
       "      <td>[{'Book-Title': 'The Fellowship of the Ring (T...</td>\n",
       "      <td>[{'Book-Title': 'Clara Callan', 'Book-Author':...</td>\n",
       "      <td>[{'Book-Title': 'Wild Animus', 'Book-Author': ...</td>\n",
       "      <td>[{'Book-Title': 'The Stand (The Complete and U...</td>\n",
       "      <td>[{'Book-Title': 'Free', 'Book-Author': 'Paul V...</td>\n",
       "    </tr>\n",
       "    <tr>\n",
       "      <th>2</th>\n",
       "      <td>11400</td>\n",
       "      <td>[{'Book-Title': 'The Da Vinci Code', 'Book-Aut...</td>\n",
       "      <td>[{'Book-Title': 'Clara Callan', 'Book-Author':...</td>\n",
       "      <td>[{'Book-Title': 'Wild Animus', 'Book-Author': ...</td>\n",
       "      <td>[{'Book-Title': 'The Saving Graces: A Novel', ...</td>\n",
       "      <td>[{'Book-Title': 'From Potter's Field', 'Book-A...</td>\n",
       "    </tr>\n",
       "    <tr>\n",
       "      <th>3</th>\n",
       "      <td>11676</td>\n",
       "      <td>[{'Book-Title': 'Corelli's Mandolin : A Novel'...</td>\n",
       "      <td>[{'Book-Title': 'Clara Callan', 'Book-Author':...</td>\n",
       "      <td>[{'Book-Title': 'Wild Animus', 'Book-Author': ...</td>\n",
       "      <td>[{'Book-Title': 'The Women of Brewster Place (...</td>\n",
       "      <td>[{'Book-Title': 'The Sixteen Pleasures: A Nove...</td>\n",
       "    </tr>\n",
       "    <tr>\n",
       "      <th>4</th>\n",
       "      <td>41385</td>\n",
       "      <td>[{'Book-Title': 'Harry Potter and the Goblet o...</td>\n",
       "      <td>[{'Book-Title': 'Clara Callan', 'Book-Author':...</td>\n",
       "      <td>[{'Book-Title': 'Wild Animus', 'Book-Author': ...</td>\n",
       "      <td>[{'Book-Title': 'The Red Tent (Bestselling Bac...</td>\n",
       "      <td>[{'Book-Title': 'Free', 'Book-Author': 'Paul V...</td>\n",
       "    </tr>\n",
       "    <tr>\n",
       "      <th>5</th>\n",
       "      <td>67544</td>\n",
       "      <td>[{'Book-Title': 'Seabiscuit: An American Legen...</td>\n",
       "      <td>[{'Book-Title': 'Clara Callan', 'Book-Author':...</td>\n",
       "      <td>[{'Book-Title': 'Wild Animus', 'Book-Author': ...</td>\n",
       "      <td>[{'Book-Title': 'The Catcher in the Rye', 'Boo...</td>\n",
       "      <td>[{'Book-Title': 'Free', 'Book-Author': 'Paul V...</td>\n",
       "    </tr>\n",
       "    <tr>\n",
       "      <th>6</th>\n",
       "      <td>85526</td>\n",
       "      <td>[{'Book-Title': 'Left Behind: A Novel of the E...</td>\n",
       "      <td>[{'Book-Title': 'Clara Callan', 'Book-Author':...</td>\n",
       "      <td>[{'Book-Title': 'Wild Animus', 'Book-Author': ...</td>\n",
       "      <td>[{'Book-Title': 'The Bourne Identity', 'Book-A...</td>\n",
       "      <td>[{'Book-Title': 'The Hot Zone', 'Book-Author':...</td>\n",
       "    </tr>\n",
       "    <tr>\n",
       "      <th>7</th>\n",
       "      <td>96054</td>\n",
       "      <td>[{'Book-Title': 'Bridget Jones: The Edge of Re...</td>\n",
       "      <td>[{'Book-Title': 'Clara Callan', 'Book-Author':...</td>\n",
       "      <td>[{'Book-Title': 'Wild Animus', 'Book-Author': ...</td>\n",
       "      <td>[{'Book-Title': 'Empire Falls', 'Book-Author':...</td>\n",
       "      <td>[{'Book-Title': 'Girl with a Pearl Earring', '...</td>\n",
       "    </tr>\n",
       "    <tr>\n",
       "      <th>8</th>\n",
       "      <td>116866</td>\n",
       "      <td>[{'Book-Title': 'The Beach House', 'Book-Autho...</td>\n",
       "      <td>[{'Book-Title': 'Clara Callan', 'Book-Author':...</td>\n",
       "      <td>[{'Book-Title': 'Wild Animus', 'Book-Author': ...</td>\n",
       "      <td>[{'Book-Title': 'What Dreams May Come : A Nove...</td>\n",
       "      <td>[{'Book-Title': 'SEAT OF THE SOUL', 'Book-Auth...</td>\n",
       "    </tr>\n",
       "    <tr>\n",
       "      <th>9</th>\n",
       "      <td>123629</td>\n",
       "      <td>[{'Book-Title': 'Harry Potter and the Prisoner...</td>\n",
       "      <td>[{'Book-Title': 'Clara Callan', 'Book-Author':...</td>\n",
       "      <td>[{'Book-Title': 'Wild Animus', 'Book-Author': ...</td>\n",
       "      <td>[{'Book-Title': 'To Kill a Mockingbird', 'Book...</td>\n",
       "      <td>[{'Book-Title': 'Free', 'Book-Author': 'Paul V...</td>\n",
       "    </tr>\n",
       "  </tbody>\n",
       "</table>\n",
       "</div>"
      ],
      "text/plain": [
       "   User-ID               Matrix Factorization Recommendations  \\\n",
       "0        2  [{'Book-Title': 'Harry Potter and the Goblet o...   \n",
       "1        8  [{'Book-Title': 'The Fellowship of the Ring (T...   \n",
       "2    11400  [{'Book-Title': 'The Da Vinci Code', 'Book-Aut...   \n",
       "3    11676  [{'Book-Title': 'Corelli's Mandolin : A Novel'...   \n",
       "4    41385  [{'Book-Title': 'Harry Potter and the Goblet o...   \n",
       "5    67544  [{'Book-Title': 'Seabiscuit: An American Legen...   \n",
       "6    85526  [{'Book-Title': 'Left Behind: A Novel of the E...   \n",
       "7    96054  [{'Book-Title': 'Bridget Jones: The Edge of Re...   \n",
       "8   116866  [{'Book-Title': 'The Beach House', 'Book-Autho...   \n",
       "9   123629  [{'Book-Title': 'Harry Potter and the Prisoner...   \n",
       "\n",
       "                       Content-Based Recommendations  \\\n",
       "0  [{'Book-Title': 'Classical mythology', 'Book-A...   \n",
       "1  [{'Book-Title': 'Clara Callan', 'Book-Author':...   \n",
       "2  [{'Book-Title': 'Clara Callan', 'Book-Author':...   \n",
       "3  [{'Book-Title': 'Clara Callan', 'Book-Author':...   \n",
       "4  [{'Book-Title': 'Clara Callan', 'Book-Author':...   \n",
       "5  [{'Book-Title': 'Clara Callan', 'Book-Author':...   \n",
       "6  [{'Book-Title': 'Clara Callan', 'Book-Author':...   \n",
       "7  [{'Book-Title': 'Clara Callan', 'Book-Author':...   \n",
       "8  [{'Book-Title': 'Clara Callan', 'Book-Author':...   \n",
       "9  [{'Book-Title': 'Clara Callan', 'Book-Author':...   \n",
       "\n",
       "                    Popularity-Based Recommendations  \\\n",
       "0  [{'Book-Title': 'Wild Animus', 'Book-Author': ...   \n",
       "1  [{'Book-Title': 'Wild Animus', 'Book-Author': ...   \n",
       "2  [{'Book-Title': 'Wild Animus', 'Book-Author': ...   \n",
       "3  [{'Book-Title': 'Wild Animus', 'Book-Author': ...   \n",
       "4  [{'Book-Title': 'Wild Animus', 'Book-Author': ...   \n",
       "5  [{'Book-Title': 'Wild Animus', 'Book-Author': ...   \n",
       "6  [{'Book-Title': 'Wild Animus', 'Book-Author': ...   \n",
       "7  [{'Book-Title': 'Wild Animus', 'Book-Author': ...   \n",
       "8  [{'Book-Title': 'Wild Animus', 'Book-Author': ...   \n",
       "9  [{'Book-Title': 'Wild Animus', 'Book-Author': ...   \n",
       "\n",
       "                  Age-Location Based Recommendations  \\\n",
       "0  [{'Book-Title': 'The Clan of the Cave Bear : a...   \n",
       "1  [{'Book-Title': 'The Stand (The Complete and U...   \n",
       "2  [{'Book-Title': 'The Saving Graces: A Novel', ...   \n",
       "3  [{'Book-Title': 'The Women of Brewster Place (...   \n",
       "4  [{'Book-Title': 'The Red Tent (Bestselling Bac...   \n",
       "5  [{'Book-Title': 'The Catcher in the Rye', 'Boo...   \n",
       "6  [{'Book-Title': 'The Bourne Identity', 'Book-A...   \n",
       "7  [{'Book-Title': 'Empire Falls', 'Book-Author':...   \n",
       "8  [{'Book-Title': 'What Dreams May Come : A Nove...   \n",
       "9  [{'Book-Title': 'To Kill a Mockingbird', 'Book...   \n",
       "\n",
       "       Collaborative-Filtering Based Recommendations  \n",
       "0  [{'Book-Title': 'Free', 'Book-Author': 'Paul V...  \n",
       "1  [{'Book-Title': 'Free', 'Book-Author': 'Paul V...  \n",
       "2  [{'Book-Title': 'From Potter's Field', 'Book-A...  \n",
       "3  [{'Book-Title': 'The Sixteen Pleasures: A Nove...  \n",
       "4  [{'Book-Title': 'Free', 'Book-Author': 'Paul V...  \n",
       "5  [{'Book-Title': 'Free', 'Book-Author': 'Paul V...  \n",
       "6  [{'Book-Title': 'The Hot Zone', 'Book-Author':...  \n",
       "7  [{'Book-Title': 'Girl with a Pearl Earring', '...  \n",
       "8  [{'Book-Title': 'SEAT OF THE SOUL', 'Book-Auth...  \n",
       "9  [{'Book-Title': 'Free', 'Book-Author': 'Paul V...  "
      ]
     },
     "execution_count": 29,
     "metadata": {},
     "output_type": "execute_result"
    }
   ],
   "source": [
    "recommendations_df = pd.DataFrame(recommendations_for_first_100)\n",
    "\n",
    "recommendations_df.head(10)"
   ]
  },
  {
   "cell_type": "code",
   "execution_count": null,
   "id": "5f11bbb3",
   "metadata": {},
   "outputs": [],
   "source": []
  }
 ],
 "metadata": {
  "kernelspec": {
   "display_name": "Python 3 (ipykernel)",
   "language": "python",
   "name": "python3"
  },
  "language_info": {
   "codemirror_mode": {
    "name": "ipython",
    "version": 3
   },
   "file_extension": ".py",
   "mimetype": "text/x-python",
   "name": "python",
   "nbconvert_exporter": "python",
   "pygments_lexer": "ipython3",
   "version": "3.10.9"
  }
 },
 "nbformat": 4,
 "nbformat_minor": 5
}
